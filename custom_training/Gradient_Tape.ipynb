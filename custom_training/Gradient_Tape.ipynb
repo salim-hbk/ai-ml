{
  "nbformat": 4,
  "nbformat_minor": 0,
  "metadata": {
    "colab": {
      "name": "Gradient_Tape.ipynb",
      "provenance": [],
      "authorship_tag": "ABX9TyOCcg9m2MnktzMsRiZkK/dU",
      "include_colab_link": true
    },
    "kernelspec": {
      "name": "python3",
      "display_name": "Python 3"
    }
  },
  "cells": [
    {
      "cell_type": "markdown",
      "metadata": {
        "id": "view-in-github",
        "colab_type": "text"
      },
      "source": [
        "<a href=\"https://colab.research.google.com/github/salim-hbk/ai-ml/blob/main/Gradient_Tape.ipynb\" target=\"_parent\"><img src=\"https://colab.research.google.com/assets/colab-badge.svg\" alt=\"Open In Colab\"/></a>"
      ]
    },
    {
      "cell_type": "code",
      "metadata": {
        "id": "cn_bg0VjYFLS"
      },
      "source": [
        "import tensorflow as tf\r\n",
        "import numpy as np"
      ],
      "execution_count": 25,
      "outputs": []
    },
    {
      "cell_type": "code",
      "metadata": {
        "id": "ZWagu0spYYMB",
        "colab": {
          "base_uri": "https://localhost:8080/"
        },
        "outputId": "7ae935ac-ba64-4fc1-cdb2-c9efc0daa6d4"
      },
      "source": [
        "ex_1 = np.arange(1, 9)\r\n",
        "constant_1 = tf.constant(ex_1, shape=(8,))\r\n",
        "constant_1"
      ],
      "execution_count": 7,
      "outputs": [
        {
          "output_type": "execute_result",
          "data": {
            "text/plain": [
              "<tf.Tensor: shape=(8,), dtype=int64, numpy=array([1, 2, 3, 4, 5, 6, 7, 8])>"
            ]
          },
          "metadata": {
            "tags": []
          },
          "execution_count": 7
        }
      ]
    },
    {
      "cell_type": "code",
      "metadata": {
        "colab": {
          "base_uri": "https://localhost:8080/"
        },
        "id": "WpQvY6Nqa0rV",
        "outputId": "f2849595-13c1-439e-a6d4-0957bc1f93c7"
      },
      "source": [
        "ex_1 = np.arange(1, 9)\r\n",
        "square_1 = tf.square(ex_1)\r\n",
        "square_2 = tf.square(2)\r\n",
        "square_1, square_2"
      ],
      "execution_count": 10,
      "outputs": [
        {
          "output_type": "execute_result",
          "data": {
            "text/plain": [
              "(<tf.Tensor: shape=(8,), dtype=int64, numpy=array([ 1,  4,  9, 16, 25, 36, 49, 64])>,\n",
              " <tf.Tensor: shape=(), dtype=int32, numpy=4>)"
            ]
          },
          "metadata": {
            "tags": []
          },
          "execution_count": 10
        }
      ]
    },
    {
      "cell_type": "code",
      "metadata": {
        "colab": {
          "base_uri": "https://localhost:8080/"
        },
        "id": "IGTivWGUczho",
        "outputId": "d787ee9d-23a9-4079-b3a7-d8214441a0cf"
      },
      "source": [
        "constant_1_2x4 =tf.reshape(constant_1, shape=(2,4))\r\n",
        "constant_1_2x4"
      ],
      "execution_count": 14,
      "outputs": [
        {
          "output_type": "execute_result",
          "data": {
            "text/plain": [
              "<tf.Tensor: shape=(2, 4), dtype=int64, numpy=\n",
              "array([[1, 2, 3, 4],\n",
              "       [5, 6, 7, 8]])>"
            ]
          },
          "metadata": {
            "tags": []
          },
          "execution_count": 14
        }
      ]
    },
    {
      "cell_type": "code",
      "metadata": {
        "colab": {
          "base_uri": "https://localhost:8080/"
        },
        "id": "6CcbZBKcdTcJ",
        "outputId": "89f02ccd-e415-4996-8122-b141cb637831"
      },
      "source": [
        "mat_a = np.arange(1,9)\r\n",
        "mat_b = np.arange(11, 19)\r\n",
        "tensor_1 = tf.Variable(mat_a, shape=(8))\r\n",
        "tensor_2 = tf.Variable(mat_b, shape=(8))\r\n",
        "result = tensor_1 + tensor_2\r\n",
        "result"
      ],
      "execution_count": 24,
      "outputs": [
        {
          "output_type": "execute_result",
          "data": {
            "text/plain": [
              "<tf.Tensor: shape=(8,), dtype=int64, numpy=array([12, 14, 16, 18, 20, 22, 24, 26])>"
            ]
          },
          "metadata": {
            "tags": []
          },
          "execution_count": 24
        }
      ]
    },
    {
      "cell_type": "code",
      "metadata": {
        "colab": {
          "base_uri": "https://localhost:8080/"
        },
        "id": "qqY_2vBZfXh_",
        "outputId": "00c094dd-3580-45af-8d08-0d4f85712d74"
      },
      "source": [
        "x  = tf.constant(2.0, shape=(1))\r\n",
        "with tf.GradientTape() as t:\r\n",
        "  t.watch(x)\r\n",
        "  y = 3*x**3 - 2*x**2 + x\r\n",
        "  z = tf.reduce_sum(y)\r\n",
        "\r\n",
        "dz_dx = t.gradient(z, x)\r\n",
        "dz_dx"
      ],
      "execution_count": 29,
      "outputs": [
        {
          "output_type": "execute_result",
          "data": {
            "text/plain": [
              "<tf.Tensor: shape=(1,), dtype=float32, numpy=array([29.], dtype=float32)>"
            ]
          },
          "metadata": {
            "tags": []
          },
          "execution_count": 29
        }
      ]
    },
    {
      "cell_type": "code",
      "metadata": {
        "colab": {
          "base_uri": "https://localhost:8080/"
        },
        "id": "UlakR11pwsSd",
        "outputId": "6a17535e-c4e0-4cdc-a32d-91ca7045ca28"
      },
      "source": [
        "(9* (2**2)) - (4*2) +2"
      ],
      "execution_count": 30,
      "outputs": [
        {
          "output_type": "execute_result",
          "data": {
            "text/plain": [
              "30"
            ]
          },
          "metadata": {
            "tags": []
          },
          "execution_count": 30
        }
      ]
    },
    {
      "cell_type": "code",
      "metadata": {
        "colab": {
          "base_uri": "https://localhost:8080/"
        },
        "id": "L7vzNnp2xR77",
        "outputId": "376b2a94-453e-4d61-af83-ab89409bc613"
      },
      "source": [
        "36-8"
      ],
      "execution_count": 32,
      "outputs": [
        {
          "output_type": "execute_result",
          "data": {
            "text/plain": [
              "28"
            ]
          },
          "metadata": {
            "tags": []
          },
          "execution_count": 32
        }
      ]
    }
  ]
}