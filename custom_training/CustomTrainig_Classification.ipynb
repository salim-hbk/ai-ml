{
  "nbformat": 4,
  "nbformat_minor": 0,
  "metadata": {
    "colab": {
      "name": "CustomTrainig_Classification.ipynb",
      "provenance": [],
      "authorship_tag": "ABX9TyMsJI+DrCdHqHH0+tMGUze7",
      "include_colab_link": true
    },
    "kernelspec": {
      "name": "python3",
      "display_name": "Python 3"
    }
  },
  "cells": [
    {
      "cell_type": "markdown",
      "metadata": {
        "id": "view-in-github",
        "colab_type": "text"
      },
      "source": [
        "<a href=\"https://colab.research.google.com/github/salim-hbk/ai-ml/blob/main/CustomTrainig_Classification.ipynb\" target=\"_parent\"><img src=\"https://colab.research.google.com/assets/colab-badge.svg\" alt=\"Open In Colab\"/></a>"
      ]
    },
    {
      "cell_type": "code",
      "metadata": {
        "id": "yqVkb80Vk3Q0"
      },
      "source": [
        "import tensorflow as tf\r\n",
        "from tensorflow.keras.models import Model\r\n",
        "from tensorflow.keras.layers import Dense, Input\r\n",
        "\r\n",
        "import numpy as np\r\n",
        "import matplotlib.pyplot as plt\r\n",
        "import matplotlib.ticker as mticker\r\n",
        "import pandas as pd\r\n",
        "from sklearn.model_selection import train_test_split\r\n",
        "from sklearn.metrics import confusion_matrix\r\n",
        "import itertools\r\n",
        "from tqdm import tqdm\r\n",
        "import tensorflow_datasets as tfds"
      ],
      "execution_count": 115,
      "outputs": []
    },
    {
      "cell_type": "code",
      "metadata": {
        "colab": {
          "base_uri": "https://localhost:8080/",
          "height": 204
        },
        "id": "IvOpjOD7leVm",
        "outputId": "46eea7cd-c657-4fbb-8236-bd250d019765"
      },
      "source": [
        "DATASET_URL = \"https://archive.ics.uci.edu/ml/machine-learning-databases/breast-cancer-wisconsin/breast-cancer-wisconsin.data\"\r\n",
        "col_names = [\"id\", \"clump_thickness\", \"un_cell_size\", \"un_cell_shape\", \"marginal_adheshion\", \"single_eph_cell_size\", \"bare_nuclei\", \"bland_chromatin\", \"normal_nucleoli\", \"mitoses\", \"class\"]\r\n",
        "df = pd.read_csv(DATASET_URL, names=col_names)\r\n",
        "df.head()"
      ],
      "execution_count": 116,
      "outputs": [
        {
          "output_type": "execute_result",
          "data": {
            "text/html": [
              "<div>\n",
              "<style scoped>\n",
              "    .dataframe tbody tr th:only-of-type {\n",
              "        vertical-align: middle;\n",
              "    }\n",
              "\n",
              "    .dataframe tbody tr th {\n",
              "        vertical-align: top;\n",
              "    }\n",
              "\n",
              "    .dataframe thead th {\n",
              "        text-align: right;\n",
              "    }\n",
              "</style>\n",
              "<table border=\"1\" class=\"dataframe\">\n",
              "  <thead>\n",
              "    <tr style=\"text-align: right;\">\n",
              "      <th></th>\n",
              "      <th>id</th>\n",
              "      <th>clump_thickness</th>\n",
              "      <th>un_cell_size</th>\n",
              "      <th>un_cell_shape</th>\n",
              "      <th>marginal_adheshion</th>\n",
              "      <th>single_eph_cell_size</th>\n",
              "      <th>bare_nuclei</th>\n",
              "      <th>bland_chromatin</th>\n",
              "      <th>normal_nucleoli</th>\n",
              "      <th>mitoses</th>\n",
              "      <th>class</th>\n",
              "    </tr>\n",
              "  </thead>\n",
              "  <tbody>\n",
              "    <tr>\n",
              "      <th>0</th>\n",
              "      <td>1000025</td>\n",
              "      <td>5</td>\n",
              "      <td>1</td>\n",
              "      <td>1</td>\n",
              "      <td>1</td>\n",
              "      <td>2</td>\n",
              "      <td>1</td>\n",
              "      <td>3</td>\n",
              "      <td>1</td>\n",
              "      <td>1</td>\n",
              "      <td>2</td>\n",
              "    </tr>\n",
              "    <tr>\n",
              "      <th>1</th>\n",
              "      <td>1002945</td>\n",
              "      <td>5</td>\n",
              "      <td>4</td>\n",
              "      <td>4</td>\n",
              "      <td>5</td>\n",
              "      <td>7</td>\n",
              "      <td>10</td>\n",
              "      <td>3</td>\n",
              "      <td>2</td>\n",
              "      <td>1</td>\n",
              "      <td>2</td>\n",
              "    </tr>\n",
              "    <tr>\n",
              "      <th>2</th>\n",
              "      <td>1015425</td>\n",
              "      <td>3</td>\n",
              "      <td>1</td>\n",
              "      <td>1</td>\n",
              "      <td>1</td>\n",
              "      <td>2</td>\n",
              "      <td>2</td>\n",
              "      <td>3</td>\n",
              "      <td>1</td>\n",
              "      <td>1</td>\n",
              "      <td>2</td>\n",
              "    </tr>\n",
              "    <tr>\n",
              "      <th>3</th>\n",
              "      <td>1016277</td>\n",
              "      <td>6</td>\n",
              "      <td>8</td>\n",
              "      <td>8</td>\n",
              "      <td>1</td>\n",
              "      <td>3</td>\n",
              "      <td>4</td>\n",
              "      <td>3</td>\n",
              "      <td>7</td>\n",
              "      <td>1</td>\n",
              "      <td>2</td>\n",
              "    </tr>\n",
              "    <tr>\n",
              "      <th>4</th>\n",
              "      <td>1017023</td>\n",
              "      <td>4</td>\n",
              "      <td>1</td>\n",
              "      <td>1</td>\n",
              "      <td>3</td>\n",
              "      <td>2</td>\n",
              "      <td>1</td>\n",
              "      <td>3</td>\n",
              "      <td>1</td>\n",
              "      <td>1</td>\n",
              "      <td>2</td>\n",
              "    </tr>\n",
              "  </tbody>\n",
              "</table>\n",
              "</div>"
            ],
            "text/plain": [
              "        id  clump_thickness  un_cell_size  ...  normal_nucleoli  mitoses  class\n",
              "0  1000025                5             1  ...                1        1      2\n",
              "1  1002945                5             4  ...                2        1      2\n",
              "2  1015425                3             1  ...                1        1      2\n",
              "3  1016277                6             8  ...                7        1      2\n",
              "4  1017023                4             1  ...                1        1      2\n",
              "\n",
              "[5 rows x 11 columns]"
            ]
          },
          "metadata": {
            "tags": []
          },
          "execution_count": 116
        }
      ]
    },
    {
      "cell_type": "code",
      "metadata": {
        "colab": {
          "base_uri": "https://localhost:8080/",
          "height": 350
        },
        "id": "tq73Lmo1myNf",
        "outputId": "39bfceb8-ce4c-4de5-935d-1fa123664c23"
      },
      "source": [
        "plt.hist(df['class'], bins=20)"
      ],
      "execution_count": 117,
      "outputs": [
        {
          "output_type": "execute_result",
          "data": {
            "text/plain": [
              "(array([458.,   0.,   0.,   0.,   0.,   0.,   0.,   0.,   0.,   0.,   0.,\n",
              "          0.,   0.,   0.,   0.,   0.,   0.,   0.,   0., 241.]),\n",
              " array([2. , 2.1, 2.2, 2.3, 2.4, 2.5, 2.6, 2.7, 2.8, 2.9, 3. , 3.1, 3.2,\n",
              "        3.3, 3.4, 3.5, 3.6, 3.7, 3.8, 3.9, 4. ]),\n",
              " <a list of 20 Patch objects>)"
            ]
          },
          "metadata": {
            "tags": []
          },
          "execution_count": 117
        },
        {
          "output_type": "display_data",
          "data": {
            "image/png": "[encoded data removed]",
            "text/plain": [
              "<Figure size 432x288 with 1 Axes>"
            ]
          },
          "metadata": {
            "tags": [],
            "needs_background": "light"
          }
        }
      ]
    },
    {
      "cell_type": "code",
      "metadata": {
        "id": "MZAmaDxYsNJJ"
      },
      "source": [
        "df.pop(\"id\")\r\n",
        "df = df[df[\"bare_nuclei\"] != '?' ]\r\n",
        "df.bare_nuclei = pd.to_numeric(df.bare_nuclei)"
      ],
      "execution_count": 118,
      "outputs": []
    },
    {
      "cell_type": "code",
      "metadata": {
        "colab": {
          "base_uri": "https://localhost:8080/",
          "height": 204
        },
        "id": "L9_eIjD8uBvd",
        "outputId": "b2546b0a-87d0-4496-965f-d950f7682492"
      },
      "source": [
        "df['class'] = np.where(df['class']==2, 0, 1)\r\n",
        "df.head()"
      ],
      "execution_count": 119,
      "outputs": [
        {
          "output_type": "execute_result",
          "data": {
            "text/html": [
              "<div>\n",
              "<style scoped>\n",
              "    .dataframe tbody tr th:only-of-type {\n",
              "        vertical-align: middle;\n",
              "    }\n",
              "\n",
              "    .dataframe tbody tr th {\n",
              "        vertical-align: top;\n",
              "    }\n",
              "\n",
              "    .dataframe thead th {\n",
              "        text-align: right;\n",
              "    }\n",
              "</style>\n",
              "<table border=\"1\" class=\"dataframe\">\n",
              "  <thead>\n",
              "    <tr style=\"text-align: right;\">\n",
              "      <th></th>\n",
              "      <th>clump_thickness</th>\n",
              "      <th>un_cell_size</th>\n",
              "      <th>un_cell_shape</th>\n",
              "      <th>marginal_adheshion</th>\n",
              "      <th>single_eph_cell_size</th>\n",
              "      <th>bare_nuclei</th>\n",
              "      <th>bland_chromatin</th>\n",
              "      <th>normal_nucleoli</th>\n",
              "      <th>mitoses</th>\n",
              "      <th>class</th>\n",
              "    </tr>\n",
              "  </thead>\n",
              "  <tbody>\n",
              "    <tr>\n",
              "      <th>0</th>\n",
              "      <td>5</td>\n",
              "      <td>1</td>\n",
              "      <td>1</td>\n",
              "      <td>1</td>\n",
              "      <td>2</td>\n",
              "      <td>1</td>\n",
              "      <td>3</td>\n",
              "      <td>1</td>\n",
              "      <td>1</td>\n",
              "      <td>0</td>\n",
              "    </tr>\n",
              "    <tr>\n",
              "      <th>1</th>\n",
              "      <td>5</td>\n",
              "      <td>4</td>\n",
              "      <td>4</td>\n",
              "      <td>5</td>\n",
              "      <td>7</td>\n",
              "      <td>10</td>\n",
              "      <td>3</td>\n",
              "      <td>2</td>\n",
              "      <td>1</td>\n",
              "      <td>0</td>\n",
              "    </tr>\n",
              "    <tr>\n",
              "      <th>2</th>\n",
              "      <td>3</td>\n",
              "      <td>1</td>\n",
              "      <td>1</td>\n",
              "      <td>1</td>\n",
              "      <td>2</td>\n",
              "      <td>2</td>\n",
              "      <td>3</td>\n",
              "      <td>1</td>\n",
              "      <td>1</td>\n",
              "      <td>0</td>\n",
              "    </tr>\n",
              "    <tr>\n",
              "      <th>3</th>\n",
              "      <td>6</td>\n",
              "      <td>8</td>\n",
              "      <td>8</td>\n",
              "      <td>1</td>\n",
              "      <td>3</td>\n",
              "      <td>4</td>\n",
              "      <td>3</td>\n",
              "      <td>7</td>\n",
              "      <td>1</td>\n",
              "      <td>0</td>\n",
              "    </tr>\n",
              "    <tr>\n",
              "      <th>4</th>\n",
              "      <td>4</td>\n",
              "      <td>1</td>\n",
              "      <td>1</td>\n",
              "      <td>3</td>\n",
              "      <td>2</td>\n",
              "      <td>1</td>\n",
              "      <td>3</td>\n",
              "      <td>1</td>\n",
              "      <td>1</td>\n",
              "      <td>0</td>\n",
              "    </tr>\n",
              "  </tbody>\n",
              "</table>\n",
              "</div>"
            ],
            "text/plain": [
              "   clump_thickness  un_cell_size  ...  mitoses  class\n",
              "0                5             1  ...        1      0\n",
              "1                5             4  ...        1      0\n",
              "2                3             1  ...        1      0\n",
              "3                6             8  ...        1      0\n",
              "4                4             1  ...        1      0\n",
              "\n",
              "[5 rows x 10 columns]"
            ]
          },
          "metadata": {
            "tags": []
          },
          "execution_count": 119
        }
      ]
    },
    {
      "cell_type": "code",
      "metadata": {
        "id": "5HrcODzHulq7"
      },
      "source": [
        "train, test = train_test_split(df, test_size=0.2)"
      ],
      "execution_count": 120,
      "outputs": []
    },
    {
      "cell_type": "code",
      "metadata": {
        "id": "8KW-1ZZlwf98"
      },
      "source": [
        "train_stats = train.describe()\r\n",
        "train_stats.pop('class')\r\n",
        "train_stats = train_stats.transpose()"
      ],
      "execution_count": 121,
      "outputs": []
    },
    {
      "cell_type": "code",
      "metadata": {
        "id": "G2Opq8sUwyi1"
      },
      "source": [
        "train_y = train.pop('class')\r\n",
        "test_y = test.pop('class')"
      ],
      "execution_count": 122,
      "outputs": []
    },
    {
      "cell_type": "code",
      "metadata": {
        "id": "7zpDFOAVx21-"
      },
      "source": [
        "def norm(x):\r\n",
        "  return (x-train_stats['mean'])/train_stats['std']"
      ],
      "execution_count": 123,
      "outputs": []
    },
    {
      "cell_type": "code",
      "metadata": {
        "id": "h1CTrUgxyOL6"
      },
      "source": [
        "train_x = norm(train)\r\n",
        "test_x = norm(test)"
      ],
      "execution_count": 124,
      "outputs": []
    },
    {
      "cell_type": "code",
      "metadata": {
        "id": "qVyUyPl4yYhe"
      },
      "source": [
        "train_dataset = tf.data.Dataset.from_tensor_slices((train_x.values, train_y.values))\r\n",
        "test_dataset  = tf.data.Dataset.from_tensor_slices((test_x.values, test_y.values))"
      ],
      "execution_count": 125,
      "outputs": []
    },
    {
      "cell_type": "code",
      "metadata": {
        "id": "lMPeBAY1zGe0"
      },
      "source": [
        "batch_size = 32\r\n",
        "train_dataset = train_dataset.shuffle(buffer_size=len(train)).batch(batch_size)\r\n",
        "test_dataset  = test_dataset.shuffle(buffer_size=len(test)).batch(batch_size) "
      ],
      "execution_count": 126,
      "outputs": []
    },
    {
      "cell_type": "code",
      "metadata": {
        "colab": {
          "base_uri": "https://localhost:8080/"
        },
        "id": "DzHgO3f70vUw",
        "outputId": "034424b8-4bd7-41a8-d632-dfae268c220f"
      },
      "source": [
        "a = enumerate(train_dataset)\r\n",
        "len(list(a))"
      ],
      "execution_count": 127,
      "outputs": [
        {
          "output_type": "execute_result",
          "data": {
            "text/plain": [
              "18"
            ]
          },
          "metadata": {
            "tags": []
          },
          "execution_count": 127
        }
      ]
    },
    {
      "cell_type": "code",
      "metadata": {
        "id": "B2MoyS1s1Dys"
      },
      "source": [
        "def base_model():\r\n",
        "  input = tf.keras.layers.Input(shape=(len(train.columns)))\r\n",
        "  x = tf.keras.layers.Dense(128, activation='relu')(input)\r\n",
        "  x = tf.keras.layers.Dense(64, activation='relu')(x)\r\n",
        "  output = tf.keras.layers.Dense(1, activation='sigmoid')(x)\r\n",
        "  model = tf.keras.models.Model(inputs=input, outputs=output)\r\n",
        "  return model\r\n",
        "model = base_model()"
      ],
      "execution_count": 128,
      "outputs": []
    },
    {
      "cell_type": "code",
      "metadata": {
        "id": "J44BIm_72g1Z"
      },
      "source": [
        "optimizer = tf.keras.optimizers.RMSprop(lr=0.001)\r\n",
        "loss_object = tf.keras.losses.BinaryCrossentropy()"
      ],
      "execution_count": 129,
      "outputs": []
    },
    {
      "cell_type": "markdown",
      "metadata": {
        "id": "tfsrwD-G272N"
      },
      "source": [
        "Evaluating un trained model"
      ]
    },
    {
      "cell_type": "code",
      "metadata": {
        "colab": {
          "base_uri": "https://localhost:8080/"
        },
        "id": "_2NKej0e27Dx",
        "outputId": "4099357d-231c-4ad1-b0c5-afa8a933bccc"
      },
      "source": [
        "hist = model(test_x.values)\r\n",
        "hist = tf.reshape(hist, [-1])\r\n",
        "loss_value = loss_object(test_y.values, hist)\r\n",
        "print('Loss before traininf %.4f'% loss_value.numpy())"
      ],
      "execution_count": 139,
      "outputs": [
        {
          "output_type": "stream",
          "text": [
            "Loss before traininf 0.7347\n"
          ],
          "name": "stdout"
        }
      ]
    },
    {
      "cell_type": "code",
      "metadata": {
        "id": "AmOgPtLi7sxO"
      },
      "source": [
        "from sklearn.metrics import confusion_matrix"
      ],
      "execution_count": 131,
      "outputs": []
    },
    {
      "cell_type": "code",
      "metadata": {
        "id": "ev6R0jEW3mYf"
      },
      "source": [
        "def plot_confusion_matrix(y_true, y_pred, title='', labels=[0,1]):\r\n",
        "  cm = confusion_matrix(y_true, y_pred)\r\n",
        "  fig = plt.figure()\r\n",
        "  ax = fig.add_subplot(111)\r\n",
        "  cax = ax.matshow(cm)\r\n",
        "  plt.title(title)\r\n",
        "  fig.colorbar(cax)\r\n",
        "  ax.set_xticklabels([''] + labels)\r\n",
        "  ax.set_yticklabels([''] + labels)\r\n",
        "  plt.xlabel('Predicted')\r\n",
        "  plt.ylabel('True')\r\n",
        "  fmt = 'd'\r\n",
        "  thresh = cm.max() / 2.\r\n",
        "  for i, j in itertools.product(range(cm.shape[0]), range(cm.shape[1])):\r\n",
        "    plt.text(j, i, format(cm[i, j], fmt),\r\n",
        "            horizontalalignment=\"center\",\r\n",
        "            color=\"black\" if cm[i, j] > thresh else \"white\")\r\n",
        "  plt.show()"
      ],
      "execution_count": 132,
      "outputs": []
    },
    {
      "cell_type": "code",
      "metadata": {
        "colab": {
          "base_uri": "https://localhost:8080/",
          "height": 289
        },
        "id": "_D5EWmgC9T9N",
        "outputId": "d8678674-6594-47c0-f623-cb939b5c223d"
      },
      "source": [
        "plot_confusion_matrix(test_y.values, tf.round(hist), title='Confusion Matrix for Untrained Model')"
      ],
      "execution_count": 133,
      "outputs": [
        {
          "output_type": "display_data",
          "data": {
            "image/png": "[encoded data removed]",
            "text/plain": [
              "<Figure size 432x288 with 2 Axes>"
            ]
          },
          "metadata": {
            "tags": [],
            "needs_background": "light"
          }
        }
      ]
    },
    {
      "cell_type": "markdown",
      "metadata": {
        "id": "NzNf2HdiAUmr"
      },
      "source": [
        "# Define Custom F1Score Metric\r\n",
        "precision  = TP/TP+FP\r\n",
        "recall = TP/TP+FN\r\n",
        "\r\n",
        "F1_score = 2(precision*recall)/precision+recall\r\n",
        "\r\n",
        "We use confusion_matrix defined in tf.math to calculate precision and recall.\r\n",
        "\r\n",
        "Here you can see that we have subclassed tf.keras.Metric and implemented the three required methods update_state, result and reset_states.\r\n"
      ]
    },
    {
      "cell_type": "code",
      "metadata": {
        "id": "vBuYu2ao9d3G"
      },
      "source": [
        "class F1Score(tf.keras.metrics.Metric):\r\n",
        "  def __init__(self, name='f1_score', **kwargs):\r\n",
        "    super(F1Score, self).__init__(name=name, **kwargs)\r\n",
        "\r\n",
        "    self.tp = tf.Variable(0, dtype='int32')\r\n",
        "    self.tn = tf.Variable(0, dtype='int32')\r\n",
        "\r\n",
        "    self.fp = tf.Variable(0, dtype='int32')\r\n",
        "    self.fn = tf.Variable(0, dtype='int32')\r\n",
        "\r\n",
        "  def update_state(self, y_true, y_pred, sample_weight=None):\r\n",
        "    conf_matrix = tf.math.confusion_matrix(y_true, y_pred, num_classes=2)\r\n",
        "    self.tn.assign_add(conf_matrix[0][0])\r\n",
        "    self.tp.assign_add(conf_matrix[1][1])\r\n",
        "    self.fp.assign_add(conf_matrix[0][1])\r\n",
        "    self.fn.assign_add(conf_matrix[1][0])\r\n",
        "\r\n",
        "  def result(self):\r\n",
        "    # Calculate precision\r\n",
        "    if (self.tp + self.fp == 0):\r\n",
        "        precision = 1.0\r\n",
        "    else:\r\n",
        "        precision = self.tp / (self.tp + self.fp)\r\n",
        "\r\n",
        "    # Calculate recall\r\n",
        "    if (self.tp + self.fn == 0):\r\n",
        "      recall = 1.0\r\n",
        "    else:\r\n",
        "      recall = self.tp / (self.tp + self.fn)\r\n",
        "\r\n",
        "    f1_score = 2 * ((precision * recall) / (precision + recall))\r\n",
        "\r\n",
        "    return f1_score\r\n",
        "\r\n",
        "  def reset_states(self):\r\n",
        "    self.tp.assign(0)\r\n",
        "    self.tn.assign(0) \r\n",
        "    self.fp.assign(0)\r\n",
        "    self.fn.assign(0)\r\n",
        "\r\n",
        "    "
      ],
      "execution_count": 155,
      "outputs": []
    },
    {
      "cell_type": "code",
      "metadata": {
        "colab": {
          "base_uri": "https://localhost:8080/"
        },
        "id": "vlxf7GlgOszG",
        "outputId": "d4090780-21d1-449d-f16d-ba0222e6cf15"
      },
      "source": [
        "test_F1Score  = F1Score()\r\n",
        "\r\n",
        "test_F1Score.tp = tf.Variable(2, dtype = 'int32')\r\n",
        "test_F1Score.fp = tf.Variable(5, dtype = 'int32')\r\n",
        "test_F1Score.tn = tf.Variable(7, dtype = 'int32')\r\n",
        "test_F1Score.fn = tf.Variable(9, dtype = 'int32')\r\n",
        "test_F1Score.result()"
      ],
      "execution_count": 156,
      "outputs": [
        {
          "output_type": "execute_result",
          "data": {
            "text/plain": [
              "<tf.Tensor: shape=(), dtype=float64, numpy=0.2222222222222222>"
            ]
          },
          "metadata": {
            "tags": []
          },
          "execution_count": 156
        }
      ]
    },
    {
      "cell_type": "code",
      "metadata": {
        "id": "T_kVckAcPAQq"
      },
      "source": [
        "train_f1score_metric = F1Score()\r\n",
        "val_f1score_metric   = F1Score()\r\n",
        "\r\n",
        "train_acc_metric = tf.keras.metrics.BinaryAccuracy()\r\n",
        "val_acc_metric = tf.keras.metrics.BinaryAccuracy()"
      ],
      "execution_count": 157,
      "outputs": []
    },
    {
      "cell_type": "markdown",
      "metadata": {
        "id": "rC2arqcqPfhr"
      },
      "source": [
        "The core of training is using the model to calculate the logits on specific set of inputs and compute the loss(in this case binary crossentropy) by comparing the predicted outputs to the true outputs. We then update the trainable weights using the optimizer algorithm chosen. The optimizer algorithm requires our computed loss and partial derivatives of loss with respect to each of the trainable weights to make updates to the same.\r\n",
        "\r\n",
        "We use gradient tape to calculate the gradients and then update the model trainable weights using the optimizer."
      ]
    },
    {
      "cell_type": "code",
      "metadata": {
        "id": "qBUgABGaPX2A"
      },
      "source": [
        "def apply_gradients(x, y_true):\r\n",
        "  with tf.GradientTape() as t:\r\n",
        "    logits = model(x)\r\n",
        "    train_loss = loss_object(y_true, logits)\r\n",
        "\r\n",
        "  gradient = t.gradient(train_loss, model.trainable_weights)\r\n",
        "  optimizer.apply_gradients(zip(gradient, model.trainable_weights))\r\n",
        "\r\n",
        "  return logits, train_loss\r\n"
      ],
      "execution_count": 158,
      "outputs": []
    },
    {
      "cell_type": "markdown",
      "metadata": {
        "id": "2DcAqKu5Rj9G"
      },
      "source": [
        "This function performs training during one epoch. We run through all batches of training data in each epoch to make updates to trainable weights using our previous function. You can see that we also call update_state on our metrics to accumulate the value of our metrics.\r\n",
        "\r\n",
        "We are displaying a progress bar to indicate completion of training in each epoch. Here we use tqdm for displaying the progress bar."
      ]
    },
    {
      "cell_type": "code",
      "metadata": {
        "id": "hqPhATvuRlXL"
      },
      "source": [
        "def train_one_epoch(datasets, optimizer, loss_object, model, train_acc_metric, train_f1score_metric, verbose=True):\r\n",
        "  losses = []\r\n",
        "  for batch, (train_x, train_y) in enumerate(datasets):\r\n",
        "    logits, loss_value = apply_gradients(train_x, train_y)\r\n",
        "    losses.append(loss_value)\r\n",
        "\r\n",
        "    logits = tf.round(logits)\r\n",
        "    logits = tf.cast(logits, 'int64')\r\n",
        "\r\n",
        "    train_acc_metric.update_state(train_y, logits)\r\n",
        "    train_f1score_metric.update_state(train_y, logits)\r\n",
        "\r\n",
        "    if verbose:\r\n",
        "      print(\"Training loss for step %s: %.4f\" % (int(batch), float(loss_value)))\r\n",
        "\r\n",
        "  return losses"
      ],
      "execution_count": 164,
      "outputs": []
    },
    {
      "cell_type": "code",
      "metadata": {
        "id": "xFWVZ78LYTJL"
      },
      "source": [
        "def perform_validation():\r\n",
        "    losses = []\r\n",
        "\r\n",
        "    #Iterate through all batches of validation data.\r\n",
        "    for x_val, y_val in test_dataset:\r\n",
        "\r\n",
        "        #Calculate validation loss for current batch.\r\n",
        "        val_logits = model(x_val) \r\n",
        "        val_loss = loss_object(y_true=y_val, y_pred=val_logits)\r\n",
        "        losses.append(val_loss)\r\n",
        "\r\n",
        "        #Round off and cast outputs to either  or 1\r\n",
        "        val_logits = tf.cast(tf.round(model(x_val)), 'int64')\r\n",
        "\r\n",
        "        #Update validation metrics\r\n",
        "        val_acc_metric.update_state(y_val, val_logits)\r\n",
        "        val_f1score_metric.update_state(y_val, val_logits)\r\n",
        "        \r\n",
        "    return losses"
      ],
      "execution_count": 165,
      "outputs": []
    },
    {
      "cell_type": "markdown",
      "metadata": {
        "id": "3OHNAPb4YwUR"
      },
      "source": [
        "Next we define the training loop that runs through the training samples repeatedly over a fixed number of epochs. Here we combine the functions we built earlier to establish the following flow:\r\n",
        "\r\n",
        "Perform training over all batches of training data.\r\n",
        "\r\n",
        "1) Get values of metrics.\r\n",
        "\r\n",
        "2) Perform validation to calculate loss and update validation metrics on test data.\r\n",
        "\r\n",
        "3) Reset the metrics at the end of epoch.\r\n",
        "\r\n",
        "4) Display statistics at the end of each epoch.\r\n",
        "\r\n",
        "Note : We also calculate the training and validation losses for the whole epoch at the end of the epoch."
      ]
    },
    {
      "cell_type": "code",
      "metadata": {
        "colab": {
          "base_uri": "https://localhost:8080/"
        },
        "id": "ZPXifUVGYsBD",
        "outputId": "c7fc36e3-f792-427c-b275-42e28cde27bf"
      },
      "source": [
        "# Iterate over epochs.\r\n",
        "epochs = 5\r\n",
        "epochs_val_losses, epochs_train_losses = [], []\r\n",
        "\r\n",
        "for epoch in range(epochs):\r\n",
        "  print('start of epoch %d'%(epoch))\r\n",
        "\r\n",
        "  loss_train = train_one_epoch(train_dataset, optimizer, loss_obj, model, train_acc_metric, train_f1score_metric, True)\r\n",
        "\r\n",
        "  train_acc = train_acc_metric.result()\r\n",
        "  train_f1score = train_f1score_metric.result()\r\n",
        "\r\n",
        "  #Perform validation on all batches of test data\r\n",
        "  losses_val = perform_validation()\r\n",
        "\r\n",
        "  val_acc = val_acc_metric.result()\r\n",
        "  val_f1score = val_f1score_metric.result()\r\n",
        "\r\n",
        "  losses_train_mean = np.mean(loss_train)\r\n",
        "  losses_val_mean = np.mean(losses_val)\r\n",
        "\r\n",
        "  epochs_val_losses.append(losses_val_mean)\r\n",
        "  epochs_train_losses.append(losses_train_mean)\r\n",
        "\r\n",
        "  print('\\n Epcoh %s: Train loss: %.4f  Validation Loss: %.4f, Train Accuracy: %.4f, Validation Accuracy %.4f, Train F1 Score: %.4f, Validation F1 Score: %.4f' % (epoch, float(losses_train_mean), float(losses_val_mean), float(train_acc), float(val_acc), train_f1score, val_f1score))\r\n",
        "\r\n",
        "  train_acc_metric.reset_states()\r\n",
        "  train_f1score_metric.reset_states()\r\n",
        "\r\n",
        "  val_acc_metric.reset_states()\r\n",
        "  val_f1score_metric.reset_states()"
      ],
      "execution_count": 166,
      "outputs": [
        {
          "output_type": "stream",
          "text": [
            "start of epoch 0\n",
            "Training loss for step 0: 0.1491\n",
            "Training loss for step 1: 0.1613\n",
            "Training loss for step 2: 0.1462\n",
            "Training loss for step 3: 0.1298\n",
            "Training loss for step 4: 0.1098\n",
            "Training loss for step 5: 0.0804\n",
            "Training loss for step 6: 0.0885\n",
            "Training loss for step 7: 0.1353\n",
            "Training loss for step 8: 0.1262\n",
            "Training loss for step 9: 0.2237\n",
            "Training loss for step 10: 0.0843\n",
            "Training loss for step 11: 0.0691\n",
            "Training loss for step 12: 0.0542\n",
            "Training loss for step 13: 0.1400\n",
            "Training loss for step 14: 0.2713\n",
            "Training loss for step 15: 0.2338\n",
            "Training loss for step 16: 0.0651\n",
            "Training loss for step 17: 0.0971\n",
            "\n",
            " Epcoh 0: Train loss: 0.1314  Validation Loss: 0.1112, Train Accuracy: 0.9722, Validation Accuracy 0.9590, Train F1 Score: 0.9588, Validation F1 Score: 0.9592\n",
            "start of epoch 1\n",
            "Training loss for step 0: 0.0410\n",
            "Training loss for step 1: 0.0406\n",
            "Training loss for step 2: 0.1280\n",
            "Training loss for step 3: 0.2711\n",
            "Training loss for step 4: 0.0866\n",
            "Training loss for step 5: 0.0748\n",
            "Training loss for step 6: 0.0337\n",
            "Training loss for step 7: 0.0271\n",
            "Training loss for step 8: 0.1296\n",
            "Training loss for step 9: 0.0396\n",
            "Training loss for step 10: 0.0623\n",
            "Training loss for step 11: 0.0773\n",
            "Training loss for step 12: 0.0295\n",
            "Training loss for step 13: 0.1412\n",
            "Training loss for step 14: 0.0275\n",
            "Training loss for step 15: 0.1169\n",
            "Training loss for step 16: 0.0619\n",
            "Training loss for step 17: 0.0292\n",
            "\n",
            " Epcoh 1: Train loss: 0.0788  Validation Loss: 0.0781, Train Accuracy: 0.9740, Validation Accuracy 0.9750, Train F1 Score: 0.9610, Validation F1 Score: 0.9592\n",
            "start of epoch 2\n",
            "Training loss for step 0: 0.1446\n",
            "Training loss for step 1: 0.0238\n",
            "Training loss for step 2: 0.0256\n",
            "Training loss for step 3: 0.0252\n",
            "Training loss for step 4: 0.1140\n",
            "Training loss for step 5: 0.0358\n",
            "Training loss for step 6: 0.0281\n",
            "Training loss for step 7: 0.0264\n",
            "Training loss for step 8: 0.1739\n",
            "Training loss for step 9: 0.0103\n",
            "Training loss for step 10: 0.0633\n",
            "Training loss for step 11: 0.0416\n",
            "Training loss for step 12: 0.0228\n",
            "Training loss for step 13: 0.1312\n",
            "Training loss for step 14: 0.0165\n",
            "Training loss for step 15: 0.1214\n",
            "Training loss for step 16: 0.2155\n",
            "Training loss for step 17: 0.0883\n",
            "\n",
            " Epcoh 2: Train loss: 0.0727  Validation Loss: 0.0785, Train Accuracy: 0.9740, Validation Accuracy 0.9750, Train F1 Score: 0.9610, Validation F1 Score: 0.9592\n",
            "start of epoch 3\n",
            "Training loss for step 0: 0.1467\n",
            "Training loss for step 1: 0.0173\n",
            "Training loss for step 2: 0.0168\n",
            "Training loss for step 3: 0.0209\n",
            "Training loss for step 4: 0.0389\n",
            "Training loss for step 5: 0.1509\n",
            "Training loss for step 6: 0.1075\n",
            "Training loss for step 7: 0.0216\n",
            "Training loss for step 8: 0.0248\n",
            "Training loss for step 9: 0.0124\n",
            "Training loss for step 10: 0.0861\n",
            "Training loss for step 11: 0.0837\n",
            "Training loss for step 12: 0.0291\n",
            "Training loss for step 13: 0.0751\n",
            "Training loss for step 14: 0.0067\n",
            "Training loss for step 15: 0.1902\n",
            "Training loss for step 16: 0.0808\n",
            "Training loss for step 17: 0.0279\n",
            "\n",
            " Epcoh 3: Train loss: 0.0632  Validation Loss: 0.0716, Train Accuracy: 0.9757, Validation Accuracy 0.9750, Train F1 Score: 0.9639, Validation F1 Score: 0.9592\n",
            "start of epoch 4\n",
            "Training loss for step 0: 0.0184\n",
            "Training loss for step 1: 0.0135\n",
            "Training loss for step 2: 0.1124\n",
            "Training loss for step 3: 0.0071\n",
            "Training loss for step 4: 0.0482\n",
            "Training loss for step 5: 0.0364\n",
            "Training loss for step 6: 0.0058\n",
            "Training loss for step 7: 0.1114\n",
            "Training loss for step 8: 0.0053\n",
            "Training loss for step 9: 0.0325\n",
            "Training loss for step 10: 0.0881\n",
            "Training loss for step 11: 0.0266\n",
            "Training loss for step 12: 0.0175\n",
            "Training loss for step 13: 0.0298\n",
            "Training loss for step 14: 0.1824\n",
            "Training loss for step 15: 0.2173\n",
            "Training loss for step 16: 0.1205\n",
            "Training loss for step 17: 0.0039\n",
            "\n",
            " Epcoh 4: Train loss: 0.0598  Validation Loss: 0.1091, Train Accuracy: 0.9774, Validation Accuracy 0.9590, Train F1 Score: 0.9664, Validation F1 Score: 0.9592\n"
          ],
          "name": "stdout"
        }
      ]
    },
    {
      "cell_type": "code",
      "metadata": {
        "colab": {
          "base_uri": "https://localhost:8080/",
          "height": 281
        },
        "id": "__WtBxFQbW0P",
        "outputId": "9f3c14ea-65c3-4f60-b324-5fc707e49f27"
      },
      "source": [
        "def plot_metrics(train_metric, val_metric, metric_name, title, ylim=5):\r\n",
        "    plt.title(title)\r\n",
        "    plt.ylim(0,ylim)\r\n",
        "    plt.gca().xaxis.set_major_locator(mticker.MultipleLocator(1))\r\n",
        "    plt.plot(train_metric,color='blue',label=metric_name)\r\n",
        "    plt.plot(val_metric,color='green',label='val_' + metric_name)\r\n",
        "\r\n",
        "plot_metrics(epochs_train_losses, epochs_val_losses, \"Loss\", \"Loss\", ylim=1.0)"
      ],
      "execution_count": 167,
      "outputs": [
        {
          "output_type": "display_data",
          "data": {
            "image/png": "[encoded data removed]",
            "text/plain": [
              "<Figure size 432x288 with 1 Axes>"
            ]
          },
          "metadata": {
            "tags": [],
            "needs_background": "light"
          }
        }
      ]
    },
    {
      "cell_type": "code",
      "metadata": {
        "colab": {
          "base_uri": "https://localhost:8080/",
          "height": 289
        },
        "id": "XxDhYhQlcj5T",
        "outputId": "9095efb0-23d5-427c-b43b-9e8f4fabcd17"
      },
      "source": [
        "test_outputs = model(test_x.values)\r\n",
        "plot_confusion_matrix(test_y.values, tf.round(test_outputs), title='Confusion Matrix for Untrained Model')"
      ],
      "execution_count": 170,
      "outputs": [
        {
          "output_type": "display_data",
          "data": {
            "image/png": "[encoded data removed]",
            "text/plain": [
              "<Figure size 432x288 with 2 Axes>"
            ]
          },
          "metadata": {
            "tags": [],
            "needs_background": "light"
          }
        }
      ]
    }
  ]
}