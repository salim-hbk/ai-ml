{
  "nbformat": 4,
  "nbformat_minor": 0,
  "metadata": {
    "colab": {
      "name": "ClassificationWithLocalization.ipynb",
      "provenance": [],
      "authorship_tag": "ABX9TyM6Te3hXdNnqwTmth1tbaWh",
      "include_colab_link": true
    },
    "kernelspec": {
      "name": "python3",
      "display_name": "Python 3"
    },
    "accelerator": "GPU"
  },
  "cells": [
    {
      "cell_type": "markdown",
      "metadata": {
        "id": "view-in-github",
        "colab_type": "text"
      },
      "source": [
        "<a href=\"https://colab.research.google.com/github/salim-hbk/ai-ml/blob/main/ClassificationWithLocalization.ipynb\" target=\"_parent\"><img src=\"https://colab.research.google.com/assets/colab-badge.svg\" alt=\"Open In Colab\"/></a>"
      ]
    },
    {
      "cell_type": "markdown",
      "metadata": {
        "id": "veghqRVpAMRc"
      },
      "source": [
        "\r\n",
        "Image Classification and Object Localization\r\n",
        "In this lab, you'll build a CNN from scratch to:\r\n",
        "\r\n",
        "* classify the main subject in an image\r\n",
        "* localize it by drawing bounding boxes around it.\r\n",
        "We'll use the MNIST dataset to synthesize a custom dataset for the task:\r\n",
        "\r\n",
        "* Place each \"digit\" image on a black canvas of width 75 x 75 at random locations.\r\n",
        "* Calculate the corresponding bounding boxes for those \"digits\".\r\n",
        "The bounding box prediction can be modelled as a \"regression\" task, which means that the model will predict a numeric value (as opposed to a category)."
      ]
    },
    {
      "cell_type": "code",
      "metadata": {
        "colab": {
          "base_uri": "https://localhost:8080/"
        },
        "id": "3D-tIWxxAWOQ",
        "outputId": "e58a6672-a3b2-40d0-9bb3-8e2397747b6d"
      },
      "source": [
        "import os, re, time, json\r\n",
        "import PIL.Image, PIL.ImageFont, PIL.ImageDraw\r\n",
        "import numpy as np\r\n",
        "try:\r\n",
        "  # %tensorflow_version only exists in Colab.\r\n",
        "  %tensorflow_version 2.x\r\n",
        "except Exception:\r\n",
        "  pass\r\n",
        "import tensorflow as tf\r\n",
        "from matplotlib import pyplot as plt\r\n",
        "import tensorflow_datasets as tfds\r\n",
        "\r\n",
        "print(\"Tensorflow version \" + tf.__version__)"
      ],
      "execution_count": 1,
      "outputs": [
        {
          "output_type": "stream",
          "text": [
            "Tensorflow version 2.4.0\n"
          ],
          "name": "stdout"
        }
      ]
    },
    {
      "cell_type": "code",
      "metadata": {
        "id": "eTcKIRMUAaxe"
      },
      "source": [
        "#@title Plot Utilities for Bounding Boxes [RUN ME]\r\n",
        "\r\n",
        "im_width = 75\r\n",
        "im_height = 75\r\n",
        "use_normalized_coordinates = True\r\n",
        "\r\n",
        "def draw_bounding_boxes_on_image_array(image,\r\n",
        "                                       boxes,\r\n",
        "                                       color=[],\r\n",
        "                                       thickness=1,\r\n",
        "                                       display_str_list=()):\r\n",
        "  \"\"\"Draws bounding boxes on image (numpy array).\r\n",
        "  Args:\r\n",
        "    image: a numpy array object.\r\n",
        "    boxes: a 2 dimensional numpy array of [N, 4]: (ymin, xmin, ymax, xmax).\r\n",
        "           The coordinates are in normalized format between [0, 1].\r\n",
        "    color: color to draw bounding box. Default is red.\r\n",
        "    thickness: line thickness. Default value is 4.\r\n",
        "    display_str_list_list: a list of strings for each bounding box.\r\n",
        "  Raises:\r\n",
        "    ValueError: if boxes is not a [N, 4] array\r\n",
        "  \"\"\"\r\n",
        "  image_pil = PIL.Image.fromarray(image)\r\n",
        "  rgbimg = PIL.Image.new(\"RGBA\", image_pil.size)\r\n",
        "  rgbimg.paste(image_pil)\r\n",
        "  draw_bounding_boxes_on_image(rgbimg, boxes, color, thickness,\r\n",
        "                               display_str_list)\r\n",
        "  return np.array(rgbimg)\r\n",
        "  \r\n",
        "\r\n",
        "def draw_bounding_boxes_on_image(image,\r\n",
        "                                 boxes,\r\n",
        "                                 color=[],\r\n",
        "                                 thickness=1,\r\n",
        "                                 display_str_list=()):\r\n",
        "  \"\"\"Draws bounding boxes on image.\r\n",
        "  Args:\r\n",
        "    image: a PIL.Image object.\r\n",
        "    boxes: a 2 dimensional numpy array of [N, 4]: (ymin, xmin, ymax, xmax).\r\n",
        "           The coordinates are in normalized format between [0, 1].\r\n",
        "    color: color to draw bounding box. Default is red.\r\n",
        "    thickness: line thickness. Default value is 4.\r\n",
        "    display_str_list: a list of strings for each bounding box.\r\n",
        "                           \r\n",
        "  Raises:\r\n",
        "    ValueError: if boxes is not a [N, 4] array\r\n",
        "  \"\"\"\r\n",
        "  boxes_shape = boxes.shape\r\n",
        "  if not boxes_shape:\r\n",
        "    return\r\n",
        "  if len(boxes_shape) != 2 or boxes_shape[1] != 4:\r\n",
        "    raise ValueError('Input must be of size [N, 4]')\r\n",
        "  for i in range(boxes_shape[0]):\r\n",
        "    draw_bounding_box_on_image(image, boxes[i, 1], boxes[i, 0], boxes[i, 3],\r\n",
        "                               boxes[i, 2], color[i], thickness, display_str_list[i])\r\n",
        "        \r\n",
        "def draw_bounding_box_on_image(image,\r\n",
        "                               ymin,\r\n",
        "                               xmin,\r\n",
        "                               ymax,\r\n",
        "                               xmax,\r\n",
        "                               color='red',\r\n",
        "                               thickness=1,\r\n",
        "                               display_str=None,\r\n",
        "                               use_normalized_coordinates=True):\r\n",
        "  \"\"\"Adds a bounding box to an image.\r\n",
        "  Bounding box coordinates can be specified in either absolute (pixel) or\r\n",
        "  normalized coordinates by setting the use_normalized_coordinates argument.\r\n",
        "  Args:\r\n",
        "    image: a PIL.Image object.\r\n",
        "    ymin: ymin of bounding box.\r\n",
        "    xmin: xmin of bounding box.\r\n",
        "    ymax: ymax of bounding box.\r\n",
        "    xmax: xmax of bounding box.\r\n",
        "    color: color to draw bounding box. Default is red.\r\n",
        "    thickness: line thickness. Default value is 4.\r\n",
        "    display_str_list: string to display in box\r\n",
        "    use_normalized_coordinates: If True (default), treat coordinates\r\n",
        "      ymin, xmin, ymax, xmax as relative to the image.  Otherwise treat\r\n",
        "      coordinates as absolute.\r\n",
        "  \"\"\"\r\n",
        "  draw = PIL.ImageDraw.Draw(image)\r\n",
        "  im_width, im_height = image.size\r\n",
        "  if use_normalized_coordinates:\r\n",
        "    (left, right, top, bottom) = (xmin * im_width, xmax * im_width,\r\n",
        "                                  ymin * im_height, ymax * im_height)\r\n",
        "  else:\r\n",
        "    (left, right, top, bottom) = (xmin, xmax, ymin, ymax)\r\n",
        "  draw.line([(left, top), (left, bottom), (right, bottom),\r\n",
        "             (right, top), (left, top)], width=thickness, fill=color)"
      ],
      "execution_count": 2,
      "outputs": []
    },
    {
      "cell_type": "code",
      "metadata": {
        "id": "1S8uzKF2Af9A"
      },
      "source": [
        "#@title Visualization Utilities [RUN ME]\r\n",
        "\"\"\"\r\n",
        "This cell contains helper functions used for visualization\r\n",
        "and downloads only. \r\n",
        "\r\n",
        "You can skip reading it, as there is very\r\n",
        "little Keras or Tensorflow related code here.\r\n",
        "\"\"\"\r\n",
        "\r\n",
        "# Matplotlib config\r\n",
        "plt.rc('image', cmap='gray')\r\n",
        "plt.rc('grid', linewidth=0)\r\n",
        "plt.rc('xtick', top=False, bottom=False, labelsize='large')\r\n",
        "plt.rc('ytick', left=False, right=False, labelsize='large')\r\n",
        "plt.rc('axes', facecolor='F8F8F8', titlesize=\"large\", edgecolor='white')\r\n",
        "plt.rc('text', color='a8151a')\r\n",
        "plt.rc('figure', facecolor='F0F0F0')# Matplotlib fonts\r\n",
        "MATPLOTLIB_FONT_DIR = os.path.join(os.path.dirname(plt.__file__), \"mpl-data/fonts/ttf\")\r\n",
        "\r\n",
        "# pull a batch from the datasets. This code is not very nice, it gets much better in eager mode (TODO)\r\n",
        "def dataset_to_numpy_util(training_dataset, validation_dataset, N):\r\n",
        "  \r\n",
        "  # get one batch from each: 10000 validation digits, N training digits\r\n",
        "  batch_train_ds = training_dataset.unbatch().batch(N)\r\n",
        "  \r\n",
        "  # eager execution: loop through datasets normally\r\n",
        "  if tf.executing_eagerly():\r\n",
        "    for validation_digits, (validation_labels, validation_bboxes) in validation_dataset:\r\n",
        "      validation_digits = validation_digits.numpy()\r\n",
        "      validation_labels = validation_labels.numpy()\r\n",
        "      validation_bboxes = validation_bboxes.numpy()\r\n",
        "      break\r\n",
        "    for training_digits, (training_labels, training_bboxes) in batch_train_ds:\r\n",
        "      training_digits = training_digits.numpy()\r\n",
        "      training_labels = training_labels.numpy()\r\n",
        "      training_bboxes = training_bboxes.numpy()\r\n",
        "      break\r\n",
        "  \r\n",
        "  # these were one-hot encoded in the dataset\r\n",
        "  validation_labels = np.argmax(validation_labels, axis=1)\r\n",
        "  training_labels = np.argmax(training_labels, axis=1)\r\n",
        "  \r\n",
        "  return (training_digits, training_labels, training_bboxes,\r\n",
        "          validation_digits, validation_labels, validation_bboxes)\r\n",
        "\r\n",
        "# create digits from local fonts for testing\r\n",
        "def create_digits_from_local_fonts(n):\r\n",
        "  font_labels = []\r\n",
        "  img = PIL.Image.new('LA', (75*n, 75), color = (0,255)) # format 'LA': black in channel 0, alpha in channel 1\r\n",
        "  font1 = PIL.ImageFont.truetype(os.path.join(MATPLOTLIB_FONT_DIR, 'DejaVuSansMono-Oblique.ttf'), 25)\r\n",
        "  font2 = PIL.ImageFont.truetype(os.path.join(MATPLOTLIB_FONT_DIR, 'STIXGeneral.ttf'), 25)\r\n",
        "  d = PIL.ImageDraw.Draw(img)\r\n",
        "  for i in range(n):\r\n",
        "    font_labels.append(i%10)\r\n",
        "    d.text((7+i*75,0 if i<10 else -4), str(i%10), fill=(255,255), font=font1 if i<10 else font2)\r\n",
        "  font_digits = np.array(img.getdata(), np.float32)[:,0] / 255.0 # black in channel 0, alpha in channel 1 (discarded)\r\n",
        "  font_digits = np.reshape(np.stack(np.split(np.reshape(font_digits, [75, 75*n]), n, axis=1), axis=0), [n, 75*75])\r\n",
        "  return font_digits, font_labels\r\n",
        "\r\n",
        "\r\n",
        "# utility to display a row of digits with their predictions\r\n",
        "def display_digits_with_boxes(digits, predictions, labels, pred_bboxes, bboxes, iou, title):\r\n",
        "\r\n",
        "  n = 10\r\n",
        "\r\n",
        "  indexes = np.random.choice(len(predictions), size=n)\r\n",
        "  n_digits = digits[indexes]\r\n",
        "  n_predictions = predictions[indexes]\r\n",
        "  n_labels = labels[indexes]\r\n",
        "\r\n",
        "  n_iou = []\r\n",
        "  if len(iou) > 0:\r\n",
        "    n_iou = iou[indexes]\r\n",
        "\r\n",
        "  if (len(pred_bboxes) > 0):\r\n",
        "    n_pred_bboxes = pred_bboxes[indexes,:]\r\n",
        "\r\n",
        "  if (len(bboxes) > 0):\r\n",
        "    n_bboxes = bboxes[indexes,:]\r\n",
        "\r\n",
        "\r\n",
        "  n_digits = n_digits * 255.0\r\n",
        "  n_digits = n_digits.reshape(n, 75, 75)\r\n",
        "  fig = plt.figure(figsize=(20, 4))\r\n",
        "  plt.title(title)\r\n",
        "  plt.yticks([])\r\n",
        "  plt.xticks([])\r\n",
        "  \r\n",
        "  for i in range(10):\r\n",
        "    ax = fig.add_subplot(1, 10, i+1)\r\n",
        "    bboxes_to_plot = []\r\n",
        "    if (len(pred_bboxes) > i):\r\n",
        "      bboxes_to_plot.append(n_pred_bboxes[i])\r\n",
        "    \r\n",
        "    if (len(bboxes) > i):\r\n",
        "      bboxes_to_plot.append(n_bboxes[i])\r\n",
        "\r\n",
        "    img_to_draw = draw_bounding_boxes_on_image_array(image=n_digits[i], boxes=np.asarray(bboxes_to_plot), color=['red', 'green'], display_str_list=[\"true\", \"pred\"])\r\n",
        "    plt.xlabel(n_predictions[i])\r\n",
        "    plt.xticks([])\r\n",
        "    plt.yticks([])\r\n",
        "    \r\n",
        "    if n_predictions[i] != n_labels[i]:\r\n",
        "      ax.xaxis.label.set_color('red')\r\n",
        "\r\n",
        "    \r\n",
        "    \r\n",
        "    plt.imshow(img_to_draw)\r\n",
        "\r\n",
        "    if len(iou) > i :\r\n",
        "      color = \"black\"\r\n",
        "      if (n_iou[i][0] < iou_threshold):\r\n",
        "        color = \"red\"\r\n",
        "      ax.text(0.2, -0.3, \"iou: %s\" %(n_iou[i][0]), color=color, transform=ax.transAxes)\r\n",
        "\r\n",
        "\r\n",
        "# utility to display training and validation curves\r\n",
        "def plot_metrics(metric_name, title, ylim=5):\r\n",
        "  plt.title(title)\r\n",
        "  plt.ylim(0,ylim)\r\n",
        "  plt.plot(history.history[metric_name],color='blue',label=metric_name)\r\n",
        "  plt.plot(history.history['val_' + metric_name],color='green',label='val_' + metric_name)"
      ],
      "execution_count": 3,
      "outputs": []
    },
    {
      "cell_type": "code",
      "metadata": {
        "colab": {
          "base_uri": "https://localhost:8080/"
        },
        "id": "WqDaEMasAkYd",
        "outputId": "03a10eb2-10c3-40b0-9cac-edc634a9ad77"
      },
      "source": [
        "# Detect hardware\r\n",
        "try:\r\n",
        "  tpu = tf.distribute.cluster_resolver.TPUClusterResolver() # TPU detection\r\n",
        "except ValueError:\r\n",
        "  tpu = None\r\n",
        "  gpus = tf.config.experimental.list_logical_devices(\"GPU\")\r\n",
        "    \r\n",
        "# Select appropriate distribution strategy\r\n",
        "if tpu:\r\n",
        "  tf.config.experimental_connect_to_cluster(tpu)\r\n",
        "  tf.tpu.experimental.initialize_tpu_system(tpu)\r\n",
        "  strategy = tf.distribute.experimental.TPUStrategy(tpu) # Going back and forth between TPU and host is expensive. Better to run 128 batches on the TPU before reporting back.\r\n",
        "  print('Running on TPU ', tpu.cluster_spec().as_dict()['worker'])  \r\n",
        "elif len(gpus) > 1:\r\n",
        "  strategy = tf.distribute.MirroredStrategy([gpu.name for gpu in gpus])\r\n",
        "  print('Running on multiple GPUs ', [gpu.name for gpu in gpus])\r\n",
        "elif len(gpus) == 1:\r\n",
        "  strategy = tf.distribute.get_strategy() # default strategy that works on CPU and single GPU\r\n",
        "  print('Running on single GPU ', gpus[0].name)\r\n",
        "else:\r\n",
        "  strategy = tf.distribute.get_strategy() # default strategy that works on CPU and single GPU\r\n",
        "  print('Running on CPU')\r\n",
        "print(\"Number of accelerators: \", strategy.num_replicas_in_sync)"
      ],
      "execution_count": 4,
      "outputs": [
        {
          "output_type": "stream",
          "text": [
            "Running on single GPU  /device:GPU:0\n",
            "Number of accelerators:  1\n"
          ],
          "name": "stdout"
        }
      ]
    },
    {
      "cell_type": "code",
      "metadata": {
        "id": "eici1sl1ArOO"
      },
      "source": [
        "BATCH_SIZE = 64 * strategy.num_replicas_in_sync # Gobal batch size.\r\n",
        "# The global batch size will be automatically sharded across all\r\n",
        "# replicas by the tf.data.Dataset API. A single TPU has 8 cores.\r\n",
        "# The best practice is to scale the batch size by the number of\r\n",
        "# replicas (cores). The learning rate should be increased as well."
      ],
      "execution_count": 5,
      "outputs": []
    },
    {
      "cell_type": "code",
      "metadata": {
        "id": "r-Tee9qJAvxC"
      },
      "source": [
        "'''\r\n",
        "Transforms each image in dataset by pasting it on a 75x75 canvas at random locations.\r\n",
        "'''\r\n",
        "def read_image_tfds(image, label):\r\n",
        "    xmin = tf.random.uniform((), 0 , 48, dtype=tf.int32)\r\n",
        "    ymin = tf.random.uniform((), 0 , 48, dtype=tf.int32)\r\n",
        "    image = tf.reshape(image, (28,28,1,))\r\n",
        "    image = tf.image.pad_to_bounding_box(image, ymin, xmin, 75, 75)\r\n",
        "    image = tf.cast(image, tf.float32)/255.0\r\n",
        "    xmin = tf.cast(xmin, tf.float32)\r\n",
        "    ymin = tf.cast(ymin, tf.float32)\r\n",
        "   \r\n",
        "    xmax = (xmin + 28) / 75\r\n",
        "    ymax = (ymin + 28) / 75\r\n",
        "    xmin = xmin / 75\r\n",
        "    ymin = ymin / 75\r\n",
        "    return image, (tf.one_hot(label, 10), [xmin, ymin, xmax, ymax])\r\n",
        "  \r\n",
        "'''\r\n",
        "Loads and maps the training split of the dataset using the map function. Note that we try to load the gcs version since TPU can only work with datasets on Google Cloud Storage.\r\n",
        "'''\r\n",
        "def get_training_dataset():\r\n",
        "      \r\n",
        "      with  strategy.scope():\r\n",
        "        dataset = tfds.load(\"mnist\", split=\"train\", as_supervised=True, try_gcs=True)\r\n",
        "        dataset = dataset.map(read_image_tfds, num_parallel_calls=16)\r\n",
        "        dataset = dataset.shuffle(5000, reshuffle_each_iteration=True)\r\n",
        "        dataset = dataset.repeat() # Mandatory for Keras for now\r\n",
        "        dataset = dataset.batch(BATCH_SIZE, drop_remainder=True) # drop_remainder is important on TPU, batch size must be fixed\r\n",
        "        dataset = dataset.prefetch(-1)  # fetch next batches while training on the current one (-1: autotune prefetch buffer size)\r\n",
        "      return dataset\r\n",
        "\r\n",
        "'''\r\n",
        "Loads and maps the validation split of the dataset using the map function. Note that we try to load the gcs version since TPU can only work with datasets on Google Cloud Storage.\r\n",
        "'''  \r\n",
        "def get_validation_dataset():\r\n",
        "    dataset = tfds.load(\"mnist\", split=\"test\", as_supervised=True, try_gcs=True)\r\n",
        "    dataset = dataset.map(read_image_tfds, num_parallel_calls=16)\r\n",
        "\r\n",
        "    #dataset = dataset.cache() # this small dataset can be entirely cached in RAM\r\n",
        "    dataset = dataset.batch(10000, drop_remainder=True) # 10000 items in eval dataset, all in one batch\r\n",
        "    dataset = dataset.repeat() # Mandatory for Keras for now\r\n",
        "    return dataset\r\n",
        "\r\n",
        "# instantiate the datasets\r\n",
        "with strategy.scope():\r\n",
        "  training_dataset = get_training_dataset()\r\n",
        "  validation_dataset = get_validation_dataset()"
      ],
      "execution_count": 6,
      "outputs": []
    },
    {
      "cell_type": "code",
      "metadata": {
        "colab": {
          "base_uri": "https://localhost:8080/",
          "height": 511
        },
        "id": "ZSeW9hcXA1mw",
        "outputId": "68088e92-4e10-4e44-c911-6cb1222e9511"
      },
      "source": [
        "(training_digits, training_labels, training_bboxes,\r\n",
        " validation_digits, validation_labels, validation_bboxes) = dataset_to_numpy_util(training_dataset, validation_dataset, 10)\r\n",
        "\r\n",
        "display_digits_with_boxes(training_digits, training_labels, training_labels, np.array([]), training_bboxes, np.array([]), \"training digits and their labels\")\r\n",
        "display_digits_with_boxes(validation_digits, validation_labels, validation_labels, np.array([]), validation_bboxes, np.array([]), \"validation digits and their labels\")"
      ],
      "execution_count": 7,
      "outputs": [
        {
          "output_type": "display_data",
          "data": {
            "image/png": "[encoded data removed]",
            "text/plain": [
              "<Figure size 1440x288 with 11 Axes>"
            ]
          },
          "metadata": {
            "tags": []
          }
        },
        {
          "output_type": "display_data",
          "data": {
            "image/png": "[encoded data removed]",
            "text/plain": [
              "<Figure size 1440x288 with 11 Axes>"
            ]
          },
          "metadata": {
            "tags": []
          }
        }
      ]
    },
    {
      "cell_type": "markdown",
      "metadata": {
        "id": "_XkZghQpBDNP"
      },
      "source": [
        "Define the Network\r\n",
        "Here, you'll define your custom CNN.\r\n",
        "\r\n",
        "* feature_extractor: these convolutional layers extract the features of the image.\r\n",
        "* classifier: This define the output layer that predicts among 10 categories (digits 0 through 9)\r\n",
        "* bounding_box_regression: This defines the output layer that predicts 4 numeric values, which define the coordinates of the bounding box (xmin, ymin, xmax, ymax)\r\n",
        "* final_model: This combines the layers for feature extraction, classification and bounding box prediction.\r\n",
        "  * Notice that this is another example of a branching model, because the model splits to produce two kinds of output (a category and set of numbers).\r\n",
        "  * Since you've learned to use the Functional API earlier in the specialization (course 1), you have the flexibility to define this kind of branching model!\r\n",
        "* define_and_compile_model: choose the optimizer and metrics, then compile the model."
      ]
    },
    {
      "cell_type": "code",
      "metadata": {
        "colab": {
          "base_uri": "https://localhost:8080/"
        },
        "id": "oyzxQGPlA5a2",
        "outputId": "bca7cf52-12d6-496a-aa01-876e891310d8"
      },
      "source": [
        "'''\r\n",
        "Feature extractor is the CNN that is made up of convolution and pooling layers.\r\n",
        "'''\r\n",
        "def feature_extractor(inputs):\r\n",
        "    x = tf.keras.layers.Conv2D(16, activation='relu', kernel_size=3, input_shape=(75, 75, 1))(inputs)\r\n",
        "    x = tf.keras.layers.AveragePooling2D((2, 2))(x)\r\n",
        "\r\n",
        "    x = tf.keras.layers.Conv2D(32,kernel_size=3,activation='relu')(x)\r\n",
        "    x = tf.keras.layers.AveragePooling2D((2, 2))(x)\r\n",
        "\r\n",
        "    x = tf.keras.layers.Conv2D(64,kernel_size=3,activation='relu')(x)\r\n",
        "    x = tf.keras.layers.AveragePooling2D((2, 2))(x)\r\n",
        "\r\n",
        "    return x\r\n",
        "\r\n",
        "'''\r\n",
        "dense_layers adds a flatten and dense layer.\r\n",
        "This will follow the feature extraction layers\r\n",
        "'''\r\n",
        "def dense_layers(inputs):\r\n",
        "  x = tf.keras.layers.Flatten()(inputs)\r\n",
        "  x = tf.keras.layers.Dense(128, activation='relu')(x)\r\n",
        "  return x\r\n",
        "\r\n",
        "\r\n",
        "'''\r\n",
        "Classifier defines the classification output.\r\n",
        "This has a set of fully connected layers and a softmax layer.\r\n",
        "'''\r\n",
        "def classifier(inputs):\r\n",
        "\r\n",
        "  classification_output = tf.keras.layers.Dense(10, activation='softmax', name = 'classification')(inputs)\r\n",
        "  return classification_output\r\n",
        "\r\n",
        "\r\n",
        "'''\r\n",
        "This function defines the regression output for bounding box prediction. \r\n",
        "Note that we have four outputs corresponding to (xmin, ymin, xmax, ymax)\r\n",
        "'''\r\n",
        "def bounding_box_regression(inputs):\r\n",
        "    bounding_box_regression_output = tf.keras.layers.Dense(units = '4', name = 'bounding_box')(inputs)\r\n",
        "    return bounding_box_regression_output\r\n",
        "\r\n",
        "\r\n",
        "def final_model(inputs):\r\n",
        "    feature_cnn = feature_extractor(inputs)\r\n",
        "    dense_output = dense_layers(feature_cnn)\r\n",
        "\r\n",
        "    '''\r\n",
        "    The model branches here.  \r\n",
        "    The dense layer's output gets fed into two branches:\r\n",
        "    classification_output and bounding_box_output\r\n",
        "    '''\r\n",
        "    classification_output = classifier(dense_output)\r\n",
        "    bounding_box_output = bounding_box_regression(dense_output)\r\n",
        "\r\n",
        "    model = tf.keras.Model(inputs = inputs, outputs = [classification_output, bounding_box_output])\r\n",
        "\r\n",
        "    return model\r\n",
        "  \r\n",
        "\r\n",
        "def define_and_compile_model(inputs):\r\n",
        "  model = final_model(inputs)\r\n",
        "  \r\n",
        "  model.compile(optimizer='adam', \r\n",
        "              loss = {'classification' : 'categorical_crossentropy',\r\n",
        "                      'bounding_box' : 'mse'\r\n",
        "                     },\r\n",
        "              metrics = {'classification' : 'accuracy',\r\n",
        "                         'bounding_box' : 'mse'\r\n",
        "                        })\r\n",
        "  return model\r\n",
        "\r\n",
        "    \r\n",
        "with strategy.scope():\r\n",
        "  inputs = tf.keras.layers.Input(shape=(75, 75, 1,))\r\n",
        "  model = define_and_compile_model(inputs)\r\n",
        "\r\n",
        "# print model layers\r\n",
        "model.summary()"
      ],
      "execution_count": 8,
      "outputs": [
        {
          "output_type": "stream",
          "text": [
            "Model: \"model\"\n",
            "__________________________________________________________________________________________________\n",
            "Layer (type)                    Output Shape         Param #     Connected to                     \n",
            "==================================================================================================\n",
            "input_1 (InputLayer)            [(None, 75, 75, 1)]  0                                            \n",
            "__________________________________________________________________________________________________\n",
            "conv2d (Conv2D)                 (None, 73, 73, 16)   160         input_1[0][0]                    \n",
            "__________________________________________________________________________________________________\n",
            "average_pooling2d (AveragePooli (None, 36, 36, 16)   0           conv2d[0][0]                     \n",
            "__________________________________________________________________________________________________\n",
            "conv2d_1 (Conv2D)               (None, 34, 34, 32)   4640        average_pooling2d[0][0]          \n",
            "__________________________________________________________________________________________________\n",
            "average_pooling2d_1 (AveragePoo (None, 17, 17, 32)   0           conv2d_1[0][0]                   \n",
            "__________________________________________________________________________________________________\n",
            "conv2d_2 (Conv2D)               (None, 15, 15, 64)   18496       average_pooling2d_1[0][0]        \n",
            "__________________________________________________________________________________________________\n",
            "average_pooling2d_2 (AveragePoo (None, 7, 7, 64)     0           conv2d_2[0][0]                   \n",
            "__________________________________________________________________________________________________\n",
            "flatten (Flatten)               (None, 3136)         0           average_pooling2d_2[0][0]        \n",
            "__________________________________________________________________________________________________\n",
            "dense (Dense)                   (None, 128)          401536      flatten[0][0]                    \n",
            "__________________________________________________________________________________________________\n",
            "classification (Dense)          (None, 10)           1290        dense[0][0]                      \n",
            "__________________________________________________________________________________________________\n",
            "bounding_box (Dense)            (None, 4)            516         dense[0][0]                      \n",
            "==================================================================================================\n",
            "Total params: 426,638\n",
            "Trainable params: 426,638\n",
            "Non-trainable params: 0\n",
            "__________________________________________________________________________________________________\n"
          ],
          "name": "stdout"
        }
      ]
    },
    {
      "cell_type": "markdown",
      "metadata": {
        "id": "r7MpjfvhBbR1"
      },
      "source": [
        "\r\n",
        "Train and validate the model\r\n",
        "Train the model.\r\n",
        "\r\n",
        "* You can choose the number of epochs depending on the level of performance that you want and the time that you have.\r\n",
        "* Each epoch will take just a few seconds if you're using the TPU."
      ]
    },
    {
      "cell_type": "code",
      "metadata": {
        "colab": {
          "base_uri": "https://localhost:8080/"
        },
        "id": "IoFdYKVJBXYm",
        "outputId": "bec7d9f8-4c78-4d9b-a411-d5e290f5c225"
      },
      "source": [
        "EPOCHS = 10 # 45\r\n",
        "steps_per_epoch = 60000//BATCH_SIZE  # 60,000 items in this dataset\r\n",
        "validation_steps = 1\r\n",
        "\r\n",
        "history = model.fit(training_dataset,\r\n",
        "                    steps_per_epoch=steps_per_epoch, validation_data=validation_dataset, validation_steps=validation_steps, epochs=EPOCHS)\r\n",
        "\r\n",
        "loss, classification_loss, bounding_box_loss, classification_accuracy, bounding_box_mse = model.evaluate(validation_dataset, steps=1)\r\n",
        "print(\"Validation accuracy: \", classification_accuracy)"
      ],
      "execution_count": 9,
      "outputs": [
        {
          "output_type": "stream",
          "text": [
            "Epoch 1/10\n",
            "937/937 [==============================] - 26s 20ms/step - loss: 1.6186 - classification_loss: 1.5985 - bounding_box_loss: 0.0200 - classification_accuracy: 0.4089 - bounding_box_mse: 0.0200 - val_loss: 0.3173 - val_classification_loss: 0.3093 - val_bounding_box_loss: 0.0080 - val_classification_accuracy: 0.9041 - val_bounding_box_mse: 0.0080\n",
            "Epoch 2/10\n",
            "937/937 [==============================] - 12s 12ms/step - loss: 0.2958 - classification_loss: 0.2889 - bounding_box_loss: 0.0070 - classification_accuracy: 0.9134 - bounding_box_mse: 0.0070 - val_loss: 0.2172 - val_classification_loss: 0.2124 - val_bounding_box_loss: 0.0049 - val_classification_accuracy: 0.9345 - val_bounding_box_mse: 0.0049\n",
            "Epoch 3/10\n",
            "937/937 [==============================] - 12s 12ms/step - loss: 0.2028 - classification_loss: 0.1988 - bounding_box_loss: 0.0040 - classification_accuracy: 0.9388 - bounding_box_mse: 0.0040 - val_loss: 0.1381 - val_classification_loss: 0.1353 - val_bounding_box_loss: 0.0027 - val_classification_accuracy: 0.9555 - val_bounding_box_mse: 0.0027\n",
            "Epoch 4/10\n",
            "937/937 [==============================] - 11s 12ms/step - loss: 0.1599 - classification_loss: 0.1573 - bounding_box_loss: 0.0026 - classification_accuracy: 0.9527 - bounding_box_mse: 0.0026 - val_loss: 0.1162 - val_classification_loss: 0.1141 - val_bounding_box_loss: 0.0021 - val_classification_accuracy: 0.9658 - val_bounding_box_mse: 0.0021\n",
            "Epoch 5/10\n",
            "937/937 [==============================] - 12s 12ms/step - loss: 0.1335 - classification_loss: 0.1316 - bounding_box_loss: 0.0019 - classification_accuracy: 0.9601 - bounding_box_mse: 0.0019 - val_loss: 0.1301 - val_classification_loss: 0.1284 - val_bounding_box_loss: 0.0017 - val_classification_accuracy: 0.9598 - val_bounding_box_mse: 0.0017\n",
            "Epoch 6/10\n",
            "937/937 [==============================] - 12s 13ms/step - loss: 0.1183 - classification_loss: 0.1167 - bounding_box_loss: 0.0015 - classification_accuracy: 0.9648 - bounding_box_mse: 0.0015 - val_loss: 0.0984 - val_classification_loss: 0.0971 - val_bounding_box_loss: 0.0014 - val_classification_accuracy: 0.9689 - val_bounding_box_mse: 0.0014\n",
            "Epoch 7/10\n",
            "937/937 [==============================] - 12s 13ms/step - loss: 0.1016 - classification_loss: 0.1003 - bounding_box_loss: 0.0013 - classification_accuracy: 0.9695 - bounding_box_mse: 0.0013 - val_loss: 0.1081 - val_classification_loss: 0.1070 - val_bounding_box_loss: 0.0012 - val_classification_accuracy: 0.9684 - val_bounding_box_mse: 0.0012\n",
            "Epoch 8/10\n",
            "937/937 [==============================] - 11s 12ms/step - loss: 0.0913 - classification_loss: 0.0901 - bounding_box_loss: 0.0012 - classification_accuracy: 0.9718 - bounding_box_mse: 0.0012 - val_loss: 0.0707 - val_classification_loss: 0.0697 - val_bounding_box_loss: 9.3449e-04 - val_classification_accuracy: 0.9780 - val_bounding_box_mse: 9.3449e-04\n",
            "Epoch 9/10\n",
            "937/937 [==============================] - 11s 12ms/step - loss: 0.0856 - classification_loss: 0.0845 - bounding_box_loss: 0.0011 - classification_accuracy: 0.9730 - bounding_box_mse: 0.0011 - val_loss: 0.0741 - val_classification_loss: 0.0731 - val_bounding_box_loss: 9.9248e-04 - val_classification_accuracy: 0.9769 - val_bounding_box_mse: 9.9248e-04\n",
            "Epoch 10/10\n",
            "937/937 [==============================] - 11s 12ms/step - loss: 0.0746 - classification_loss: 0.0735 - bounding_box_loss: 0.0010 - classification_accuracy: 0.9777 - bounding_box_mse: 0.0010 - val_loss: 0.0670 - val_classification_loss: 0.0660 - val_bounding_box_loss: 0.0010 - val_classification_accuracy: 0.9795 - val_bounding_box_mse: 0.0010\n",
            "1/1 [==============================] - 1s 1s/step - loss: 0.0642 - classification_loss: 0.0632 - bounding_box_loss: 0.0010 - classification_accuracy: 0.9790 - bounding_box_mse: 0.0010\n",
            "Validation accuracy:  0.9789999723434448\n"
          ],
          "name": "stdout"
        }
      ]
    },
    {
      "cell_type": "code",
      "metadata": {
        "colab": {
          "base_uri": "https://localhost:8080/",
          "height": 284
        },
        "id": "_xsGM3iWBimt",
        "outputId": "c5910bd9-949b-420c-9a6a-48892a8c24f1"
      },
      "source": [
        "plot_metrics(\"classification_loss\", \"Classification Loss\")\r\n",
        "plot_metrics(\"bounding_box_loss\", \"Bounding Box Loss\")"
      ],
      "execution_count": 10,
      "outputs": [
        {
          "output_type": "display_data",
          "data": {
            "image/png": "[encoded data removed]",
            "text/plain": [
              "<Figure size 432x288 with 1 Axes>"
            ]
          },
          "metadata": {
            "tags": []
          }
        }
      ]
    },
    {
      "cell_type": "markdown",
      "metadata": {
        "id": "89uRDju7C4D7"
      },
      "source": [
        "Intersection over union\r\n",
        "Calculate the I-O-U metric to evaluate the model's performance."
      ]
    },
    {
      "cell_type": "code",
      "metadata": {
        "id": "slWypfgZC3KY"
      },
      "source": [
        "def intersection_over_union(pred_box, true_box):\r\n",
        "    xmin_pred, ymin_pred, xmax_pred, ymax_pred =  np.split(pred_box, 4, axis = 1)\r\n",
        "    xmin_true, ymin_true, xmax_true, ymax_true = np.split(true_box, 4, axis = 1)\r\n",
        "\r\n",
        "\r\n",
        "    xmin_overlap = np.maximum(xmin_pred, xmin_true)\r\n",
        "    xmax_overlap = np.minimum(xmax_pred, xmax_true)\r\n",
        "    ymin_overlap = np.maximum(xmin_pred, xmin_true)\r\n",
        "    ymax_overlap = np.minimum(ymax_pred, ymax_true)\r\n",
        "\r\n",
        "    pred_box_area = (xmax_pred - xmin_pred + 1) * (ymax_pred - ymin_pred + 1)\r\n",
        "    true_box_area = (xmax_true - xmin_true + 1) * (ymax_true - ymin_true + 1)\r\n",
        "\r\n",
        "    overlap_area = np.maximum((xmax_overlap - xmin_overlap) + 1,0)  * np.maximum((ymax_overlap - ymin_overlap) + 1, 0)\r\n",
        "    union_area = (pred_box_area + true_box_area) - overlap_area\r\n",
        "\r\n",
        "    iou = overlap_area / union_area\r\n",
        "\r\n",
        "    return iou"
      ],
      "execution_count": 11,
      "outputs": []
    },
    {
      "cell_type": "markdown",
      "metadata": {
        "id": "7Ny4ag-jC_pD"
      },
      "source": [
        "Visualize predictions\r\n",
        "The following code will make predictions and visualize both the classification and the predicted bounding boxes.\r\n",
        "\r\n",
        "* The true bounding box labels will be in green, and the model's predicted bounding boxes are in red.\r\n",
        "* The predicted number is shown below the image."
      ]
    },
    {
      "cell_type": "code",
      "metadata": {
        "colab": {
          "base_uri": "https://localhost:8080/",
          "height": 298
        },
        "id": "6T6Nv6VKC8PD",
        "outputId": "38f8a2a9-ad17-43f1-b67e-29e829227ef2"
      },
      "source": [
        "# recognize validation digits\r\n",
        "predictions = model.predict(validation_digits, batch_size=64)\r\n",
        "predicted_labels = np.argmax(predictions[0], axis=1)\r\n",
        "\r\n",
        "predicted_bboxes = predictions[1]\r\n",
        "\r\n",
        "iou = intersection_over_union(predicted_bboxes, validation_bboxes)\r\n",
        "\r\n",
        "iou_threshold = 0.6\r\n",
        "\r\n",
        "print(\"Number of predictions where iou > threshold(%s): %s\" % (iou_threshold, (iou >= iou_threshold).sum()))\r\n",
        "print(\"Number of predictions where iou < threshold(%s): %s\" % (iou_threshold, (iou < iou_threshold).sum()))\r\n",
        "\r\n",
        "\r\n",
        "display_digits_with_boxes(validation_digits, predicted_labels, validation_labels, predicted_bboxes, validation_bboxes, iou, \"True and Predicted values\")"
      ],
      "execution_count": 12,
      "outputs": [
        {
          "output_type": "stream",
          "text": [
            "Number of predictions where iou > threshold(0.6): 8660\n",
            "Number of predictions where iou < threshold(0.6): 1340\n"
          ],
          "name": "stdout"
        },
        {
          "output_type": "display_data",
          "data": {
            "image/png": "[encoded data removed]",
            "text/plain": [
              "<Figure size 1440x288 with 11 Axes>"
            ]
          },
          "metadata": {
            "tags": []
          }
        }
      ]
    }
  ]
}