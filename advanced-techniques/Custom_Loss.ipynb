{
  "nbformat": 4,
  "nbformat_minor": 0,
  "metadata": {
    "colab": {
      "name": "Custom_Loss.ipynb",
      "provenance": [],
      "authorship_tag": "ABX9TyMS8L0aGcz9o7kRoWdeuZ9E",
      "include_colab_link": true
    },
    "kernelspec": {
      "name": "python3",
      "display_name": "Python 3"
    }
  },
  "cells": [
    {
      "cell_type": "markdown",
      "metadata": {
        "id": "view-in-github",
        "colab_type": "text"
      },
      "source": [
        "<a href=\"https://colab.research.google.com/github/salim-hbk/ai-ml/blob/main/Custom_Loss.ipynb\" target=\"_parent\"><img src=\"https://colab.research.google.com/assets/colab-badge.svg\" alt=\"Open In Colab\"/></a>"
      ]
    },
    {
      "cell_type": "markdown",
      "metadata": {
        "id": "bxdNf6GVfyhP"
      },
      "source": [
        "There are certain cases you might be needed to implement custom loss functions. We will demonstrate here implemeent the custom loss function called Huber Loss"
      ]
    },
    {
      "cell_type": "code",
      "metadata": {
        "id": "E4zoUOs2gCxh"
      },
      "source": [
        "import tensorflow as tf\r\n",
        "import numpy as np"
      ],
      "execution_count": 1,
      "outputs": []
    },
    {
      "cell_type": "code",
      "metadata": {
        "id": "st8TzNnMgHoR"
      },
      "source": [
        "def linear_function(x=np.array([])):\r\n",
        "  return (x*2)-1"
      ],
      "execution_count": 2,
      "outputs": []
    },
    {
      "cell_type": "code",
      "metadata": {
        "id": "UH_uKhGsgeP3"
      },
      "source": [
        "x = np.array([-2., -1., 1., 2.,3. ,5.,7., 8.,9. ,11., 12., 15.])\r\n",
        "y = linear_function(x)"
      ],
      "execution_count": 15,
      "outputs": []
    },
    {
      "cell_type": "code",
      "metadata": {
        "id": "dgjUam_mgtpw"
      },
      "source": [
        "def huber_loss(y_true, y_hat):\r\n",
        "  delta = 1\r\n",
        "  error = y_true - y_hat\r\n",
        "  is_small_error = tf.abs(error) <= delta\r\n",
        "  small_loss = tf.square(error) /2\r\n",
        "  big_loss = delta * (tf.abs(error) - (0.5*delta) )\r\n",
        "  return tf.where(is_small_error, small_loss, big_loss) "
      ],
      "execution_count": 13,
      "outputs": []
    },
    {
      "cell_type": "code",
      "metadata": {
        "id": "o8PplxuLiFc_"
      },
      "source": [
        "model = tf.keras.Sequential()\r\n",
        "model.add(tf.keras.layers.Dense(1, input_shape=[1]))"
      ],
      "execution_count": 5,
      "outputs": []
    },
    {
      "cell_type": "code",
      "metadata": {
        "colab": {
          "base_uri": "https://localhost:8080/"
        },
        "id": "X8WTXFtximHC",
        "outputId": "571e83fb-30df-4e51-d810-13552120c4c7"
      },
      "source": [
        "model.compile(optimizer='sgd', loss='mse')\r\n",
        "model.fit(x, y, epochs=600, verbose=0)"
      ],
      "execution_count": 10,
      "outputs": [
        {
          "output_type": "execute_result",
          "data": {
            "text/plain": [
              "<tensorflow.python.keras.callbacks.History at 0x7f7f058fec18>"
            ]
          },
          "metadata": {
            "tags": []
          },
          "execution_count": 10
        }
      ]
    },
    {
      "cell_type": "code",
      "metadata": {
        "colab": {
          "base_uri": "https://localhost:8080/"
        },
        "id": "eI_joBq4i8NZ",
        "outputId": "3d0f34a6-5b94-41d6-8ad0-58b66be2dd55"
      },
      "source": [
        "new_val = np.array([55])\r\n",
        "print('Real value  {}'.format(linear_function(new_val)))\r\n",
        "print('Predicted value {}'.format(model.predict(new_val)))"
      ],
      "execution_count": 11,
      "outputs": [
        {
          "output_type": "stream",
          "text": [
            "Real value  [109]\n",
            "Predicted value [[108.99766]]\n"
          ],
          "name": "stdout"
        }
      ]
    },
    {
      "cell_type": "code",
      "metadata": {
        "colab": {
          "base_uri": "https://localhost:8080/"
        },
        "id": "t8ux9nlYjvuO",
        "outputId": "b8de36ac-b366-4209-b9ea-6100f15d2208"
      },
      "source": [
        "model.compile(optimizer='sgd', loss=huber_loss)\r\n",
        "model.fit(x, y, epochs=600, verbose=0)\r\n",
        "\r\n",
        "new_val = np.array([55])\r\n",
        "print('Real value  {}'.format(linear_function(new_val)))\r\n",
        "print('Predicted value {}'.format(model.predict(new_val)))"
      ],
      "execution_count": 16,
      "outputs": [
        {
          "output_type": "stream",
          "text": [
            "Real value  [109]\n",
            "Predicted value [[108.999825]]\n"
          ],
          "name": "stdout"
        }
      ]
    }
  ]
}