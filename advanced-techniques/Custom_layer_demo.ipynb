{
  "nbformat": 4,
  "nbformat_minor": 0,
  "metadata": {
    "colab": {
      "name": "Custom_layer_demo.ipynb",
      "provenance": [],
      "authorship_tag": "ABX9TyOS6ANRzuXvU0/n5vGr6Ud4",
      "include_colab_link": true
    },
    "kernelspec": {
      "name": "python3",
      "display_name": "Python 3"
    },
    "accelerator": "GPU"
  },
  "cells": [
    {
      "cell_type": "markdown",
      "metadata": {
        "id": "view-in-github",
        "colab_type": "text"
      },
      "source": [
        "<a href=\"https://colab.research.google.com/github/salim-hbk/ai-ml/blob/main/Custom_layer_demo.ipynb\" target=\"_parent\"><img src=\"https://colab.research.google.com/assets/colab-badge.svg\" alt=\"Open In Colab\"/></a>"
      ]
    },
    {
      "cell_type": "code",
      "metadata": {
        "id": "2dxzSliNPaOt"
      },
      "source": [
        "import tensorflow as tf\r\n",
        "from tensorflow.keras.datasets import fashion_mnist\r\n",
        "from tensorflow.keras.layers import Layer"
      ],
      "execution_count": 5,
      "outputs": []
    },
    {
      "cell_type": "code",
      "metadata": {
        "colab": {
          "base_uri": "https://localhost:8080/"
        },
        "id": "pxIU8UL3PutH",
        "outputId": "926232fe-0e2b-42f2-cc37-ba69a86aab87"
      },
      "source": [
        "(train_x, train_y), (test_x, test_y) = fashion_mnist.load_data()"
      ],
      "execution_count": 2,
      "outputs": [
        {
          "output_type": "stream",
          "text": [
            "Downloading data from https://storage.googleapis.com/tensorflow/tf-keras-datasets/train-labels-idx1-ubyte.gz\n",
            "32768/29515 [=================================] - 0s 0us/step\n",
            "Downloading data from https://storage.googleapis.com/tensorflow/tf-keras-datasets/train-images-idx3-ubyte.gz\n",
            "26427392/26421880 [==============================] - 0s 0us/step\n",
            "Downloading data from https://storage.googleapis.com/tensorflow/tf-keras-datasets/t10k-labels-idx1-ubyte.gz\n",
            "8192/5148 [===============================================] - 0s 0us/step\n",
            "Downloading data from https://storage.googleapis.com/tensorflow/tf-keras-datasets/t10k-images-idx3-ubyte.gz\n",
            "4423680/4422102 [==============================] - 0s 0us/step\n"
          ],
          "name": "stdout"
        }
      ]
    },
    {
      "cell_type": "code",
      "metadata": {
        "id": "XdHTJ9SkT3sC"
      },
      "source": [
        "train_x = train_x/255.\r\n",
        "test_x = test_x/255.\r\n",
        "train_x = train_x.astype('float32')\r\n",
        "test_x = test_x.astype('float32')\r\n",
        "\r\n",
        "train_x = train_x.reshape(-1, 28,28, 1)\r\n",
        "test_x = test_x.reshape(-1, 28,28, 1)"
      ],
      "execution_count": 3,
      "outputs": []
    },
    {
      "cell_type": "code",
      "metadata": {
        "id": "-1wln2CeUx3E"
      },
      "source": [
        "class SimpleQuadratic(Layer):\r\n",
        "\r\n",
        "  def __init__(self, units=32, activation=None):\r\n",
        "    '''Initializes the class and sets up the internal variables'''\r\n",
        "    # YOUR CODE HERE\r\n",
        "    super(SimpleQuadratic, self).__init__()\r\n",
        "    self.units = units\r\n",
        "    self.activation = tf.keras.activations.get(activation)\r\n",
        "\r\n",
        "  def build(self, input_shape):\r\n",
        "    '''Create the state of the layer (weights)'''\r\n",
        "    # a and b should be initialized with random normal, c (or the bias) with zeros.\r\n",
        "    # remember to set these as trainable.\r\n",
        "    # YOUR CODE HERE\r\n",
        "    a_init = tf.random_normal_initializer()\r\n",
        "    b_init = tf.random_normal_initializer()\r\n",
        "    c_init = tf.zeros_initializer()\r\n",
        "    \r\n",
        "    self.a = tf.Variable(name = \"kernel\", initial_value = a_init(shape= (input_shape[-1], self.units), \r\n",
        "                                                                dtype= \"float32\"), trainable = True)\r\n",
        "    \r\n",
        "    self.b = tf.Variable(name = \"kernel\", initial_value = b_init(shape= (input_shape[-1], self.units), \r\n",
        "                                                                dtype= \"float32\"), trainable = True)\r\n",
        "    \r\n",
        "    self.c = tf.Variable(name = \"bias\", initial_value = c_init(shape= (self.units,), \r\n",
        "                                                                dtype= \"float32\"), trainable = True)\r\n",
        "\r\n",
        "  def call(self, inputs):\r\n",
        "    '''Defines the computation from inputs to outputs'''\r\n",
        "    # YOUR CODE HERE\r\n",
        "    result = tf.matmul(tf.math.square(inputs), self.a) + tf.matmul(inputs, self.b) + self.c\r\n",
        "    return self.activation(result)\r\n",
        "    "
      ],
      "execution_count": 29,
      "outputs": []
    },
    {
      "cell_type": "code",
      "metadata": {
        "id": "DZJ0FDJ7YPAC"
      },
      "source": [
        "input = tf.keras.layers.Input(shape=(28,28,1,))\r\n",
        "x = tf.keras.layers.Conv2D(32, (3,3), activation='relu')(input)\r\n",
        "x = tf.keras.layers.Dropout(0.1)(x)\r\n",
        "x = tf.keras.layers.Conv2D(32, (3,3), activation='relu')(x)\r\n",
        "x = tf.keras.layers.Dropout(0.1)(x)\r\n",
        "x = tf.keras.layers.Flatten()(x)\r\n",
        "x = tf.keras.layers.Dense(128, activation='relu')(x)\r\n",
        "x = SimpleQuadratic(128, activation='relu')(x)\r\n",
        "output_layer = tf.keras.layers.Dense(10, activation='softmax')(x)\r\n",
        "model = tf.keras.models.Model(inputs=input, outputs=output_layer)\r\n"
      ],
      "execution_count": 30,
      "outputs": []
    },
    {
      "cell_type": "code",
      "metadata": {
        "colab": {
          "base_uri": "https://localhost:8080/"
        },
        "id": "nbk5PDeLaMgY",
        "outputId": "7202732a-82ce-4e62-acae-bfc0e5095f7f"
      },
      "source": [
        "model.compile(optimizer='adam', loss='sparse_categorical_crossentropy', metrics=['accuracy'])\r\n",
        "model.fit(train_x, train_y, epochs=25)"
      ],
      "execution_count": 31,
      "outputs": [
        {
          "output_type": "stream",
          "text": [
            "Epoch 1/25\n",
            "1875/1875 [==============================] - 6s 3ms/step - loss: 0.5307 - accuracy: 0.8107\n",
            "Epoch 2/25\n",
            "1875/1875 [==============================] - 6s 3ms/step - loss: 0.2476 - accuracy: 0.9095\n",
            "Epoch 3/25\n",
            "1875/1875 [==============================] - 6s 3ms/step - loss: 0.1740 - accuracy: 0.9347\n",
            "Epoch 4/25\n",
            "1875/1875 [==============================] - 6s 3ms/step - loss: 0.1251 - accuracy: 0.9539\n",
            "Epoch 5/25\n",
            "1875/1875 [==============================] - 6s 3ms/step - loss: 0.0913 - accuracy: 0.9654\n",
            "Epoch 6/25\n",
            "1875/1875 [==============================] - 6s 3ms/step - loss: 0.0709 - accuracy: 0.9742\n",
            "Epoch 7/25\n",
            "1875/1875 [==============================] - 6s 3ms/step - loss: 0.0545 - accuracy: 0.9804\n",
            "Epoch 8/25\n",
            "1875/1875 [==============================] - 6s 3ms/step - loss: 0.0438 - accuracy: 0.9845\n",
            "Epoch 9/25\n",
            "1875/1875 [==============================] - 6s 3ms/step - loss: 0.0420 - accuracy: 0.9856\n",
            "Epoch 10/25\n",
            "1875/1875 [==============================] - 6s 3ms/step - loss: 0.0359 - accuracy: 0.9880\n",
            "Epoch 11/25\n",
            "1875/1875 [==============================] - 6s 3ms/step - loss: 0.0285 - accuracy: 0.9904\n",
            "Epoch 12/25\n",
            "1875/1875 [==============================] - 6s 3ms/step - loss: 0.0285 - accuracy: 0.9908\n",
            "Epoch 13/25\n",
            "1875/1875 [==============================] - 6s 3ms/step - loss: 0.0309 - accuracy: 0.9903\n",
            "Epoch 14/25\n",
            "1875/1875 [==============================] - 6s 3ms/step - loss: 0.0213 - accuracy: 0.9934\n",
            "Epoch 15/25\n",
            "1875/1875 [==============================] - 6s 3ms/step - loss: 0.0243 - accuracy: 0.9925\n",
            "Epoch 16/25\n",
            "1875/1875 [==============================] - 6s 3ms/step - loss: 0.0283 - accuracy: 0.9911\n",
            "Epoch 17/25\n",
            "1875/1875 [==============================] - 6s 3ms/step - loss: 0.0236 - accuracy: 0.9925\n",
            "Epoch 18/25\n",
            "1875/1875 [==============================] - 6s 3ms/step - loss: 0.0172 - accuracy: 0.9947\n",
            "Epoch 19/25\n",
            "1875/1875 [==============================] - 6s 3ms/step - loss: 0.0246 - accuracy: 0.9930\n",
            "Epoch 20/25\n",
            "1875/1875 [==============================] - 6s 3ms/step - loss: 0.0215 - accuracy: 0.9935\n",
            "Epoch 21/25\n",
            "1875/1875 [==============================] - 6s 3ms/step - loss: 0.0171 - accuracy: 0.9948\n",
            "Epoch 22/25\n",
            "1875/1875 [==============================] - 6s 3ms/step - loss: 0.0168 - accuracy: 0.9951\n",
            "Epoch 23/25\n",
            "1875/1875 [==============================] - 6s 3ms/step - loss: 0.0179 - accuracy: 0.9940\n",
            "Epoch 24/25\n",
            "1875/1875 [==============================] - 6s 3ms/step - loss: 0.0181 - accuracy: 0.9948\n",
            "Epoch 25/25\n",
            "1875/1875 [==============================] - 6s 3ms/step - loss: 0.0234 - accuracy: 0.9936\n"
          ],
          "name": "stdout"
        },
        {
          "output_type": "execute_result",
          "data": {
            "text/plain": [
              "<tensorflow.python.keras.callbacks.History at 0x7f89200b1ba8>"
            ]
          },
          "metadata": {
            "tags": []
          },
          "execution_count": 31
        }
      ]
    }
  ]
}