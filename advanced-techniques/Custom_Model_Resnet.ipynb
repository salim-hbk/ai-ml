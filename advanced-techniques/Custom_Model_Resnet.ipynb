{
  "nbformat": 4,
  "nbformat_minor": 0,
  "metadata": {
    "colab": {
      "name": "Custom_Model_Resnet.ipynb",
      "provenance": [],
      "authorship_tag": "ABX9TyO5lzZu/BRt+WFidDQlaGRr",
      "include_colab_link": true
    },
    "kernelspec": {
      "name": "python3",
      "display_name": "Python 3"
    },
    "accelerator": "GPU",
    "widgets": {
      "application/vnd.jupyter.widget-state+json": {
        "7be9f0b778db42a3909652cf0a3a128f": {
          "model_module": "@jupyter-widgets/controls",
          "model_name": "HBoxModel",
          "state": {
            "_view_name": "HBoxView",
            "_dom_classes": [],
            "_model_name": "HBoxModel",
            "_view_module": "@jupyter-widgets/controls",
            "_model_module_version": "1.5.0",
            "_view_count": null,
            "_view_module_version": "1.5.0",
            "box_style": "",
            "layout": "IPY_MODEL_f38bce5a635c4dbeac5f79927270f186",
            "_model_module": "@jupyter-widgets/controls",
            "children": [
              "IPY_MODEL_7a50aefc59ba4a02937c365d37864ce3",
              "IPY_MODEL_cd08bb5903b24070bcec5ae1e24c00d3"
            ]
          }
        },
        "f38bce5a635c4dbeac5f79927270f186": {
          "model_module": "@jupyter-widgets/base",
          "model_name": "LayoutModel",
          "state": {
            "_view_name": "LayoutView",
            "grid_template_rows": null,
            "right": null,
            "justify_content": null,
            "_view_module": "@jupyter-widgets/base",
            "overflow": null,
            "_model_module_version": "1.2.0",
            "_view_count": null,
            "flex_flow": null,
            "width": null,
            "min_width": null,
            "border": null,
            "align_items": null,
            "bottom": null,
            "_model_module": "@jupyter-widgets/base",
            "top": null,
            "grid_column": null,
            "overflow_y": null,
            "overflow_x": null,
            "grid_auto_flow": null,
            "grid_area": null,
            "grid_template_columns": null,
            "flex": null,
            "_model_name": "LayoutModel",
            "justify_items": null,
            "grid_row": null,
            "max_height": null,
            "align_content": null,
            "visibility": null,
            "align_self": null,
            "height": null,
            "min_height": null,
            "padding": null,
            "grid_auto_rows": null,
            "grid_gap": null,
            "max_width": null,
            "order": null,
            "_view_module_version": "1.2.0",
            "grid_template_areas": null,
            "object_position": null,
            "object_fit": null,
            "grid_auto_columns": null,
            "margin": null,
            "display": null,
            "left": null
          }
        },
        "7a50aefc59ba4a02937c365d37864ce3": {
          "model_module": "@jupyter-widgets/controls",
          "model_name": "FloatProgressModel",
          "state": {
            "_view_name": "ProgressView",
            "style": "IPY_MODEL_786ad3fa80854daea89797aa36dde884",
            "_dom_classes": [],
            "description": "Dl Completed...: 100%",
            "_model_name": "FloatProgressModel",
            "bar_style": "success",
            "max": 4,
            "_view_module": "@jupyter-widgets/controls",
            "_model_module_version": "1.5.0",
            "value": 4,
            "_view_count": null,
            "_view_module_version": "1.5.0",
            "orientation": "horizontal",
            "min": 0,
            "description_tooltip": null,
            "_model_module": "@jupyter-widgets/controls",
            "layout": "IPY_MODEL_cc2707ca393a4f0eb5f356f2685bf592"
          }
        },
        "cd08bb5903b24070bcec5ae1e24c00d3": {
          "model_module": "@jupyter-widgets/controls",
          "model_name": "HTMLModel",
          "state": {
            "_view_name": "HTMLView",
            "style": "IPY_MODEL_722bc5fb36f040ebb60f2749e6f13455",
            "_dom_classes": [],
            "description": "",
            "_model_name": "HTMLModel",
            "placeholder": "​",
            "_view_module": "@jupyter-widgets/controls",
            "_model_module_version": "1.5.0",
            "value": " 4/4 [00:05&lt;00:00,  1.46s/ file]",
            "_view_count": null,
            "_view_module_version": "1.5.0",
            "description_tooltip": null,
            "_model_module": "@jupyter-widgets/controls",
            "layout": "IPY_MODEL_ab9233629825408590ae6de7ddbd119f"
          }
        },
        "786ad3fa80854daea89797aa36dde884": {
          "model_module": "@jupyter-widgets/controls",
          "model_name": "ProgressStyleModel",
          "state": {
            "_view_name": "StyleView",
            "_model_name": "ProgressStyleModel",
            "description_width": "initial",
            "_view_module": "@jupyter-widgets/base",
            "_model_module_version": "1.5.0",
            "_view_count": null,
            "_view_module_version": "1.2.0",
            "bar_color": null,
            "_model_module": "@jupyter-widgets/controls"
          }
        },
        "cc2707ca393a4f0eb5f356f2685bf592": {
          "model_module": "@jupyter-widgets/base",
          "model_name": "LayoutModel",
          "state": {
            "_view_name": "LayoutView",
            "grid_template_rows": null,
            "right": null,
            "justify_content": null,
            "_view_module": "@jupyter-widgets/base",
            "overflow": null,
            "_model_module_version": "1.2.0",
            "_view_count": null,
            "flex_flow": null,
            "width": null,
            "min_width": null,
            "border": null,
            "align_items": null,
            "bottom": null,
            "_model_module": "@jupyter-widgets/base",
            "top": null,
            "grid_column": null,
            "overflow_y": null,
            "overflow_x": null,
            "grid_auto_flow": null,
            "grid_area": null,
            "grid_template_columns": null,
            "flex": null,
            "_model_name": "LayoutModel",
            "justify_items": null,
            "grid_row": null,
            "max_height": null,
            "align_content": null,
            "visibility": null,
            "align_self": null,
            "height": null,
            "min_height": null,
            "padding": null,
            "grid_auto_rows": null,
            "grid_gap": null,
            "max_width": null,
            "order": null,
            "_view_module_version": "1.2.0",
            "grid_template_areas": null,
            "object_position": null,
            "object_fit": null,
            "grid_auto_columns": null,
            "margin": null,
            "display": null,
            "left": null
          }
        },
        "722bc5fb36f040ebb60f2749e6f13455": {
          "model_module": "@jupyter-widgets/controls",
          "model_name": "DescriptionStyleModel",
          "state": {
            "_view_name": "StyleView",
            "_model_name": "DescriptionStyleModel",
            "description_width": "",
            "_view_module": "@jupyter-widgets/base",
            "_model_module_version": "1.5.0",
            "_view_count": null,
            "_view_module_version": "1.2.0",
            "_model_module": "@jupyter-widgets/controls"
          }
        },
        "ab9233629825408590ae6de7ddbd119f": {
          "model_module": "@jupyter-widgets/base",
          "model_name": "LayoutModel",
          "state": {
            "_view_name": "LayoutView",
            "grid_template_rows": null,
            "right": null,
            "justify_content": null,
            "_view_module": "@jupyter-widgets/base",
            "overflow": null,
            "_model_module_version": "1.2.0",
            "_view_count": null,
            "flex_flow": null,
            "width": null,
            "min_width": null,
            "border": null,
            "align_items": null,
            "bottom": null,
            "_model_module": "@jupyter-widgets/base",
            "top": null,
            "grid_column": null,
            "overflow_y": null,
            "overflow_x": null,
            "grid_auto_flow": null,
            "grid_area": null,
            "grid_template_columns": null,
            "flex": null,
            "_model_name": "LayoutModel",
            "justify_items": null,
            "grid_row": null,
            "max_height": null,
            "align_content": null,
            "visibility": null,
            "align_self": null,
            "height": null,
            "min_height": null,
            "padding": null,
            "grid_auto_rows": null,
            "grid_gap": null,
            "max_width": null,
            "order": null,
            "_view_module_version": "1.2.0",
            "grid_template_areas": null,
            "object_position": null,
            "object_fit": null,
            "grid_auto_columns": null,
            "margin": null,
            "display": null,
            "left": null
          }
        }
      }
    }
  },
  "cells": [
    {
      "cell_type": "markdown",
      "metadata": {
        "id": "view-in-github",
        "colab_type": "text"
      },
      "source": [
        "<a href=\"https://colab.research.google.com/github/salim-hbk/ai-ml/blob/main/Custom_Model_Resnet.ipynb\" target=\"_parent\"><img src=\"https://colab.research.google.com/assets/colab-badge.svg\" alt=\"Open In Colab\"/></a>"
      ]
    },
    {
      "cell_type": "code",
      "metadata": {
        "id": "X3JCCHNsCccp"
      },
      "source": [
        "import tensorflow as tf\r\n",
        "from tensorflow.keras.datasets import fashion_mnist\r\n",
        "from tensorflow.keras.utils import plot_model"
      ],
      "execution_count": 1,
      "outputs": []
    },
    {
      "cell_type": "code",
      "metadata": {
        "colab": {
          "base_uri": "https://localhost:8080/"
        },
        "id": "ZNHLCHY5C_Vq",
        "outputId": "ee6460cf-9079-43c7-f3b0-12b80d6be5a9"
      },
      "source": [
        "(train_x, train_y), (test_x, test_y) = fashion_mnist.load_data()\r\n",
        "\r\n",
        "train_x = train_x.astype('float32')/255.\r\n",
        "test_x = test_x.astype('float32')/255.\r\n",
        "\r\n",
        "train_x = train_x.reshape(-1, 28,28,1)\r\n",
        "test_x = test_x.reshape(-1, 28,28,1)"
      ],
      "execution_count": 2,
      "outputs": [
        {
          "output_type": "stream",
          "text": [
            "Downloading data from https://storage.googleapis.com/tensorflow/tf-keras-datasets/train-labels-idx1-ubyte.gz\n",
            "32768/29515 [=================================] - 0s 0us/step\n",
            "Downloading data from https://storage.googleapis.com/tensorflow/tf-keras-datasets/train-images-idx3-ubyte.gz\n",
            "26427392/26421880 [==============================] - 0s 0us/step\n",
            "Downloading data from https://storage.googleapis.com/tensorflow/tf-keras-datasets/t10k-labels-idx1-ubyte.gz\n",
            "8192/5148 [===============================================] - 0s 0us/step\n",
            "Downloading data from https://storage.googleapis.com/tensorflow/tf-keras-datasets/t10k-images-idx3-ubyte.gz\n",
            "4423680/4422102 [==============================] - 0s 0us/step\n"
          ],
          "name": "stdout"
        }
      ]
    },
    {
      "cell_type": "code",
      "metadata": {
        "id": "ce-KltiAeIoM"
      },
      "source": [
        "class IdentityBlock(tf.keras.Model):\r\n",
        "  def __init__(self, filters, kernel_size):\r\n",
        "    super(IdentityBlock, self).__init__(name='')\r\n",
        "\r\n",
        "    self.conv1 = tf.keras.layers.Conv2D(filters, kernel_size, padding='same')\r\n",
        "    self.bn1 = tf.keras.layers.BatchNormalization()\r\n",
        "\r\n",
        "    self.conv2 = tf.keras.layers.Conv2D(filters, kernel_size, padding='same')\r\n",
        "    self.bn2 = tf.keras.layers.BatchNormalization()\r\n",
        "\r\n",
        "    self.act = tf.keras.layers.Activation('relu')\r\n",
        "    self.add = tf.keras.layers.Add()\r\n",
        "\r\n",
        "  def call(self, input_tensor):\r\n",
        "    x = self.conv1(input_tensor)\r\n",
        "    x = self.bn1(x)\r\n",
        "    x = self.act(x)\r\n",
        "\r\n",
        "    x = self.conv2(x)\r\n",
        "    x = self.bn2(x)\r\n",
        "    x = self.act(x)\r\n",
        "\r\n",
        "    x = self.add([x, input_tensor])\r\n",
        "    x = self.act(x)\r\n",
        "    return x"
      ],
      "execution_count": 3,
      "outputs": []
    },
    {
      "cell_type": "code",
      "metadata": {
        "id": "V4udpb2fDrDt"
      },
      "source": [
        ""
      ],
      "execution_count": 3,
      "outputs": []
    },
    {
      "cell_type": "code",
      "metadata": {
        "id": "WW3T3YffMOlu"
      },
      "source": [
        "class Resnet(tf.keras.Model):\r\n",
        "\r\n",
        "  def __init__(self, num_classes):\r\n",
        "    super(Resnet, self).__init__()\r\n",
        "\r\n",
        "    self.conv = tf.keras.layers.Conv2D(64, 7, padding='same')\r\n",
        "    self.bn = tf.keras.layers.BatchNormalization()\r\n",
        "    self.act = tf.keras.layers.Activation('relu')\r\n",
        "    self.max_pool = tf.keras.layers.MaxPool2D((3,3))\r\n",
        "\r\n",
        "    self.id1 = IdentityBlock(64, 3)\r\n",
        "    self.id2 = IdentityBlock(64, 3)\r\n",
        "\r\n",
        "    self.global_avg = tf.keras.layers.GlobalAveragePooling2D()\r\n",
        "    self.classifier = tf.keras.layers.Dense(num_classes, 'softmax')\r\n",
        "\r\n",
        "  def call(self, inputs):\r\n",
        "    x = self.conv(inputs)\r\n",
        "    x = self.bn(x)\r\n",
        "    x = self.act(x)\r\n",
        "    x = self.max_pool(x)\r\n",
        "    x = self.id1(x)\r\n",
        "    x = self.id2(x)\r\n",
        "\r\n",
        "    x = self.global_avg(x)\r\n",
        "    return self.classifier(x)"
      ],
      "execution_count": 4,
      "outputs": []
    },
    {
      "cell_type": "code",
      "metadata": {
        "id": "UiEIv5pNVH8x"
      },
      "source": [
        "def preprocess(features):\r\n",
        "  return tf.cast(features['image'], tf.float32) / 255., features['label']"
      ],
      "execution_count": 5,
      "outputs": []
    },
    {
      "cell_type": "code",
      "metadata": {
        "colab": {
          "base_uri": "https://localhost:8080/",
          "height": 236,
          "referenced_widgets": [
            "7be9f0b778db42a3909652cf0a3a128f",
            "f38bce5a635c4dbeac5f79927270f186",
            "7a50aefc59ba4a02937c365d37864ce3",
            "cd08bb5903b24070bcec5ae1e24c00d3",
            "786ad3fa80854daea89797aa36dde884",
            "cc2707ca393a4f0eb5f356f2685bf592",
            "722bc5fb36f040ebb60f2749e6f13455",
            "ab9233629825408590ae6de7ddbd119f"
          ]
        },
        "id": "f4R7Pl8USubq",
        "outputId": "dbb7aecc-fa31-47e7-f5d5-d86079142652"
      },
      "source": [
        "import tensorflow_datasets as tfds\r\n",
        "dataset = tfds.load('mnist', split=tfds.Split.TRAIN, data_dir='./data')\r\n",
        "dataset = dataset.map(preprocess).batch(32)\r\n",
        "\r\n",
        "resnet = Resnet(10)\r\n",
        "resnet.compile(optimizer='adam', loss='sparse_categorical_crossentropy', metrics=['accuracy'])\r\n",
        "resnet.fit(dataset, epochs=1)"
      ],
      "execution_count": 6,
      "outputs": [
        {
          "output_type": "stream",
          "text": [
            "\u001b[1mDownloading and preparing dataset mnist/3.0.1 (download: 11.06 MiB, generated: 21.00 MiB, total: 32.06 MiB) to ./data/mnist/3.0.1...\u001b[0m\n"
          ],
          "name": "stdout"
        },
        {
          "output_type": "stream",
          "text": [
            "WARNING:absl:Dataset mnist is hosted on GCS. It will automatically be downloaded to your\n",
            "local data directory. If you'd instead prefer to read directly from our public\n",
            "GCS bucket (recommended if you're running on GCP), you can instead pass\n",
            "`try_gcs=True` to `tfds.load` or set `data_dir=gs://tfds-data/datasets`.\n",
            "\n"
          ],
          "name": "stderr"
        },
        {
          "output_type": "display_data",
          "data": {
            "application/vnd.jupyter.widget-view+json": {
              "model_id": "7be9f0b778db42a3909652cf0a3a128f",
              "version_minor": 0,
              "version_major": 2
            },
            "text/plain": [
              "HBox(children=(FloatProgress(value=0.0, description='Dl Completed...', max=4.0, style=ProgressStyle(descriptio…"
            ]
          },
          "metadata": {
            "tags": []
          }
        },
        {
          "output_type": "stream",
          "text": [
            "\n",
            "\n",
            "\u001b[1mDataset mnist downloaded and prepared to ./data/mnist/3.0.1. Subsequent calls will reuse this data.\u001b[0m\n",
            "1875/1875 [==============================] - 18s 6ms/step - loss: 0.3299 - accuracy: 0.9223\n"
          ],
          "name": "stdout"
        },
        {
          "output_type": "execute_result",
          "data": {
            "text/plain": [
              "<tensorflow.python.keras.callbacks.History at 0x7f1e16e21c50>"
            ]
          },
          "metadata": {
            "tags": []
          },
          "execution_count": 6
        }
      ]
    }
  ]
}