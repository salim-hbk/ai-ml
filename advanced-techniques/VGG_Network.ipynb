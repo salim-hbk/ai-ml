{
  "nbformat": 4,
  "nbformat_minor": 0,
  "metadata": {
    "colab": {
      "name": "VGG_Network.ipynb",
      "provenance": [],
      "authorship_tag": "ABX9TyN6oAOpHOfjT74G+E66hRng",
      "include_colab_link": true
    },
    "kernelspec": {
      "name": "python3",
      "display_name": "Python 3"
    },
    "accelerator": "GPU",
    "widgets": {
      "application/vnd.jupyter.widget-state+json": {
        "c774364b86474d4199c92f513e73ab3c": {
          "model_module": "@jupyter-widgets/controls",
          "model_name": "HBoxModel",
          "state": {
            "_view_name": "HBoxView",
            "_dom_classes": [],
            "_model_name": "HBoxModel",
            "_view_module": "@jupyter-widgets/controls",
            "_model_module_version": "1.5.0",
            "_view_count": null,
            "_view_module_version": "1.5.0",
            "box_style": "",
            "layout": "IPY_MODEL_88ef347ba8d04a2bb4a624eca00ef186",
            "_model_module": "@jupyter-widgets/controls",
            "children": [
              "IPY_MODEL_2d8622564be143b2b0544163de296d5e",
              "IPY_MODEL_7c6151f54d534dd881ba9aba816ce32e"
            ]
          }
        },
        "88ef347ba8d04a2bb4a624eca00ef186": {
          "model_module": "@jupyter-widgets/base",
          "model_name": "LayoutModel",
          "state": {
            "_view_name": "LayoutView",
            "grid_template_rows": null,
            "right": null,
            "justify_content": null,
            "_view_module": "@jupyter-widgets/base",
            "overflow": null,
            "_model_module_version": "1.2.0",
            "_view_count": null,
            "flex_flow": null,
            "width": null,
            "min_width": null,
            "border": null,
            "align_items": null,
            "bottom": null,
            "_model_module": "@jupyter-widgets/base",
            "top": null,
            "grid_column": null,
            "overflow_y": null,
            "overflow_x": null,
            "grid_auto_flow": null,
            "grid_area": null,
            "grid_template_columns": null,
            "flex": null,
            "_model_name": "LayoutModel",
            "justify_items": null,
            "grid_row": null,
            "max_height": null,
            "align_content": null,
            "visibility": null,
            "align_self": null,
            "height": null,
            "min_height": null,
            "padding": null,
            "grid_auto_rows": null,
            "grid_gap": null,
            "max_width": null,
            "order": null,
            "_view_module_version": "1.2.0",
            "grid_template_areas": null,
            "object_position": null,
            "object_fit": null,
            "grid_auto_columns": null,
            "margin": null,
            "display": null,
            "left": null
          }
        },
        "2d8622564be143b2b0544163de296d5e": {
          "model_module": "@jupyter-widgets/controls",
          "model_name": "FloatProgressModel",
          "state": {
            "_view_name": "ProgressView",
            "style": "IPY_MODEL_bf55961835e340aba12c3999d9f0fdec",
            "_dom_classes": [],
            "description": "Dl Completed...: 100%",
            "_model_name": "FloatProgressModel",
            "bar_style": "success",
            "max": 1,
            "_view_module": "@jupyter-widgets/controls",
            "_model_module_version": "1.5.0",
            "value": 1,
            "_view_count": null,
            "_view_module_version": "1.5.0",
            "orientation": "horizontal",
            "min": 0,
            "description_tooltip": null,
            "_model_module": "@jupyter-widgets/controls",
            "layout": "IPY_MODEL_3182440530264857b7230e0130c25332"
          }
        },
        "7c6151f54d534dd881ba9aba816ce32e": {
          "model_module": "@jupyter-widgets/controls",
          "model_name": "HTMLModel",
          "state": {
            "_view_name": "HTMLView",
            "style": "IPY_MODEL_742d25e051ae4627a51e68536dce8a17",
            "_dom_classes": [],
            "description": "",
            "_model_name": "HTMLModel",
            "placeholder": "​",
            "_view_module": "@jupyter-widgets/controls",
            "_model_module_version": "1.5.0",
            "value": " 1/1 [00:09&lt;00:00,  9.52s/ url]",
            "_view_count": null,
            "_view_module_version": "1.5.0",
            "description_tooltip": null,
            "_model_module": "@jupyter-widgets/controls",
            "layout": "IPY_MODEL_08f41117ce2f42d7852463f2e3bd0692"
          }
        },
        "bf55961835e340aba12c3999d9f0fdec": {
          "model_module": "@jupyter-widgets/controls",
          "model_name": "ProgressStyleModel",
          "state": {
            "_view_name": "StyleView",
            "_model_name": "ProgressStyleModel",
            "description_width": "initial",
            "_view_module": "@jupyter-widgets/base",
            "_model_module_version": "1.5.0",
            "_view_count": null,
            "_view_module_version": "1.2.0",
            "bar_color": null,
            "_model_module": "@jupyter-widgets/controls"
          }
        },
        "3182440530264857b7230e0130c25332": {
          "model_module": "@jupyter-widgets/base",
          "model_name": "LayoutModel",
          "state": {
            "_view_name": "LayoutView",
            "grid_template_rows": null,
            "right": null,
            "justify_content": null,
            "_view_module": "@jupyter-widgets/base",
            "overflow": null,
            "_model_module_version": "1.2.0",
            "_view_count": null,
            "flex_flow": null,
            "width": null,
            "min_width": null,
            "border": null,
            "align_items": null,
            "bottom": null,
            "_model_module": "@jupyter-widgets/base",
            "top": null,
            "grid_column": null,
            "overflow_y": null,
            "overflow_x": null,
            "grid_auto_flow": null,
            "grid_area": null,
            "grid_template_columns": null,
            "flex": null,
            "_model_name": "LayoutModel",
            "justify_items": null,
            "grid_row": null,
            "max_height": null,
            "align_content": null,
            "visibility": null,
            "align_self": null,
            "height": null,
            "min_height": null,
            "padding": null,
            "grid_auto_rows": null,
            "grid_gap": null,
            "max_width": null,
            "order": null,
            "_view_module_version": "1.2.0",
            "grid_template_areas": null,
            "object_position": null,
            "object_fit": null,
            "grid_auto_columns": null,
            "margin": null,
            "display": null,
            "left": null
          }
        },
        "742d25e051ae4627a51e68536dce8a17": {
          "model_module": "@jupyter-widgets/controls",
          "model_name": "DescriptionStyleModel",
          "state": {
            "_view_name": "StyleView",
            "_model_name": "DescriptionStyleModel",
            "description_width": "",
            "_view_module": "@jupyter-widgets/base",
            "_model_module_version": "1.5.0",
            "_view_count": null,
            "_view_module_version": "1.2.0",
            "_model_module": "@jupyter-widgets/controls"
          }
        },
        "08f41117ce2f42d7852463f2e3bd0692": {
          "model_module": "@jupyter-widgets/base",
          "model_name": "LayoutModel",
          "state": {
            "_view_name": "LayoutView",
            "grid_template_rows": null,
            "right": null,
            "justify_content": null,
            "_view_module": "@jupyter-widgets/base",
            "overflow": null,
            "_model_module_version": "1.2.0",
            "_view_count": null,
            "flex_flow": null,
            "width": null,
            "min_width": null,
            "border": null,
            "align_items": null,
            "bottom": null,
            "_model_module": "@jupyter-widgets/base",
            "top": null,
            "grid_column": null,
            "overflow_y": null,
            "overflow_x": null,
            "grid_auto_flow": null,
            "grid_area": null,
            "grid_template_columns": null,
            "flex": null,
            "_model_name": "LayoutModel",
            "justify_items": null,
            "grid_row": null,
            "max_height": null,
            "align_content": null,
            "visibility": null,
            "align_self": null,
            "height": null,
            "min_height": null,
            "padding": null,
            "grid_auto_rows": null,
            "grid_gap": null,
            "max_width": null,
            "order": null,
            "_view_module_version": "1.2.0",
            "grid_template_areas": null,
            "object_position": null,
            "object_fit": null,
            "grid_auto_columns": null,
            "margin": null,
            "display": null,
            "left": null
          }
        },
        "cc9dea50953c4ba9ba0ae2db1b7937ee": {
          "model_module": "@jupyter-widgets/controls",
          "model_name": "HBoxModel",
          "state": {
            "_view_name": "HBoxView",
            "_dom_classes": [],
            "_model_name": "HBoxModel",
            "_view_module": "@jupyter-widgets/controls",
            "_model_module_version": "1.5.0",
            "_view_count": null,
            "_view_module_version": "1.5.0",
            "box_style": "",
            "layout": "IPY_MODEL_db1fb88549f94de7a82a598fb3c384aa",
            "_model_module": "@jupyter-widgets/controls",
            "children": [
              "IPY_MODEL_3eaee3c8c4ca4e01b90648fd677adebb",
              "IPY_MODEL_58e75dc7ffc9452bbd3c634a2940d1a6"
            ]
          }
        },
        "db1fb88549f94de7a82a598fb3c384aa": {
          "model_module": "@jupyter-widgets/base",
          "model_name": "LayoutModel",
          "state": {
            "_view_name": "LayoutView",
            "grid_template_rows": null,
            "right": null,
            "justify_content": null,
            "_view_module": "@jupyter-widgets/base",
            "overflow": null,
            "_model_module_version": "1.2.0",
            "_view_count": null,
            "flex_flow": null,
            "width": null,
            "min_width": null,
            "border": null,
            "align_items": null,
            "bottom": null,
            "_model_module": "@jupyter-widgets/base",
            "top": null,
            "grid_column": null,
            "overflow_y": null,
            "overflow_x": null,
            "grid_auto_flow": null,
            "grid_area": null,
            "grid_template_columns": null,
            "flex": null,
            "_model_name": "LayoutModel",
            "justify_items": null,
            "grid_row": null,
            "max_height": null,
            "align_content": null,
            "visibility": null,
            "align_self": null,
            "height": null,
            "min_height": null,
            "padding": null,
            "grid_auto_rows": null,
            "grid_gap": null,
            "max_width": null,
            "order": null,
            "_view_module_version": "1.2.0",
            "grid_template_areas": null,
            "object_position": null,
            "object_fit": null,
            "grid_auto_columns": null,
            "margin": null,
            "display": null,
            "left": null
          }
        },
        "3eaee3c8c4ca4e01b90648fd677adebb": {
          "model_module": "@jupyter-widgets/controls",
          "model_name": "FloatProgressModel",
          "state": {
            "_view_name": "ProgressView",
            "style": "IPY_MODEL_57490090d3c949a29ee7b75706c460d6",
            "_dom_classes": [],
            "description": "Dl Size...: 100%",
            "_model_name": "FloatProgressModel",
            "bar_style": "success",
            "max": 1,
            "_view_module": "@jupyter-widgets/controls",
            "_model_module_version": "1.5.0",
            "value": 1,
            "_view_count": null,
            "_view_module_version": "1.5.0",
            "orientation": "horizontal",
            "min": 0,
            "description_tooltip": null,
            "_model_module": "@jupyter-widgets/controls",
            "layout": "IPY_MODEL_9f04c5f1f8f2407fa8c5d516bc03734c"
          }
        },
        "58e75dc7ffc9452bbd3c634a2940d1a6": {
          "model_module": "@jupyter-widgets/controls",
          "model_name": "HTMLModel",
          "state": {
            "_view_name": "HTMLView",
            "style": "IPY_MODEL_e11bc6813d86414c84f104563295426b",
            "_dom_classes": [],
            "description": "",
            "_model_name": "HTMLModel",
            "placeholder": "​",
            "_view_module": "@jupyter-widgets/controls",
            "_model_module_version": "1.5.0",
            "value": " 786/786 [00:09&lt;00:00, 82.85 MiB/s]",
            "_view_count": null,
            "_view_module_version": "1.5.0",
            "description_tooltip": null,
            "_model_module": "@jupyter-widgets/controls",
            "layout": "IPY_MODEL_84ebe10bf98140a8814fdc7c182030ec"
          }
        },
        "57490090d3c949a29ee7b75706c460d6": {
          "model_module": "@jupyter-widgets/controls",
          "model_name": "ProgressStyleModel",
          "state": {
            "_view_name": "StyleView",
            "_model_name": "ProgressStyleModel",
            "description_width": "initial",
            "_view_module": "@jupyter-widgets/base",
            "_model_module_version": "1.5.0",
            "_view_count": null,
            "_view_module_version": "1.2.0",
            "bar_color": null,
            "_model_module": "@jupyter-widgets/controls"
          }
        },
        "9f04c5f1f8f2407fa8c5d516bc03734c": {
          "model_module": "@jupyter-widgets/base",
          "model_name": "LayoutModel",
          "state": {
            "_view_name": "LayoutView",
            "grid_template_rows": null,
            "right": null,
            "justify_content": null,
            "_view_module": "@jupyter-widgets/base",
            "overflow": null,
            "_model_module_version": "1.2.0",
            "_view_count": null,
            "flex_flow": null,
            "width": null,
            "min_width": null,
            "border": null,
            "align_items": null,
            "bottom": null,
            "_model_module": "@jupyter-widgets/base",
            "top": null,
            "grid_column": null,
            "overflow_y": null,
            "overflow_x": null,
            "grid_auto_flow": null,
            "grid_area": null,
            "grid_template_columns": null,
            "flex": null,
            "_model_name": "LayoutModel",
            "justify_items": null,
            "grid_row": null,
            "max_height": null,
            "align_content": null,
            "visibility": null,
            "align_self": null,
            "height": null,
            "min_height": null,
            "padding": null,
            "grid_auto_rows": null,
            "grid_gap": null,
            "max_width": null,
            "order": null,
            "_view_module_version": "1.2.0",
            "grid_template_areas": null,
            "object_position": null,
            "object_fit": null,
            "grid_auto_columns": null,
            "margin": null,
            "display": null,
            "left": null
          }
        },
        "e11bc6813d86414c84f104563295426b": {
          "model_module": "@jupyter-widgets/controls",
          "model_name": "DescriptionStyleModel",
          "state": {
            "_view_name": "StyleView",
            "_model_name": "DescriptionStyleModel",
            "description_width": "",
            "_view_module": "@jupyter-widgets/base",
            "_model_module_version": "1.5.0",
            "_view_count": null,
            "_view_module_version": "1.2.0",
            "_model_module": "@jupyter-widgets/controls"
          }
        },
        "84ebe10bf98140a8814fdc7c182030ec": {
          "model_module": "@jupyter-widgets/base",
          "model_name": "LayoutModel",
          "state": {
            "_view_name": "LayoutView",
            "grid_template_rows": null,
            "right": null,
            "justify_content": null,
            "_view_module": "@jupyter-widgets/base",
            "overflow": null,
            "_model_module_version": "1.2.0",
            "_view_count": null,
            "flex_flow": null,
            "width": null,
            "min_width": null,
            "border": null,
            "align_items": null,
            "bottom": null,
            "_model_module": "@jupyter-widgets/base",
            "top": null,
            "grid_column": null,
            "overflow_y": null,
            "overflow_x": null,
            "grid_auto_flow": null,
            "grid_area": null,
            "grid_template_columns": null,
            "flex": null,
            "_model_name": "LayoutModel",
            "justify_items": null,
            "grid_row": null,
            "max_height": null,
            "align_content": null,
            "visibility": null,
            "align_self": null,
            "height": null,
            "min_height": null,
            "padding": null,
            "grid_auto_rows": null,
            "grid_gap": null,
            "max_width": null,
            "order": null,
            "_view_module_version": "1.2.0",
            "grid_template_areas": null,
            "object_position": null,
            "object_fit": null,
            "grid_auto_columns": null,
            "margin": null,
            "display": null,
            "left": null
          }
        },
        "5733e559834e4868aab03d140591c5ea": {
          "model_module": "@jupyter-widgets/controls",
          "model_name": "HBoxModel",
          "state": {
            "_view_name": "HBoxView",
            "_dom_classes": [],
            "_model_name": "HBoxModel",
            "_view_module": "@jupyter-widgets/controls",
            "_model_module_version": "1.5.0",
            "_view_count": null,
            "_view_module_version": "1.5.0",
            "box_style": "",
            "layout": "IPY_MODEL_71d9dd86c85543dcb9558c0db9649a68",
            "_model_module": "@jupyter-widgets/controls",
            "children": [
              "IPY_MODEL_e3039161d1d743ec977c6b14a1be27b6",
              "IPY_MODEL_6d61da120a494b0cb499706111559626"
            ]
          }
        },
        "71d9dd86c85543dcb9558c0db9649a68": {
          "model_module": "@jupyter-widgets/base",
          "model_name": "LayoutModel",
          "state": {
            "_view_name": "LayoutView",
            "grid_template_rows": null,
            "right": null,
            "justify_content": null,
            "_view_module": "@jupyter-widgets/base",
            "overflow": null,
            "_model_module_version": "1.2.0",
            "_view_count": null,
            "flex_flow": null,
            "width": null,
            "min_width": null,
            "border": null,
            "align_items": null,
            "bottom": null,
            "_model_module": "@jupyter-widgets/base",
            "top": null,
            "grid_column": null,
            "overflow_y": null,
            "overflow_x": null,
            "grid_auto_flow": null,
            "grid_area": null,
            "grid_template_columns": null,
            "flex": null,
            "_model_name": "LayoutModel",
            "justify_items": null,
            "grid_row": null,
            "max_height": null,
            "align_content": null,
            "visibility": null,
            "align_self": null,
            "height": null,
            "min_height": null,
            "padding": null,
            "grid_auto_rows": null,
            "grid_gap": null,
            "max_width": null,
            "order": null,
            "_view_module_version": "1.2.0",
            "grid_template_areas": null,
            "object_position": null,
            "object_fit": null,
            "grid_auto_columns": null,
            "margin": null,
            "display": null,
            "left": null
          }
        },
        "e3039161d1d743ec977c6b14a1be27b6": {
          "model_module": "@jupyter-widgets/controls",
          "model_name": "FloatProgressModel",
          "state": {
            "_view_name": "ProgressView",
            "style": "IPY_MODEL_edf6e60a473c4a9cb5de7cf8f47f3b3a",
            "_dom_classes": [],
            "description": "",
            "_model_name": "FloatProgressModel",
            "bar_style": "info",
            "max": 1,
            "_view_module": "@jupyter-widgets/controls",
            "_model_module_version": "1.5.0",
            "value": 1,
            "_view_count": null,
            "_view_module_version": "1.5.0",
            "orientation": "horizontal",
            "min": 0,
            "description_tooltip": null,
            "_model_module": "@jupyter-widgets/controls",
            "layout": "IPY_MODEL_a4c89fec8dc142318e176d4c94cb6950"
          }
        },
        "6d61da120a494b0cb499706111559626": {
          "model_module": "@jupyter-widgets/controls",
          "model_name": "HTMLModel",
          "state": {
            "_view_name": "HTMLView",
            "style": "IPY_MODEL_2dabeaac081f4de18306889cca0645bf",
            "_dom_classes": [],
            "description": "",
            "_model_name": "HTMLModel",
            "placeholder": "​",
            "_view_module": "@jupyter-widgets/controls",
            "_model_module_version": "1.5.0",
            "value": " 23262/0 [00:11&lt;00:00, 2108.85 examples/s]",
            "_view_count": null,
            "_view_module_version": "1.5.0",
            "description_tooltip": null,
            "_model_module": "@jupyter-widgets/controls",
            "layout": "IPY_MODEL_125162b9edde4bd7a8cab4433f9c7a14"
          }
        },
        "edf6e60a473c4a9cb5de7cf8f47f3b3a": {
          "model_module": "@jupyter-widgets/controls",
          "model_name": "ProgressStyleModel",
          "state": {
            "_view_name": "StyleView",
            "_model_name": "ProgressStyleModel",
            "description_width": "initial",
            "_view_module": "@jupyter-widgets/base",
            "_model_module_version": "1.5.0",
            "_view_count": null,
            "_view_module_version": "1.2.0",
            "bar_color": null,
            "_model_module": "@jupyter-widgets/controls"
          }
        },
        "a4c89fec8dc142318e176d4c94cb6950": {
          "model_module": "@jupyter-widgets/base",
          "model_name": "LayoutModel",
          "state": {
            "_view_name": "LayoutView",
            "grid_template_rows": null,
            "right": null,
            "justify_content": null,
            "_view_module": "@jupyter-widgets/base",
            "overflow": null,
            "_model_module_version": "1.2.0",
            "_view_count": null,
            "flex_flow": null,
            "width": null,
            "min_width": null,
            "border": null,
            "align_items": null,
            "bottom": null,
            "_model_module": "@jupyter-widgets/base",
            "top": null,
            "grid_column": null,
            "overflow_y": null,
            "overflow_x": null,
            "grid_auto_flow": null,
            "grid_area": null,
            "grid_template_columns": null,
            "flex": null,
            "_model_name": "LayoutModel",
            "justify_items": null,
            "grid_row": null,
            "max_height": null,
            "align_content": null,
            "visibility": null,
            "align_self": null,
            "height": null,
            "min_height": null,
            "padding": null,
            "grid_auto_rows": null,
            "grid_gap": null,
            "max_width": null,
            "order": null,
            "_view_module_version": "1.2.0",
            "grid_template_areas": null,
            "object_position": null,
            "object_fit": null,
            "grid_auto_columns": null,
            "margin": null,
            "display": null,
            "left": null
          }
        },
        "2dabeaac081f4de18306889cca0645bf": {
          "model_module": "@jupyter-widgets/controls",
          "model_name": "DescriptionStyleModel",
          "state": {
            "_view_name": "StyleView",
            "_model_name": "DescriptionStyleModel",
            "description_width": "",
            "_view_module": "@jupyter-widgets/base",
            "_model_module_version": "1.5.0",
            "_view_count": null,
            "_view_module_version": "1.2.0",
            "_model_module": "@jupyter-widgets/controls"
          }
        },
        "125162b9edde4bd7a8cab4433f9c7a14": {
          "model_module": "@jupyter-widgets/base",
          "model_name": "LayoutModel",
          "state": {
            "_view_name": "LayoutView",
            "grid_template_rows": null,
            "right": null,
            "justify_content": null,
            "_view_module": "@jupyter-widgets/base",
            "overflow": null,
            "_model_module_version": "1.2.0",
            "_view_count": null,
            "flex_flow": null,
            "width": null,
            "min_width": null,
            "border": null,
            "align_items": null,
            "bottom": null,
            "_model_module": "@jupyter-widgets/base",
            "top": null,
            "grid_column": null,
            "overflow_y": null,
            "overflow_x": null,
            "grid_auto_flow": null,
            "grid_area": null,
            "grid_template_columns": null,
            "flex": null,
            "_model_name": "LayoutModel",
            "justify_items": null,
            "grid_row": null,
            "max_height": null,
            "align_content": null,
            "visibility": null,
            "align_self": null,
            "height": null,
            "min_height": null,
            "padding": null,
            "grid_auto_rows": null,
            "grid_gap": null,
            "max_width": null,
            "order": null,
            "_view_module_version": "1.2.0",
            "grid_template_areas": null,
            "object_position": null,
            "object_fit": null,
            "grid_auto_columns": null,
            "margin": null,
            "display": null,
            "left": null
          }
        },
        "34d1f58e11fa491badb5b901cb7ebe0f": {
          "model_module": "@jupyter-widgets/controls",
          "model_name": "HBoxModel",
          "state": {
            "_view_name": "HBoxView",
            "_dom_classes": [],
            "_model_name": "HBoxModel",
            "_view_module": "@jupyter-widgets/controls",
            "_model_module_version": "1.5.0",
            "_view_count": null,
            "_view_module_version": "1.5.0",
            "box_style": "",
            "layout": "IPY_MODEL_f28a914c2a3449c3b5e120da499d20cb",
            "_model_module": "@jupyter-widgets/controls",
            "children": [
              "IPY_MODEL_0c7c800b898a4c1a865083d001ac89b2",
              "IPY_MODEL_4243ba60ccca459c90932ed101bc4634"
            ]
          }
        },
        "f28a914c2a3449c3b5e120da499d20cb": {
          "model_module": "@jupyter-widgets/base",
          "model_name": "LayoutModel",
          "state": {
            "_view_name": "LayoutView",
            "grid_template_rows": null,
            "right": null,
            "justify_content": null,
            "_view_module": "@jupyter-widgets/base",
            "overflow": null,
            "_model_module_version": "1.2.0",
            "_view_count": null,
            "flex_flow": null,
            "width": null,
            "min_width": null,
            "border": null,
            "align_items": null,
            "bottom": null,
            "_model_module": "@jupyter-widgets/base",
            "top": null,
            "grid_column": null,
            "overflow_y": null,
            "overflow_x": null,
            "grid_auto_flow": null,
            "grid_area": null,
            "grid_template_columns": null,
            "flex": null,
            "_model_name": "LayoutModel",
            "justify_items": null,
            "grid_row": null,
            "max_height": null,
            "align_content": null,
            "visibility": null,
            "align_self": null,
            "height": null,
            "min_height": null,
            "padding": null,
            "grid_auto_rows": null,
            "grid_gap": null,
            "max_width": null,
            "order": null,
            "_view_module_version": "1.2.0",
            "grid_template_areas": null,
            "object_position": null,
            "object_fit": null,
            "grid_auto_columns": null,
            "margin": null,
            "display": null,
            "left": null
          }
        },
        "0c7c800b898a4c1a865083d001ac89b2": {
          "model_module": "@jupyter-widgets/controls",
          "model_name": "FloatProgressModel",
          "state": {
            "_view_name": "ProgressView",
            "style": "IPY_MODEL_38219ea225b1470f84b1f0fc99e15b09",
            "_dom_classes": [],
            "description": "100%",
            "_model_name": "FloatProgressModel",
            "bar_style": "danger",
            "max": 23262,
            "_view_module": "@jupyter-widgets/controls",
            "_model_module_version": "1.5.0",
            "value": 23242,
            "_view_count": null,
            "_view_module_version": "1.5.0",
            "orientation": "horizontal",
            "min": 0,
            "description_tooltip": null,
            "_model_module": "@jupyter-widgets/controls",
            "layout": "IPY_MODEL_68f1778c3ed34c13b127cbb87e0f7e1a"
          }
        },
        "4243ba60ccca459c90932ed101bc4634": {
          "model_module": "@jupyter-widgets/controls",
          "model_name": "HTMLModel",
          "state": {
            "_view_name": "HTMLView",
            "style": "IPY_MODEL_2c81f6a05ad54aa689a9a2b4b98d564c",
            "_dom_classes": [],
            "description": "",
            "_model_name": "HTMLModel",
            "placeholder": "​",
            "_view_module": "@jupyter-widgets/controls",
            "_model_module_version": "1.5.0",
            "value": " 23242/23262 [00:07&lt;00:00, 7900.36 examples/s]",
            "_view_count": null,
            "_view_module_version": "1.5.0",
            "description_tooltip": null,
            "_model_module": "@jupyter-widgets/controls",
            "layout": "IPY_MODEL_3f40bc97550943f7bafb48e740dc2b34"
          }
        },
        "38219ea225b1470f84b1f0fc99e15b09": {
          "model_module": "@jupyter-widgets/controls",
          "model_name": "ProgressStyleModel",
          "state": {
            "_view_name": "StyleView",
            "_model_name": "ProgressStyleModel",
            "description_width": "initial",
            "_view_module": "@jupyter-widgets/base",
            "_model_module_version": "1.5.0",
            "_view_count": null,
            "_view_module_version": "1.2.0",
            "bar_color": null,
            "_model_module": "@jupyter-widgets/controls"
          }
        },
        "68f1778c3ed34c13b127cbb87e0f7e1a": {
          "model_module": "@jupyter-widgets/base",
          "model_name": "LayoutModel",
          "state": {
            "_view_name": "LayoutView",
            "grid_template_rows": null,
            "right": null,
            "justify_content": null,
            "_view_module": "@jupyter-widgets/base",
            "overflow": null,
            "_model_module_version": "1.2.0",
            "_view_count": null,
            "flex_flow": null,
            "width": null,
            "min_width": null,
            "border": null,
            "align_items": null,
            "bottom": null,
            "_model_module": "@jupyter-widgets/base",
            "top": null,
            "grid_column": null,
            "overflow_y": null,
            "overflow_x": null,
            "grid_auto_flow": null,
            "grid_area": null,
            "grid_template_columns": null,
            "flex": null,
            "_model_name": "LayoutModel",
            "justify_items": null,
            "grid_row": null,
            "max_height": null,
            "align_content": null,
            "visibility": null,
            "align_self": null,
            "height": null,
            "min_height": null,
            "padding": null,
            "grid_auto_rows": null,
            "grid_gap": null,
            "max_width": null,
            "order": null,
            "_view_module_version": "1.2.0",
            "grid_template_areas": null,
            "object_position": null,
            "object_fit": null,
            "grid_auto_columns": null,
            "margin": null,
            "display": null,
            "left": null
          }
        },
        "2c81f6a05ad54aa689a9a2b4b98d564c": {
          "model_module": "@jupyter-widgets/controls",
          "model_name": "DescriptionStyleModel",
          "state": {
            "_view_name": "StyleView",
            "_model_name": "DescriptionStyleModel",
            "description_width": "",
            "_view_module": "@jupyter-widgets/base",
            "_model_module_version": "1.5.0",
            "_view_count": null,
            "_view_module_version": "1.2.0",
            "_model_module": "@jupyter-widgets/controls"
          }
        },
        "3f40bc97550943f7bafb48e740dc2b34": {
          "model_module": "@jupyter-widgets/base",
          "model_name": "LayoutModel",
          "state": {
            "_view_name": "LayoutView",
            "grid_template_rows": null,
            "right": null,
            "justify_content": null,
            "_view_module": "@jupyter-widgets/base",
            "overflow": null,
            "_model_module_version": "1.2.0",
            "_view_count": null,
            "flex_flow": null,
            "width": null,
            "min_width": null,
            "border": null,
            "align_items": null,
            "bottom": null,
            "_model_module": "@jupyter-widgets/base",
            "top": null,
            "grid_column": null,
            "overflow_y": null,
            "overflow_x": null,
            "grid_auto_flow": null,
            "grid_area": null,
            "grid_template_columns": null,
            "flex": null,
            "_model_name": "LayoutModel",
            "justify_items": null,
            "grid_row": null,
            "max_height": null,
            "align_content": null,
            "visibility": null,
            "align_self": null,
            "height": null,
            "min_height": null,
            "padding": null,
            "grid_auto_rows": null,
            "grid_gap": null,
            "max_width": null,
            "order": null,
            "_view_module_version": "1.2.0",
            "grid_template_areas": null,
            "object_position": null,
            "object_fit": null,
            "grid_auto_columns": null,
            "margin": null,
            "display": null,
            "left": null
          }
        }
      }
    }
  },
  "cells": [
    {
      "cell_type": "markdown",
      "metadata": {
        "id": "view-in-github",
        "colab_type": "text"
      },
      "source": [
        "<a href=\"https://colab.research.google.com/github/salim-hbk/ai-ml/blob/main/VGG_Network.ipynb\" target=\"_parent\"><img src=\"https://colab.research.google.com/assets/colab-badge.svg\" alt=\"Open In Colab\"/></a>"
      ]
    },
    {
      "cell_type": "code",
      "metadata": {
        "id": "VuTAD-KPjyNc"
      },
      "source": [
        "import tensorflow as tf\r\n",
        "from tensorflow.keras.utils import plot_model"
      ],
      "execution_count": 1,
      "outputs": []
    },
    {
      "cell_type": "markdown",
      "metadata": {
        "id": "PkYBaSRvlNkl"
      },
      "source": [
        "Lets explore and Build VGG model. Using custom Model architecture.\r\n",
        "<img src='https://raw.githubusercontent.com/anhtuan85/TensorFlow-Advanced-Techniques-Specialization/98365012056370410d0280aeb0bcb454d1f65f82/Course%201%20-%20Custom%20Models%2C%20Layers%2C%20and%20Loss%20Functions%20with%20TensorFlow/Week%204/VGG.png' />\r\n",
        "\r\n",
        "**Creating named Variables**\r\n",
        "\r\n",
        "you will see the use of the Python function vars(). This will allow you to use a for loop to define and set multiple variables with a similar name, such as var1, var2, var3.\r\n",
        "\r\n",
        "Please go through the following examples to get familiar with vars(), as you will use it when building the VGG model.\r\n",
        "\r\n",
        "You'll start by defining a class MyClass\r\n",
        "\r\n",
        "It contains one variable var1.\r\n",
        "\r\n",
        "Create an object of type MyClass.\r\n",
        "\r\n",
        "Python classes have an attribute called __dict__.\r\n",
        "\r\n",
        "__dict__ is a Python dictionary that contains the object's instance variables and values as key value pairs."
      ]
    },
    {
      "cell_type": "code",
      "metadata": {
        "colab": {
          "base_uri": "https://localhost:8080/"
        },
        "id": "z-3ZWLSek-nh",
        "outputId": "7e16c037-d333-4730-c17e-66e781167327"
      },
      "source": [
        "class MyClass:\r\n",
        "  def __init__(self):\r\n",
        "    self.var1=1\r\n",
        "\r\n",
        "myClass = MyClass()\r\n",
        "\r\n",
        "myClass.__dict__"
      ],
      "execution_count": 2,
      "outputs": [
        {
          "output_type": "execute_result",
          "data": {
            "text/plain": [
              "{'var1': 1}"
            ]
          },
          "metadata": {
            "tags": []
          },
          "execution_count": 2
        }
      ]
    },
    {
      "cell_type": "markdown",
      "metadata": {
        "id": "miIW9LY6nQ3S"
      },
      "source": [
        "\r\n",
        "If you call vars() and pass in an object, it will call the object's __dict__ attribute, which is a Python dictionary containing the object's instance variables and their values as ke"
      ]
    },
    {
      "cell_type": "code",
      "metadata": {
        "colab": {
          "base_uri": "https://localhost:8080/"
        },
        "id": "_C91vDcSmolD",
        "outputId": "c58175e1-5d81-467c-bd28-823c8f298ce7"
      },
      "source": [
        "vars(myClass)"
      ],
      "execution_count": 3,
      "outputs": [
        {
          "output_type": "execute_result",
          "data": {
            "text/plain": [
              "{'var1': 1}"
            ]
          },
          "metadata": {
            "tags": []
          },
          "execution_count": 3
        }
      ]
    },
    {
      "cell_type": "code",
      "metadata": {
        "colab": {
          "base_uri": "https://localhost:8080/"
        },
        "id": "SGmKKND1nW3E",
        "outputId": "ede46ea0-e7ff-4f95-e57a-297f283ee85c"
      },
      "source": [
        "myClass.var2 = 2\r\n",
        "myClass.var3 = 3\r\n",
        "vars(myClass)"
      ],
      "execution_count": 4,
      "outputs": [
        {
          "output_type": "execute_result",
          "data": {
            "text/plain": [
              "{'var1': 1, 'var2': 2, 'var3': 3}"
            ]
          },
          "metadata": {
            "tags": []
          },
          "execution_count": 4
        }
      ]
    },
    {
      "cell_type": "code",
      "metadata": {
        "colab": {
          "base_uri": "https://localhost:8080/"
        },
        "id": "vPjGVUywntjJ",
        "outputId": "b6c08dfb-254a-4b19-a579-a8a1a96be8f6"
      },
      "source": [
        "vars(myClass)['var3'] = 33\r\n",
        "myClass.__dict__['var3'] = 44\r\n",
        "myClass.__dict__"
      ],
      "execution_count": 5,
      "outputs": [
        {
          "output_type": "execute_result",
          "data": {
            "text/plain": [
              "{'var1': 1, 'var2': 2, 'var3': 44}"
            ]
          },
          "metadata": {
            "tags": []
          },
          "execution_count": 5
        }
      ]
    },
    {
      "cell_type": "markdown",
      "metadata": {
        "id": "UN4uLxCco85K"
      },
      "source": [
        "Why this is helpful!\r\n",
        "\r\n",
        "You may be wondering why you would need another way to access an object's instance variables.\r\n",
        "\r\n",
        "Notice that when using vars(), you can now pass in the name of the variable var3 as a string.\r\n",
        "What if you plan to use several variables that are similarly named (var4, var5 ... var9) and wanted a convenient way to access them by incrementing a number?"
      ]
    },
    {
      "cell_type": "code",
      "metadata": {
        "colab": {
          "base_uri": "https://localhost:8080/"
        },
        "id": "a1C91CzmoeSV",
        "outputId": "c0016a60-c0cf-46f2-b9f6-d347d4a56b78"
      },
      "source": [
        "for i in range(1, 10):\r\n",
        "  vars(myClass)[f'var{i}'] = i\r\n",
        "\r\n",
        "vars(myClass)"
      ],
      "execution_count": 6,
      "outputs": [
        {
          "output_type": "execute_result",
          "data": {
            "text/plain": [
              "{'var1': 1,\n",
              " 'var2': 2,\n",
              " 'var3': 3,\n",
              " 'var4': 4,\n",
              " 'var5': 5,\n",
              " 'var6': 6,\n",
              " 'var7': 7,\n",
              " 'var8': 8,\n",
              " 'var9': 9}"
            ]
          },
          "metadata": {
            "tags": []
          },
          "execution_count": 6
        }
      ]
    },
    {
      "cell_type": "markdown",
      "metadata": {
        "id": "d6JJcyHVqoWc"
      },
      "source": [
        "Create a generic VGG block (TODO)\r\n",
        "\r\n",
        "The VGG Network has blocks of layers, where each block has a varied number of layers.\r\n",
        "\r\n",
        "In order to create blocks of layers that have a customizable number of conv2D layers, you'll define a class Block, which can generate a customizable block of layers\r\n",
        "\r\n",
        "__init__\r\n",
        "\r\n",
        "In the constructor __init__, store the conv2D parameters and also define the number of conv2D layers using the parameters passed into __init__.\r\n",
        "\r\n",
        "Store the filters, kernel_size, and repetitions as class variables so that they can be used later in the call function.\r\n",
        "Using a for loop, define a number of Conv2D Conv2D layers, based on the number of repetitions desired for this block.\r\n",
        "\r\n",
        "You can define each conv2D layer using vars and string formatting to create conv2D_0, conv2D_1, conv2D_3 etc.\r\n",
        "Set these four parameters of Conv2D:\r\n",
        "\r\n",
        "filters\r\n",
        "\r\n",
        "kernel_size\r\n",
        "\r\n",
        "activation: set this to 'relu'\r\n",
        "padding: set this to 'same' (default pading is 'valid').\r\n",
        "Define the MaxPool2D layer that follows these Conv2D layers.\r\n",
        "\r\n",
        "Set the following parameters for MaxPool2D:\r\n",
        "pool_size: this will be a tuple with two values.\r\n",
        "strides: this will also be a tuple with two values.\r\n",
        "call\r\n",
        "In call, you will connect the layers together.\r\n",
        "\r\n",
        "The 0-th conv2D layer, conv2D_0, immediately follows the inputs.\r\n",
        "For conv2D layers 1,2 and onward, you can use a for loop to connect conv2D_1 to conv2D_0, and connect conv2D_2 to conv2D_1, and so on.\r\n",
        "After connecting all of the conv2D_i layers, add connect the max_pool layer and return the max_pool layer."
      ]
    },
    {
      "cell_type": "code",
      "metadata": {
        "id": "QQddVJLzpVZF"
      },
      "source": [
        "class Block(tf.keras.Model):\r\n",
        "  def __init__(self, filters, kernel, repetitions, pool_size=2, strides=2):\r\n",
        "    super(Block, self).__init__()\r\n",
        "    self.filters = filters\r\n",
        "    self.kernel_size = kernel\r\n",
        "    self.repetitions = repetitions\r\n",
        "\r\n",
        "    for i in range(self.repetitions):\r\n",
        "      vars(self)[f'conv2d_{i}'] = tf.keras.layers.Conv2D(self.filters, self.kernel_size, activation='relu', padding='same')\r\n",
        "    \r\n",
        "    self.max_pool = tf.keras.layers.MaxPool2D(pool_size=pool_size, strides=strides)\r\n",
        "\r\n",
        "  def call(self, inputs):\r\n",
        "    conv2d0 = vars(self)['conv2d_0']\r\n",
        "    x= conv2d0(inputs)\r\n",
        "\r\n",
        "    for i in range(1, self.repetitions):\r\n",
        "      x = vars(self)[f'conv2d_{i}'](x)\r\n",
        "\r\n",
        "    max_pool = self.max_pool(x)\r\n",
        "    return max_pool\r\n"
      ],
      "execution_count": 7,
      "outputs": []
    },
    {
      "cell_type": "markdown",
      "metadata": {
        "id": "OZADKU3gu33z"
      },
      "source": [
        "Create the Custom VGG network (TODO)\r\n",
        "This model stack has a series of VGG blocks, which can be created using the Block class that you defined earlier.\r\n",
        "\r\n",
        "__init__\r\n",
        "\r\n",
        "Recall that the __init__ constructor of Block takes several function parameters,\r\n",
        "filters, kernel_size, repetitions: you'll set these.\r\n",
        "kernel_size and strides: you can use the default values.\r\n",
        "For blocks a through e, build the blocks according to the following \r\n",
        "\r\n",
        "specifications:\r\n",
        "\r\n",
        "block_a: 64 filters, kernel_size 3, repetitions 2\r\n",
        "\r\n",
        "block_b: 128 filters, kernel_size 3, repetitions 2\r\n",
        "\r\n",
        "block_c: 256 filters, kernel_size 3, repetitions 3\r\n",
        "\r\n",
        "block_d: 512 filters, kernel_size 3, repetitions 3\r\n",
        "\r\n",
        "block_e: 512 filters, kernel_size 3, repetitions 3\r\n",
        "\r\n",
        "After block 'e', add the following layers:\r\n",
        "\r\n",
        "flatten: use Flatten.\r\n",
        "\r\n",
        "fc: create a fully connected layer using Dense. Give this 256 units, and a 'relu' activation.\r\n",
        "classifier: create the classifier using a Dense layer. The number of units equals the number of classes. For multi-class classification, use a 'softmax' activation.\r\n",
        "call\r\n",
        "Connect these layers together using the functional API syntax:\r\n",
        "\r\n",
        "inputs\r\n",
        "block_a\r\n",
        "block_b\r\n",
        "block_c\r\n",
        "block_d\r\n",
        "block_e\r\n",
        "flatten\r\n",
        "fc\r\n",
        "classifier\r\n",
        "Return the classifier layer."
      ]
    },
    {
      "cell_type": "code",
      "metadata": {
        "id": "5xNcIQgjuyrP"
      },
      "source": [
        "class MyVgg(tf.keras.Model):\r\n",
        "  def __init__(self, num_classes):\r\n",
        "    super(MyVgg, self).__init__()\r\n",
        "    self.block_a = Block(filters=64,kernel=3,repetitions=2)\r\n",
        "    self.block_b = Block(filters=128,kernel=3,repetitions=2)\r\n",
        "    self.block_c = Block(filters=256,kernel=3,repetitions=3)\r\n",
        "    self.block_d = Block(filters=512,kernel=3,repetitions=3)\r\n",
        "    self.block_e = Block(filters=512,kernel=3,repetitions=3)\r\n",
        "\r\n",
        "    self.flatten = tf.keras.layers.Flatten()\r\n",
        "    self.fc = tf.keras.layers.Dense(256, 'relu')\r\n",
        "    self.classifier = tf.keras.layers.Dense(num_classes, 'softmax')\r\n",
        "\r\n",
        "  def call(self, inputs):\r\n",
        "    # Chain all the layers one after the other\r\n",
        "    x = self.block_a(inputs)\r\n",
        "    x = self.block_b(x)\r\n",
        "    x = self.block_c(x)\r\n",
        "    x = self.block_d(x)\r\n",
        "    x = self.block_e(x)\r\n",
        "    x = self.flatten(x)\r\n",
        "    x = self.fc(x)\r\n",
        "    x = self.classifier(x)\r\n",
        "    return x\r\n"
      ],
      "execution_count": 8,
      "outputs": []
    },
    {
      "cell_type": "markdown",
      "metadata": {
        "id": "PC1v4BJcxKOo"
      },
      "source": [
        "\r\n",
        "Load data and train the VGG network (Optional)\r\n",
        "\r\n",
        "You can now load the dataset and proceed to train your VGG network."
      ]
    },
    {
      "cell_type": "code",
      "metadata": {
        "id": "SmNNCZRFxFf1"
      },
      "source": [
        "import tensorflow_datasets as tfds"
      ],
      "execution_count": 9,
      "outputs": []
    },
    {
      "cell_type": "code",
      "metadata": {
        "colab": {
          "base_uri": "https://localhost:8080/",
          "height": 606,
          "referenced_widgets": [
            "c774364b86474d4199c92f513e73ab3c",
            "88ef347ba8d04a2bb4a624eca00ef186",
            "2d8622564be143b2b0544163de296d5e",
            "7c6151f54d534dd881ba9aba816ce32e",
            "bf55961835e340aba12c3999d9f0fdec",
            "3182440530264857b7230e0130c25332",
            "742d25e051ae4627a51e68536dce8a17",
            "08f41117ce2f42d7852463f2e3bd0692",
            "cc9dea50953c4ba9ba0ae2db1b7937ee",
            "db1fb88549f94de7a82a598fb3c384aa",
            "3eaee3c8c4ca4e01b90648fd677adebb",
            "58e75dc7ffc9452bbd3c634a2940d1a6",
            "57490090d3c949a29ee7b75706c460d6",
            "9f04c5f1f8f2407fa8c5d516bc03734c",
            "e11bc6813d86414c84f104563295426b",
            "84ebe10bf98140a8814fdc7c182030ec",
            "5733e559834e4868aab03d140591c5ea",
            "71d9dd86c85543dcb9558c0db9649a68",
            "e3039161d1d743ec977c6b14a1be27b6",
            "6d61da120a494b0cb499706111559626",
            "edf6e60a473c4a9cb5de7cf8f47f3b3a",
            "a4c89fec8dc142318e176d4c94cb6950",
            "2dabeaac081f4de18306889cca0645bf",
            "125162b9edde4bd7a8cab4433f9c7a14",
            "34d1f58e11fa491badb5b901cb7ebe0f",
            "f28a914c2a3449c3b5e120da499d20cb",
            "0c7c800b898a4c1a865083d001ac89b2",
            "4243ba60ccca459c90932ed101bc4634",
            "38219ea225b1470f84b1f0fc99e15b09",
            "68f1778c3ed34c13b127cbb87e0f7e1a",
            "2c81f6a05ad54aa689a9a2b4b98d564c",
            "3f40bc97550943f7bafb48e740dc2b34"
          ]
        },
        "id": "TeJsQqhSxUFP",
        "outputId": "05c80708-ecae-4a32-c44b-6263a03a2431"
      },
      "source": [
        "datasets= tfds.load('cats_vs_dogs', split=tfds.Split.TRAIN, data_dir='data/')\r\n",
        "vgg = MyVgg(num_classes=2)\r\n",
        "\r\n",
        "vgg.compile(optimizer='adam', loss='sparse_categorical_crossentropy', metrics=['accuracy'])\r\n",
        "\r\n",
        "def preprocess(features):\r\n",
        "  images = tf.image.resize(features['image'], (224, 224))\r\n",
        "  return tf.cast(images, tf.float32) / 255., features['label']\r\n",
        "\r\n",
        "dataset = datasets.map(preprocess).batch(32)\r\n",
        "\r\n",
        "vgg.fit(dataset, epochs=10)"
      ],
      "execution_count": 10,
      "outputs": [
        {
          "output_type": "stream",
          "text": [
            "\u001b[1mDownloading and preparing dataset cats_vs_dogs/4.0.0 (download: 786.68 MiB, generated: Unknown size, total: 786.68 MiB) to data/cats_vs_dogs/4.0.0...\u001b[0m\n"
          ],
          "name": "stdout"
        },
        {
          "output_type": "display_data",
          "data": {
            "application/vnd.jupyter.widget-view+json": {
              "model_id": "c774364b86474d4199c92f513e73ab3c",
              "version_minor": 0,
              "version_major": 2
            },
            "text/plain": [
              "HBox(children=(FloatProgress(value=1.0, bar_style='info', description='Dl Completed...', max=1.0, style=Progre…"
            ]
          },
          "metadata": {
            "tags": []
          }
        },
        {
          "output_type": "display_data",
          "data": {
            "application/vnd.jupyter.widget-view+json": {
              "model_id": "cc9dea50953c4ba9ba0ae2db1b7937ee",
              "version_minor": 0,
              "version_major": 2
            },
            "text/plain": [
              "HBox(children=(FloatProgress(value=1.0, bar_style='info', description='Dl Size...', max=1.0, style=ProgressSty…"
            ]
          },
          "metadata": {
            "tags": []
          }
        },
        {
          "output_type": "stream",
          "text": [
            "\n",
            "\n",
            "\n",
            "\n"
          ],
          "name": "stdout"
        },
        {
          "output_type": "display_data",
          "data": {
            "application/vnd.jupyter.widget-view+json": {
              "model_id": "5733e559834e4868aab03d140591c5ea",
              "version_minor": 0,
              "version_major": 2
            },
            "text/plain": [
              "HBox(children=(FloatProgress(value=1.0, bar_style='info', max=1.0), HTML(value='')))"
            ]
          },
          "metadata": {
            "tags": []
          }
        },
        {
          "output_type": "stream",
          "text": [
            "WARNING:absl:1738 images were corrupted and were skipped\n"
          ],
          "name": "stderr"
        },
        {
          "output_type": "stream",
          "text": [
            "\rShuffling and writing examples to data/cats_vs_dogs/4.0.0.incomplete4LYYDA/cats_vs_dogs-train.tfrecord\n"
          ],
          "name": "stdout"
        },
        {
          "output_type": "display_data",
          "data": {
            "application/vnd.jupyter.widget-view+json": {
              "model_id": "34d1f58e11fa491badb5b901cb7ebe0f",
              "version_minor": 0,
              "version_major": 2
            },
            "text/plain": [
              "HBox(children=(FloatProgress(value=0.0, max=23262.0), HTML(value='')))"
            ]
          },
          "metadata": {
            "tags": []
          }
        },
        {
          "output_type": "stream",
          "text": [
            "\u001b[1mDataset cats_vs_dogs downloaded and prepared to data/cats_vs_dogs/4.0.0. Subsequent calls will reuse this data.\u001b[0m\n",
            "Epoch 1/10\n",
            "727/727 [==============================] - 95s 118ms/step - loss: 0.6919 - accuracy: 0.5298\n",
            "Epoch 2/10\n",
            "727/727 [==============================] - 87s 120ms/step - loss: 0.6688 - accuracy: 0.6062\n",
            "Epoch 3/10\n",
            "727/727 [==============================] - 88s 121ms/step - loss: 0.6378 - accuracy: 0.6473\n",
            "Epoch 4/10\n",
            "727/727 [==============================] - 88s 121ms/step - loss: 0.6149 - accuracy: 0.6652\n",
            "Epoch 5/10\n",
            "727/727 [==============================] - 88s 121ms/step - loss: 0.6011 - accuracy: 0.6758\n",
            "Epoch 6/10\n",
            "727/727 [==============================] - 87s 120ms/step - loss: 0.5918 - accuracy: 0.6833\n",
            "Epoch 7/10\n",
            "727/727 [==============================] - 88s 120ms/step - loss: 0.5846 - accuracy: 0.6894\n",
            "Epoch 8/10\n",
            "727/727 [==============================] - 88s 121ms/step - loss: 0.5785 - accuracy: 0.6958\n",
            "Epoch 9/10\n",
            "727/727 [==============================] - 88s 121ms/step - loss: 0.5728 - accuracy: 0.6991\n",
            "Epoch 10/10\n",
            "727/727 [==============================] - 88s 121ms/step - loss: 0.5675 - accuracy: 0.7046\n"
          ],
          "name": "stdout"
        },
        {
          "output_type": "execute_result",
          "data": {
            "text/plain": [
              "<tensorflow.python.keras.callbacks.History at 0x7faf7a0bf2b0>"
            ]
          },
          "metadata": {
            "tags": []
          },
          "execution_count": 10
        }
      ]
    },
    {
      "cell_type": "code",
      "metadata": {
        "id": "7BQRu4C7zyRH"
      },
      "source": [
        ""
      ],
      "execution_count": null,
      "outputs": []
    }
  ]
}