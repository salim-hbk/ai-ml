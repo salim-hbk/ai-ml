{
  "nbformat": 4,
  "nbformat_minor": 0,
  "metadata": {
    "colab": {
      "name": "TF_Custom_Learning_Model.ipynb",
      "provenance": [],
      "authorship_tag": "ABX9TyNoMtID0Agq5AEdLy7OknBd",
      "include_colab_link": true
    },
    "kernelspec": {
      "name": "python3",
      "display_name": "Python 3"
    }
  },
  "cells": [
    {
      "cell_type": "markdown",
      "metadata": {
        "id": "view-in-github",
        "colab_type": "text"
      },
      "source": [
        "<a href=\"https://colab.research.google.com/github/salim-hbk/ai-ml/blob/main/TF_Custom_Learning_Model.ipynb\" target=\"_parent\"><img src=\"https://colab.research.google.com/assets/colab-badge.svg\" alt=\"Open In Colab\"/></a>"
      ]
    },
    {
      "cell_type": "code",
      "metadata": {
        "id": "wViOzOvcKrC1"
      },
      "source": [
        "import numpy as np\r\n",
        "import matplotlib.pyplot as plt\r\n",
        "import tensorflow as tf"
      ],
      "execution_count": 5,
      "outputs": []
    },
    {
      "cell_type": "code",
      "metadata": {
        "id": "1x-mGc9OK6MT"
      },
      "source": [
        "true_w = 3\r\n",
        "true_b  = 0.2\r\n",
        "max_data = 1000\r\n",
        "tf.random.set_seed(5)\r\n",
        "train_x = tf.random.normal(shape=[max_data])\r\n",
        "test_x = tf.random.normal(shape=[500])\r\n",
        "train_y = (true_w * train_x)+true_b\r\n",
        "test_y = (true_w * test_x)+true_b"
      ],
      "execution_count": 25,
      "outputs": []
    },
    {
      "cell_type": "code",
      "metadata": {
        "id": "S052d8g6Lde6"
      },
      "source": [
        "class Model():\r\n",
        "\r\n",
        "  def __init__(self):\r\n",
        "    self.w = tf.Variable(2.0)\r\n",
        "    self.b = tf.Variable(0.)\r\n",
        "\r\n",
        "  def __call__(self, x):\r\n",
        "    return (self.w*x)+self.b\r\n",
        "  \r\n",
        "model = Model()"
      ],
      "execution_count": 26,
      "outputs": []
    },
    {
      "cell_type": "code",
      "metadata": {
        "id": "Pxk-dBhsQ-4o"
      },
      "source": [
        "def loss(y_true, y_exp):\r\n",
        "  return tf.reduce_mean(tf.square(y_exp - y_true))"
      ],
      "execution_count": 30,
      "outputs": []
    },
    {
      "cell_type": "code",
      "metadata": {
        "colab": {
          "base_uri": "https://localhost:8080/",
          "height": 265
        },
        "id": "xxwSSKMUSAms",
        "outputId": "b38a4eb3-2051-4f5d-846f-14ccdb325204"
      },
      "source": [
        "def plot_data(input, output, predicted):\r\n",
        "  actual = plt.scatter(input, output, c='b')\r\n",
        "  expected =plt.scatter(input, predicted, c = 'r')\r\n",
        "  plt.legend((actual, expected), ('Real data', 'Expected data'))\r\n",
        "\r\n",
        "plot_data(train_x, train_y, model(train_x))"
      ],
      "execution_count": 31,
      "outputs": [
        {
          "output_type": "display_data",
          "data": {
            "image/png": "[encoded data removed]",
            "text/plain": [
              "<Figure size 432x288 with 1 Axes>"
            ]
          },
          "metadata": {
            "tags": [],
            "needs_background": "light"
          }
        }
      ]
    },
    {
      "cell_type": "code",
      "metadata": {
        "id": "I9knoejZYnON"
      },
      "source": [
        "lr = 0.01"
      ],
      "execution_count": 16,
      "outputs": []
    },
    {
      "cell_type": "code",
      "metadata": {
        "id": "AwIc75G-RgWh"
      },
      "source": [
        "def train(train_x, train_y, lr):\r\n",
        "  with tf.GradientTape() as t:\r\n",
        "    current_loss = loss(train_y, model(train_x))\r\n",
        "  dw, db = t.gradient(current_loss, [model.w, model.b])\r\n",
        "  model.w.assign_sub((lr*dw))\r\n",
        "  model.b.assign_sub((lr*db))\r\n",
        "  return current_loss"
      ],
      "execution_count": 32,
      "outputs": []
    },
    {
      "cell_type": "code",
      "metadata": {
        "colab": {
          "base_uri": "https://localhost:8080/"
        },
        "id": "wJjjSLV7ZSJT",
        "outputId": "e2741fc1-65dc-4df5-c8b7-f1ea1f081c8b"
      },
      "source": [
        "list_w =[]\r\n",
        "list_b = []\r\n",
        "epochs = range(15)\r\n",
        "losses = []\r\n",
        "\r\n",
        "for i in epochs:\r\n",
        "  list_w.append(model.w.numpy())\r\n",
        "  list_b.append(model.b.numpy())\r\n",
        "  current_loss = train(train_x, train_y, 0.1)\r\n",
        "  losses.append(current_loss)\r\n",
        "\r\n",
        "  print(f'Epoch :{i} --- Weight: {list_w[-1]} --- Bias: {list_b[-1]}, --- Loss: {current_loss}')\r\n"
      ],
      "execution_count": 33,
      "outputs": [
        {
          "output_type": "stream",
          "text": [
            "Epoch :0 --- Weight: 2.0 --- Bias: 0.0, --- Loss: 1.084196925163269\n",
            "Epoch :1 --- Weight: 2.2098617553710938 --- Bias: 0.034887779504060745, --- Loss: 0.6788871884346008\n",
            "Epoch :2 --- Weight: 2.375645399093628 --- Bias: 0.0638708621263504, --- Loss: 0.42521920800209045\n",
            "Epoch :3 --- Weight: 2.5066161155700684 --- Bias: 0.08790484815835953, --- Loss: 0.26641327142715454\n",
            "Epoch :4 --- Weight: 2.6100900173187256 --- Bias: 0.10780158638954163, --- Loss: 0.16696621477603912\n",
            "Epoch :5 --- Weight: 2.6918444633483887 --- Bias: 0.1242479607462883, --- Loss: 0.10467267781496048\n",
            "Epoch :6 --- Weight: 2.7564423084259033 --- Bias: 0.13782300055027008, --- Loss: 0.06564042717218399\n",
            "Epoch :7 --- Weight: 2.8074870109558105 --- Bias: 0.14901326596736908, --- Loss: 0.041176024824380875\n",
            "Epoch :8 --- Weight: 2.8478243350982666 --- Bias: 0.15822644531726837, --- Loss: 0.025837741792201996\n",
            "Epoch :9 --- Weight: 2.87970232963562 --- Bias: 0.1658031940460205, --- Loss: 0.01621820405125618\n",
            "Epoch :10 --- Weight: 2.9048964977264404 --- Bias: 0.1720275729894638, --- Loss: 0.010183358564972878\n",
            "Epoch :11 --- Weight: 2.924809217453003 --- Bias: 0.1771358698606491, --- Loss: 0.006396212615072727\n",
            "Epoch :12 --- Weight: 2.940548896789551 --- Bias: 0.181324303150177, --- Loss: 0.004018804524093866\n",
            "Epoch :13 --- Weight: 2.952990770339966 --- Bias: 0.18475550413131714, --- Loss: 0.002525890711694956\n",
            "Epoch :14 --- Weight: 2.9628262519836426 --- Bias: 0.18756407499313354, --- Loss: 0.001588110695593059\n"
          ],
          "name": "stdout"
        }
      ]
    },
    {
      "cell_type": "code",
      "metadata": {
        "colab": {
          "base_uri": "https://localhost:8080/",
          "height": 265
        },
        "id": "QS77JUMZc0yq",
        "outputId": "1d8e4ce1-59cd-45b0-ecc7-2cfbaab2de1e"
      },
      "source": [
        "plt.plot(epochs, list_w, 'r', epochs, list_b, 'b')\r\n",
        "plt.plot([true_w]* len(epochs), 'r--',\r\n",
        "         [true_b]*len(epochs), 'b--')\r\n",
        "\r\n",
        "plt.legend(['w', 'b', 'true_w', 'true_b'])\r\n",
        "plt.show()"
      ],
      "execution_count": 38,
      "outputs": [
        {
          "output_type": "display_data",
          "data": {
            "image/png": "[encoded data removed]",
            "text/plain": [
              "<Figure size 432x288 with 1 Axes>"
            ]
          },
          "metadata": {
            "tags": [],
            "needs_background": "light"
          }
        }
      ]
    }
  ]
}