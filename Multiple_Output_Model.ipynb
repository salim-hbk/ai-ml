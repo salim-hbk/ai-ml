{
  "nbformat": 4,
  "nbformat_minor": 0,
  "metadata": {
    "colab": {
      "name": "Multiple_Output_Model.ipynb",
      "provenance": [],
      "authorship_tag": "ABX9TyPnDZOXMB9H0CoUTv9QwzRQ",
      "include_colab_link": true
    },
    "kernelspec": {
      "name": "python3",
      "display_name": "Python 3"
    }
  },
  "cells": [
    {
      "cell_type": "markdown",
      "metadata": {
        "id": "view-in-github",
        "colab_type": "text"
      },
      "source": [
        "<a href=\"https://colab.research.google.com/github/salim-hbk/ai-ml/blob/main/Multiple_Output_Model.ipynb\" target=\"_parent\"><img src=\"https://colab.research.google.com/assets/colab-badge.svg\" alt=\"Open In Colab\"/></a>"
      ]
    },
    {
      "cell_type": "markdown",
      "metadata": {
        "id": "X4KLPlgC84su"
      },
      "source": [
        "Normally, the wines are classified into one of the quality ratings specified in the attributes. In this exercise, you will combine the two datasets to predict the wine quality and whether the wine is red or white solely from the attributes.\r\n",
        "\r\n",
        "You will model wine quality estimations as a regression problem and wine type detection as a binary classification problem."
      ]
    },
    {
      "cell_type": "code",
      "metadata": {
        "id": "EUf57xyn870A"
      },
      "source": [
        "import tensorflow as tf\r\n",
        "from tensorflow.keras.models import Model\r\n",
        "from tensorflow.keras.layers import Dense, Input\r\n",
        "\r\n",
        "import numpy as np\r\n",
        "import matplotlib.pyplot as plt\r\n",
        "import pandas as pd\r\n",
        "from sklearn.model_selection import train_test_split\r\n",
        "from sklearn.metrics import confusion_matrix\r\n",
        "import itertools"
      ],
      "execution_count": 2,
      "outputs": []
    },
    {
      "cell_type": "code",
      "metadata": {
        "id": "SOCuiSNe9COJ"
      },
      "source": [
        "URL = 'http://archive.ics.uci.edu/ml/machine-learning-databases/wine-quality/winequality-white.csv'\r\n",
        "white_df = pd.read_csv(URL, sep=\";\")\r\n",
        "white_df['is_red'] = 0"
      ],
      "execution_count": 3,
      "outputs": []
    },
    {
      "cell_type": "code",
      "metadata": {
        "colab": {
          "base_uri": "https://localhost:8080/",
          "height": 204
        },
        "id": "BwAIPq_r9jAM",
        "outputId": "4dba334d-9178-4e95-9e9b-727636ce488a"
      },
      "source": [
        "white_df =  white_df.drop_duplicates(keep='first')\r\n",
        "white_df.head()"
      ],
      "execution_count": 4,
      "outputs": [
        {
          "output_type": "execute_result",
          "data": {
            "text/html": [
              "<div>\n",
              "<style scoped>\n",
              "    .dataframe tbody tr th:only-of-type {\n",
              "        vertical-align: middle;\n",
              "    }\n",
              "\n",
              "    .dataframe tbody tr th {\n",
              "        vertical-align: top;\n",
              "    }\n",
              "\n",
              "    .dataframe thead th {\n",
              "        text-align: right;\n",
              "    }\n",
              "</style>\n",
              "<table border=\"1\" class=\"dataframe\">\n",
              "  <thead>\n",
              "    <tr style=\"text-align: right;\">\n",
              "      <th></th>\n",
              "      <th>fixed acidity</th>\n",
              "      <th>volatile acidity</th>\n",
              "      <th>citric acid</th>\n",
              "      <th>residual sugar</th>\n",
              "      <th>chlorides</th>\n",
              "      <th>free sulfur dioxide</th>\n",
              "      <th>total sulfur dioxide</th>\n",
              "      <th>density</th>\n",
              "      <th>pH</th>\n",
              "      <th>sulphates</th>\n",
              "      <th>alcohol</th>\n",
              "      <th>quality</th>\n",
              "      <th>is_red</th>\n",
              "    </tr>\n",
              "  </thead>\n",
              "  <tbody>\n",
              "    <tr>\n",
              "      <th>0</th>\n",
              "      <td>7.0</td>\n",
              "      <td>0.27</td>\n",
              "      <td>0.36</td>\n",
              "      <td>20.7</td>\n",
              "      <td>0.045</td>\n",
              "      <td>45.0</td>\n",
              "      <td>170.0</td>\n",
              "      <td>1.0010</td>\n",
              "      <td>3.00</td>\n",
              "      <td>0.45</td>\n",
              "      <td>8.8</td>\n",
              "      <td>6</td>\n",
              "      <td>0</td>\n",
              "    </tr>\n",
              "    <tr>\n",
              "      <th>1</th>\n",
              "      <td>6.3</td>\n",
              "      <td>0.30</td>\n",
              "      <td>0.34</td>\n",
              "      <td>1.6</td>\n",
              "      <td>0.049</td>\n",
              "      <td>14.0</td>\n",
              "      <td>132.0</td>\n",
              "      <td>0.9940</td>\n",
              "      <td>3.30</td>\n",
              "      <td>0.49</td>\n",
              "      <td>9.5</td>\n",
              "      <td>6</td>\n",
              "      <td>0</td>\n",
              "    </tr>\n",
              "    <tr>\n",
              "      <th>2</th>\n",
              "      <td>8.1</td>\n",
              "      <td>0.28</td>\n",
              "      <td>0.40</td>\n",
              "      <td>6.9</td>\n",
              "      <td>0.050</td>\n",
              "      <td>30.0</td>\n",
              "      <td>97.0</td>\n",
              "      <td>0.9951</td>\n",
              "      <td>3.26</td>\n",
              "      <td>0.44</td>\n",
              "      <td>10.1</td>\n",
              "      <td>6</td>\n",
              "      <td>0</td>\n",
              "    </tr>\n",
              "    <tr>\n",
              "      <th>3</th>\n",
              "      <td>7.2</td>\n",
              "      <td>0.23</td>\n",
              "      <td>0.32</td>\n",
              "      <td>8.5</td>\n",
              "      <td>0.058</td>\n",
              "      <td>47.0</td>\n",
              "      <td>186.0</td>\n",
              "      <td>0.9956</td>\n",
              "      <td>3.19</td>\n",
              "      <td>0.40</td>\n",
              "      <td>9.9</td>\n",
              "      <td>6</td>\n",
              "      <td>0</td>\n",
              "    </tr>\n",
              "    <tr>\n",
              "      <th>6</th>\n",
              "      <td>6.2</td>\n",
              "      <td>0.32</td>\n",
              "      <td>0.16</td>\n",
              "      <td>7.0</td>\n",
              "      <td>0.045</td>\n",
              "      <td>30.0</td>\n",
              "      <td>136.0</td>\n",
              "      <td>0.9949</td>\n",
              "      <td>3.18</td>\n",
              "      <td>0.47</td>\n",
              "      <td>9.6</td>\n",
              "      <td>6</td>\n",
              "      <td>0</td>\n",
              "    </tr>\n",
              "  </tbody>\n",
              "</table>\n",
              "</div>"
            ],
            "text/plain": [
              "   fixed acidity  volatile acidity  citric acid  ...  alcohol  quality  is_red\n",
              "0            7.0              0.27         0.36  ...      8.8        6       0\n",
              "1            6.3              0.30         0.34  ...      9.5        6       0\n",
              "2            8.1              0.28         0.40  ...     10.1        6       0\n",
              "3            7.2              0.23         0.32  ...      9.9        6       0\n",
              "6            6.2              0.32         0.16  ...      9.6        6       0\n",
              "\n",
              "[5 rows x 13 columns]"
            ]
          },
          "metadata": {
            "tags": []
          },
          "execution_count": 4
        }
      ]
    },
    {
      "cell_type": "code",
      "metadata": {
        "id": "CVgdBZlg99TA"
      },
      "source": [
        "# URL of the red wine dataset\r\n",
        "URL = 'http://archive.ics.uci.edu/ml/machine-learning-databases/wine-quality/winequality-red.csv'\r\n",
        "\r\n",
        "# load the dataset from the URL\r\n",
        "red_df = pd.read_csv(URL, sep=\";\")\r\n",
        "\r\n",
        "# fill the `is_red` column with ones.\r\n",
        "red_df[\"is_red\"] = 1\r\n",
        "\r\n",
        "# keep only the first of duplicate items\r\n",
        "red_df = red_df.drop_duplicates(keep='first')"
      ],
      "execution_count": 5,
      "outputs": []
    },
    {
      "cell_type": "code",
      "metadata": {
        "colab": {
          "base_uri": "https://localhost:8080/",
          "height": 297
        },
        "id": "hsa4jN3n-PRD",
        "outputId": "89ce9be2-46e6-4064-a897-b7b73848cee3"
      },
      "source": [
        "df = pd.concat([red_df, white_df], ignore_index=True)\r\n",
        "df.describe()"
      ],
      "execution_count": 6,
      "outputs": [
        {
          "output_type": "execute_result",
          "data": {
            "text/html": [
              "<div>\n",
              "<style scoped>\n",
              "    .dataframe tbody tr th:only-of-type {\n",
              "        vertical-align: middle;\n",
              "    }\n",
              "\n",
              "    .dataframe tbody tr th {\n",
              "        vertical-align: top;\n",
              "    }\n",
              "\n",
              "    .dataframe thead th {\n",
              "        text-align: right;\n",
              "    }\n",
              "</style>\n",
              "<table border=\"1\" class=\"dataframe\">\n",
              "  <thead>\n",
              "    <tr style=\"text-align: right;\">\n",
              "      <th></th>\n",
              "      <th>fixed acidity</th>\n",
              "      <th>volatile acidity</th>\n",
              "      <th>citric acid</th>\n",
              "      <th>residual sugar</th>\n",
              "      <th>chlorides</th>\n",
              "      <th>free sulfur dioxide</th>\n",
              "      <th>total sulfur dioxide</th>\n",
              "      <th>density</th>\n",
              "      <th>pH</th>\n",
              "      <th>sulphates</th>\n",
              "      <th>alcohol</th>\n",
              "      <th>quality</th>\n",
              "      <th>is_red</th>\n",
              "    </tr>\n",
              "  </thead>\n",
              "  <tbody>\n",
              "    <tr>\n",
              "      <th>count</th>\n",
              "      <td>5320.000000</td>\n",
              "      <td>5320.000000</td>\n",
              "      <td>5320.000000</td>\n",
              "      <td>5320.000000</td>\n",
              "      <td>5320.000000</td>\n",
              "      <td>5320.000000</td>\n",
              "      <td>5320.000000</td>\n",
              "      <td>5320.000000</td>\n",
              "      <td>5320.000000</td>\n",
              "      <td>5320.000000</td>\n",
              "      <td>5320.000000</td>\n",
              "      <td>5320.000000</td>\n",
              "      <td>5320.000000</td>\n",
              "    </tr>\n",
              "    <tr>\n",
              "      <th>mean</th>\n",
              "      <td>7.215179</td>\n",
              "      <td>0.344130</td>\n",
              "      <td>0.318494</td>\n",
              "      <td>5.048477</td>\n",
              "      <td>0.056690</td>\n",
              "      <td>30.036654</td>\n",
              "      <td>114.109023</td>\n",
              "      <td>0.994535</td>\n",
              "      <td>3.224664</td>\n",
              "      <td>0.533357</td>\n",
              "      <td>10.549241</td>\n",
              "      <td>5.795677</td>\n",
              "      <td>0.255451</td>\n",
              "    </tr>\n",
              "    <tr>\n",
              "      <th>std</th>\n",
              "      <td>1.319671</td>\n",
              "      <td>0.168248</td>\n",
              "      <td>0.147157</td>\n",
              "      <td>4.500180</td>\n",
              "      <td>0.036863</td>\n",
              "      <td>17.805045</td>\n",
              "      <td>56.774223</td>\n",
              "      <td>0.002966</td>\n",
              "      <td>0.160379</td>\n",
              "      <td>0.149743</td>\n",
              "      <td>1.185933</td>\n",
              "      <td>0.879772</td>\n",
              "      <td>0.436155</td>\n",
              "    </tr>\n",
              "    <tr>\n",
              "      <th>min</th>\n",
              "      <td>3.800000</td>\n",
              "      <td>0.080000</td>\n",
              "      <td>0.000000</td>\n",
              "      <td>0.600000</td>\n",
              "      <td>0.009000</td>\n",
              "      <td>1.000000</td>\n",
              "      <td>6.000000</td>\n",
              "      <td>0.987110</td>\n",
              "      <td>2.720000</td>\n",
              "      <td>0.220000</td>\n",
              "      <td>8.000000</td>\n",
              "      <td>3.000000</td>\n",
              "      <td>0.000000</td>\n",
              "    </tr>\n",
              "    <tr>\n",
              "      <th>25%</th>\n",
              "      <td>6.400000</td>\n",
              "      <td>0.230000</td>\n",
              "      <td>0.240000</td>\n",
              "      <td>1.800000</td>\n",
              "      <td>0.038000</td>\n",
              "      <td>16.000000</td>\n",
              "      <td>74.000000</td>\n",
              "      <td>0.992200</td>\n",
              "      <td>3.110000</td>\n",
              "      <td>0.430000</td>\n",
              "      <td>9.500000</td>\n",
              "      <td>5.000000</td>\n",
              "      <td>0.000000</td>\n",
              "    </tr>\n",
              "    <tr>\n",
              "      <th>50%</th>\n",
              "      <td>7.000000</td>\n",
              "      <td>0.300000</td>\n",
              "      <td>0.310000</td>\n",
              "      <td>2.700000</td>\n",
              "      <td>0.047000</td>\n",
              "      <td>28.000000</td>\n",
              "      <td>116.000000</td>\n",
              "      <td>0.994650</td>\n",
              "      <td>3.210000</td>\n",
              "      <td>0.510000</td>\n",
              "      <td>10.400000</td>\n",
              "      <td>6.000000</td>\n",
              "      <td>0.000000</td>\n",
              "    </tr>\n",
              "    <tr>\n",
              "      <th>75%</th>\n",
              "      <td>7.700000</td>\n",
              "      <td>0.410000</td>\n",
              "      <td>0.400000</td>\n",
              "      <td>7.500000</td>\n",
              "      <td>0.066000</td>\n",
              "      <td>41.000000</td>\n",
              "      <td>153.250000</td>\n",
              "      <td>0.996770</td>\n",
              "      <td>3.330000</td>\n",
              "      <td>0.600000</td>\n",
              "      <td>11.400000</td>\n",
              "      <td>6.000000</td>\n",
              "      <td>1.000000</td>\n",
              "    </tr>\n",
              "    <tr>\n",
              "      <th>max</th>\n",
              "      <td>15.900000</td>\n",
              "      <td>1.580000</td>\n",
              "      <td>1.660000</td>\n",
              "      <td>65.800000</td>\n",
              "      <td>0.611000</td>\n",
              "      <td>289.000000</td>\n",
              "      <td>440.000000</td>\n",
              "      <td>1.038980</td>\n",
              "      <td>4.010000</td>\n",
              "      <td>2.000000</td>\n",
              "      <td>14.900000</td>\n",
              "      <td>9.000000</td>\n",
              "      <td>1.000000</td>\n",
              "    </tr>\n",
              "  </tbody>\n",
              "</table>\n",
              "</div>"
            ],
            "text/plain": [
              "       fixed acidity  volatile acidity  ...      quality       is_red\n",
              "count    5320.000000       5320.000000  ...  5320.000000  5320.000000\n",
              "mean        7.215179          0.344130  ...     5.795677     0.255451\n",
              "std         1.319671          0.168248  ...     0.879772     0.436155\n",
              "min         3.800000          0.080000  ...     3.000000     0.000000\n",
              "25%         6.400000          0.230000  ...     5.000000     0.000000\n",
              "50%         7.000000          0.300000  ...     6.000000     0.000000\n",
              "75%         7.700000          0.410000  ...     6.000000     1.000000\n",
              "max        15.900000          1.580000  ...     9.000000     1.000000\n",
              "\n",
              "[8 rows x 13 columns]"
            ]
          },
          "metadata": {
            "tags": []
          },
          "execution_count": 6
        }
      ]
    },
    {
      "cell_type": "markdown",
      "metadata": {
        "id": "-AjYsYEr_WFq"
      },
      "source": [
        "Lets chart the wine dataset based on the wine quality to check balanced vs imbalanced dataset"
      ]
    },
    {
      "cell_type": "code",
      "metadata": {
        "colab": {
          "base_uri": "https://localhost:8080/",
          "height": 282
        },
        "id": "SIuSZ4AW_B-7",
        "outputId": "30fa7d2c-3776-49ac-883d-20e69165031d"
      },
      "source": [
        "df['quality'].hist(bins=20)"
      ],
      "execution_count": 8,
      "outputs": [
        {
          "output_type": "execute_result",
          "data": {
            "text/plain": [
              "<matplotlib.axes._subplots.AxesSubplot at 0x7f6397000dd8>"
            ]
          },
          "metadata": {
            "tags": []
          },
          "execution_count": 8
        },
        {
          "output_type": "display_data",
          "data": {
            "image/png": "[encoded data removed]",
            "text/plain": [
              "<Figure size 432x288 with 1 Axes>"
            ]
          },
          "metadata": {
            "tags": [],
            "needs_background": "light"
          }
        }
      ]
    },
    {
      "cell_type": "markdown",
      "metadata": {
        "id": "-Y4omMyR_vhi"
      },
      "source": [
        "As we can see there are very few data related to quality index 3,4,8,9"
      ]
    },
    {
      "cell_type": "code",
      "metadata": {
        "id": "BOys3QjR_jix"
      },
      "source": [
        "df = df[(df['quality']>4) & (df['quality']<8)]\r\n",
        "df = df.reset_index(drop=True)"
      ],
      "execution_count": 11,
      "outputs": []
    },
    {
      "cell_type": "code",
      "metadata": {
        "colab": {
          "base_uri": "https://localhost:8080/",
          "height": 282
        },
        "id": "PYWFpHPNARQ0",
        "outputId": "0acc2565-b2f2-4046-8abb-54eb54b5643d"
      },
      "source": [
        "df['quality'].hist(bins=20)"
      ],
      "execution_count": 12,
      "outputs": [
        {
          "output_type": "execute_result",
          "data": {
            "text/plain": [
              "<matplotlib.axes._subplots.AxesSubplot at 0x7f6396f4c470>"
            ]
          },
          "metadata": {
            "tags": []
          },
          "execution_count": 12
        },
        {
          "output_type": "display_data",
          "data": {
            "image/png": "[encoded data removed]",
            "text/plain": [
              "<Figure size 432x288 with 1 Axes>"
            ]
          },
          "metadata": {
            "tags": [],
            "needs_background": "light"
          }
        }
      ]
    },
    {
      "cell_type": "markdown",
      "metadata": {
        "id": "4Zt46u41A6E3"
      },
      "source": [
        "Train Test Split (TODO)\r\n",
        "Next, you can split the datasets into training, test and validation datasets.\r\n",
        "\r\n",
        "*   The data frame should be split 80:20 into train and test sets.\r\n",
        "*   The resulting train should then be split 80:20 into train and val sets.\r\n",
        "*   The train_test_split parameter test_size takes a float value that ranges between 0. and 1, and represents the proportion of the dataset that is allocated to the test set. The rest of the data is allocated to the training set."
      ]
    },
    {
      "cell_type": "code",
      "metadata": {
        "id": "rBjN9NdGA12s"
      },
      "source": [
        "train, test = train_test_split(df, test_size=0.2, random_state=1)\r\n",
        "train, val = train_test_split(train, test_size=0.2, random_state=1)"
      ],
      "execution_count": 28,
      "outputs": []
    },
    {
      "cell_type": "code",
      "metadata": {
        "colab": {
          "base_uri": "https://localhost:8080/",
          "height": 204
        },
        "id": "-r5cQdwuCnap",
        "outputId": "590f6841-5d48-4f63-d95c-7bad601ae54e"
      },
      "source": [
        "train.head()"
      ],
      "execution_count": 29,
      "outputs": [
        {
          "output_type": "execute_result",
          "data": {
            "text/html": [
              "<div>\n",
              "<style scoped>\n",
              "    .dataframe tbody tr th:only-of-type {\n",
              "        vertical-align: middle;\n",
              "    }\n",
              "\n",
              "    .dataframe tbody tr th {\n",
              "        vertical-align: top;\n",
              "    }\n",
              "\n",
              "    .dataframe thead th {\n",
              "        text-align: right;\n",
              "    }\n",
              "</style>\n",
              "<table border=\"1\" class=\"dataframe\">\n",
              "  <thead>\n",
              "    <tr style=\"text-align: right;\">\n",
              "      <th></th>\n",
              "      <th>fixed acidity</th>\n",
              "      <th>volatile acidity</th>\n",
              "      <th>citric acid</th>\n",
              "      <th>residual sugar</th>\n",
              "      <th>chlorides</th>\n",
              "      <th>free sulfur dioxide</th>\n",
              "      <th>total sulfur dioxide</th>\n",
              "      <th>density</th>\n",
              "      <th>pH</th>\n",
              "      <th>sulphates</th>\n",
              "      <th>alcohol</th>\n",
              "      <th>quality</th>\n",
              "      <th>is_red</th>\n",
              "    </tr>\n",
              "  </thead>\n",
              "  <tbody>\n",
              "    <tr>\n",
              "      <th>225</th>\n",
              "      <td>7.5</td>\n",
              "      <td>0.65</td>\n",
              "      <td>0.18</td>\n",
              "      <td>7.0</td>\n",
              "      <td>0.088</td>\n",
              "      <td>27.0</td>\n",
              "      <td>94.0</td>\n",
              "      <td>0.99915</td>\n",
              "      <td>3.38</td>\n",
              "      <td>0.77</td>\n",
              "      <td>9.4</td>\n",
              "      <td>5</td>\n",
              "      <td>1</td>\n",
              "    </tr>\n",
              "    <tr>\n",
              "      <th>3557</th>\n",
              "      <td>6.3</td>\n",
              "      <td>0.27</td>\n",
              "      <td>0.29</td>\n",
              "      <td>12.2</td>\n",
              "      <td>0.044</td>\n",
              "      <td>59.0</td>\n",
              "      <td>196.0</td>\n",
              "      <td>0.99782</td>\n",
              "      <td>3.14</td>\n",
              "      <td>0.40</td>\n",
              "      <td>8.8</td>\n",
              "      <td>6</td>\n",
              "      <td>0</td>\n",
              "    </tr>\n",
              "    <tr>\n",
              "      <th>3825</th>\n",
              "      <td>8.8</td>\n",
              "      <td>0.27</td>\n",
              "      <td>0.25</td>\n",
              "      <td>5.0</td>\n",
              "      <td>0.024</td>\n",
              "      <td>52.0</td>\n",
              "      <td>99.0</td>\n",
              "      <td>0.99250</td>\n",
              "      <td>2.87</td>\n",
              "      <td>0.49</td>\n",
              "      <td>11.4</td>\n",
              "      <td>5</td>\n",
              "      <td>0</td>\n",
              "    </tr>\n",
              "    <tr>\n",
              "      <th>1740</th>\n",
              "      <td>6.4</td>\n",
              "      <td>0.45</td>\n",
              "      <td>0.07</td>\n",
              "      <td>1.1</td>\n",
              "      <td>0.030</td>\n",
              "      <td>10.0</td>\n",
              "      <td>131.0</td>\n",
              "      <td>0.99050</td>\n",
              "      <td>2.97</td>\n",
              "      <td>0.28</td>\n",
              "      <td>10.8</td>\n",
              "      <td>5</td>\n",
              "      <td>0</td>\n",
              "    </tr>\n",
              "    <tr>\n",
              "      <th>1221</th>\n",
              "      <td>7.2</td>\n",
              "      <td>0.53</td>\n",
              "      <td>0.13</td>\n",
              "      <td>2.0</td>\n",
              "      <td>0.058</td>\n",
              "      <td>18.0</td>\n",
              "      <td>22.0</td>\n",
              "      <td>0.99573</td>\n",
              "      <td>3.21</td>\n",
              "      <td>0.68</td>\n",
              "      <td>9.9</td>\n",
              "      <td>6</td>\n",
              "      <td>1</td>\n",
              "    </tr>\n",
              "  </tbody>\n",
              "</table>\n",
              "</div>"
            ],
            "text/plain": [
              "      fixed acidity  volatile acidity  citric acid  ...  alcohol  quality  is_red\n",
              "225             7.5              0.65         0.18  ...      9.4        5       1\n",
              "3557            6.3              0.27         0.29  ...      8.8        6       0\n",
              "3825            8.8              0.27         0.25  ...     11.4        5       0\n",
              "1740            6.4              0.45         0.07  ...     10.8        5       0\n",
              "1221            7.2              0.53         0.13  ...      9.9        6       1\n",
              "\n",
              "[5 rows x 13 columns]"
            ]
          },
          "metadata": {
            "tags": []
          },
          "execution_count": 29
        }
      ]
    },
    {
      "cell_type": "code",
      "metadata": {
        "id": "CkfKvI9YB5T2"
      },
      "source": [
        "train_stats  = train.describe()\r\n",
        "train_stats.pop('is_red')\r\n",
        "train_stats.pop('quality')\r\n",
        "train_stats = train_stats.transpose()"
      ],
      "execution_count": 30,
      "outputs": []
    },
    {
      "cell_type": "code",
      "metadata": {
        "colab": {
          "base_uri": "https://localhost:8080/",
          "height": 390
        },
        "id": "4I1QKxMUCY5F",
        "outputId": "37240b29-834b-41e0-fced-402499646245"
      },
      "source": [
        "train_stats"
      ],
      "execution_count": 31,
      "outputs": [
        {
          "output_type": "execute_result",
          "data": {
            "text/html": [
              "<div>\n",
              "<style scoped>\n",
              "    .dataframe tbody tr th:only-of-type {\n",
              "        vertical-align: middle;\n",
              "    }\n",
              "\n",
              "    .dataframe tbody tr th {\n",
              "        vertical-align: top;\n",
              "    }\n",
              "\n",
              "    .dataframe thead th {\n",
              "        text-align: right;\n",
              "    }\n",
              "</style>\n",
              "<table border=\"1\" class=\"dataframe\">\n",
              "  <thead>\n",
              "    <tr style=\"text-align: right;\">\n",
              "      <th></th>\n",
              "      <th>count</th>\n",
              "      <th>mean</th>\n",
              "      <th>std</th>\n",
              "      <th>min</th>\n",
              "      <th>25%</th>\n",
              "      <th>50%</th>\n",
              "      <th>75%</th>\n",
              "      <th>max</th>\n",
              "    </tr>\n",
              "  </thead>\n",
              "  <tbody>\n",
              "    <tr>\n",
              "      <th>fixed acidity</th>\n",
              "      <td>3155.0</td>\n",
              "      <td>7.221616</td>\n",
              "      <td>1.325297</td>\n",
              "      <td>3.80000</td>\n",
              "      <td>6.40000</td>\n",
              "      <td>7.00000</td>\n",
              "      <td>7.7000</td>\n",
              "      <td>15.60000</td>\n",
              "    </tr>\n",
              "    <tr>\n",
              "      <th>volatile acidity</th>\n",
              "      <td>3155.0</td>\n",
              "      <td>0.338929</td>\n",
              "      <td>0.162476</td>\n",
              "      <td>0.08000</td>\n",
              "      <td>0.23000</td>\n",
              "      <td>0.29000</td>\n",
              "      <td>0.4000</td>\n",
              "      <td>1.24000</td>\n",
              "    </tr>\n",
              "    <tr>\n",
              "      <th>citric acid</th>\n",
              "      <td>3155.0</td>\n",
              "      <td>0.321569</td>\n",
              "      <td>0.147970</td>\n",
              "      <td>0.00000</td>\n",
              "      <td>0.25000</td>\n",
              "      <td>0.31000</td>\n",
              "      <td>0.4000</td>\n",
              "      <td>1.66000</td>\n",
              "    </tr>\n",
              "    <tr>\n",
              "      <th>residual sugar</th>\n",
              "      <td>3155.0</td>\n",
              "      <td>5.155911</td>\n",
              "      <td>4.639632</td>\n",
              "      <td>0.60000</td>\n",
              "      <td>1.80000</td>\n",
              "      <td>2.80000</td>\n",
              "      <td>7.6500</td>\n",
              "      <td>65.80000</td>\n",
              "    </tr>\n",
              "    <tr>\n",
              "      <th>chlorides</th>\n",
              "      <td>3155.0</td>\n",
              "      <td>0.056976</td>\n",
              "      <td>0.036802</td>\n",
              "      <td>0.01200</td>\n",
              "      <td>0.03800</td>\n",
              "      <td>0.04700</td>\n",
              "      <td>0.0660</td>\n",
              "      <td>0.61100</td>\n",
              "    </tr>\n",
              "    <tr>\n",
              "      <th>free sulfur dioxide</th>\n",
              "      <td>3155.0</td>\n",
              "      <td>30.388590</td>\n",
              "      <td>17.236784</td>\n",
              "      <td>1.00000</td>\n",
              "      <td>17.00000</td>\n",
              "      <td>28.00000</td>\n",
              "      <td>41.0000</td>\n",
              "      <td>131.00000</td>\n",
              "    </tr>\n",
              "    <tr>\n",
              "      <th>total sulfur dioxide</th>\n",
              "      <td>3155.0</td>\n",
              "      <td>115.062282</td>\n",
              "      <td>56.706617</td>\n",
              "      <td>6.00000</td>\n",
              "      <td>75.00000</td>\n",
              "      <td>117.00000</td>\n",
              "      <td>156.0000</td>\n",
              "      <td>344.00000</td>\n",
              "    </tr>\n",
              "    <tr>\n",
              "      <th>density</th>\n",
              "      <td>3155.0</td>\n",
              "      <td>0.994633</td>\n",
              "      <td>0.003005</td>\n",
              "      <td>0.98711</td>\n",
              "      <td>0.99232</td>\n",
              "      <td>0.99481</td>\n",
              "      <td>0.9968</td>\n",
              "      <td>1.03898</td>\n",
              "    </tr>\n",
              "    <tr>\n",
              "      <th>pH</th>\n",
              "      <td>3155.0</td>\n",
              "      <td>3.223201</td>\n",
              "      <td>0.161272</td>\n",
              "      <td>2.72000</td>\n",
              "      <td>3.11000</td>\n",
              "      <td>3.21000</td>\n",
              "      <td>3.3300</td>\n",
              "      <td>4.01000</td>\n",
              "    </tr>\n",
              "    <tr>\n",
              "      <th>sulphates</th>\n",
              "      <td>3155.0</td>\n",
              "      <td>0.534051</td>\n",
              "      <td>0.149149</td>\n",
              "      <td>0.22000</td>\n",
              "      <td>0.43000</td>\n",
              "      <td>0.51000</td>\n",
              "      <td>0.6000</td>\n",
              "      <td>1.95000</td>\n",
              "    </tr>\n",
              "    <tr>\n",
              "      <th>alcohol</th>\n",
              "      <td>3155.0</td>\n",
              "      <td>10.504466</td>\n",
              "      <td>1.154654</td>\n",
              "      <td>8.50000</td>\n",
              "      <td>9.50000</td>\n",
              "      <td>10.30000</td>\n",
              "      <td>11.3000</td>\n",
              "      <td>14.00000</td>\n",
              "    </tr>\n",
              "  </tbody>\n",
              "</table>\n",
              "</div>"
            ],
            "text/plain": [
              "                       count        mean  ...       75%        max\n",
              "fixed acidity         3155.0    7.221616  ...    7.7000   15.60000\n",
              "volatile acidity      3155.0    0.338929  ...    0.4000    1.24000\n",
              "citric acid           3155.0    0.321569  ...    0.4000    1.66000\n",
              "residual sugar        3155.0    5.155911  ...    7.6500   65.80000\n",
              "chlorides             3155.0    0.056976  ...    0.0660    0.61100\n",
              "free sulfur dioxide   3155.0   30.388590  ...   41.0000  131.00000\n",
              "total sulfur dioxide  3155.0  115.062282  ...  156.0000  344.00000\n",
              "density               3155.0    0.994633  ...    0.9968    1.03898\n",
              "pH                    3155.0    3.223201  ...    3.3300    4.01000\n",
              "sulphates             3155.0    0.534051  ...    0.6000    1.95000\n",
              "alcohol               3155.0   10.504466  ...   11.3000   14.00000\n",
              "\n",
              "[11 rows x 8 columns]"
            ]
          },
          "metadata": {
            "tags": []
          },
          "execution_count": 31
        }
      ]
    },
    {
      "cell_type": "markdown",
      "metadata": {
        "id": "Jv_HMD7BDMzb"
      },
      "source": [
        "**Get the labels**\r\n",
        "\r\n",
        "The features and labels are currently in the same dataframe.\r\n",
        "\r\n",
        "\r\n",
        "*   You will want to store the label columns is_red and quality separately from the feature columns.\r\n",
        "*   The following function, format_output, gets these two columns from the dataframe (it's given to you).\r\n",
        "*   format_output also formats the data into numpy arrays.\r\n",
        "*   format_output also formats the data into numpy arrays.\r\n",
        "*   Please use the format_output and apply it to the train, val and test sets to get dataframes for the labels.\r\n",
        "\r\n"
      ]
    },
    {
      "cell_type": "code",
      "metadata": {
        "id": "JttoFaEfC7pk"
      },
      "source": [
        "def format_output(data):\r\n",
        "  is_red = data.pop('is_red')\r\n",
        "  is_red = np.array(is_red)\r\n",
        "  quality = data.pop('quality')\r\n",
        "  quality = np.array(quality)\r\n",
        "  return (quality, is_red)"
      ],
      "execution_count": 32,
      "outputs": []
    },
    {
      "cell_type": "code",
      "metadata": {
        "id": "OBhr7R8IEIs5"
      },
      "source": [
        "train_y = format_output(train)\r\n",
        "test_y = format_output(test)\r\n",
        "val_y = format_output(val)"
      ],
      "execution_count": 33,
      "outputs": []
    },
    {
      "cell_type": "markdown",
      "metadata": {
        "id": "tuA7J_vNHSM-"
      },
      "source": [
        "**Normalize the data**\r\n",
        "\r\n",
        "Next, you can normalize the data, x, using the formula:\r\n",
        "\r\n",
        "![image.png](data:image/png;base64,iVBORw0KGgoAAAANSUhEUgAAAFkAAAAUCAYAAADmzZEdAAACIklEQVRYCe2YsU0EMRBFf0iCRExETkIHkCBSBAVABxBQAAEFUAGiBDqAEugASqAD0JP8pcGyb9nFut273ZEse+3xrPd5Zuw7aX5yLuld0oGkZ0lHDRBg4zbZwf51A5sbb+JNEjBqcirprFD2KhMAbLBs3ElFb1bdjx2QgXZXKPsVSi8pMoiOr4rOrLod2oCueWZfIJ9pApsD8FZ2+65jEvoAcJoATIuwZtO+U37HNu9okecnAWwqi8B7vXF/XhN5hWJZdsUkynXv9ED4kKs+kr37dN2ZAmjWcNxRonOUkbTvHcSGpE2OAfCUEjibz9VrVfE1qoRyR9LuGktpDb/6OBTINdskT8l5cKB1lMsuePwiwnNyIZ3YW9iEPDw5ABh3P/VVeqbfkYEddHm+STVht+oA+W+6uJD0sMZymMOLz8BwaMZ+2sDhFw06pBOKJV5dfG9kjPBGP24Kbd6BPeYxTjvOs13XXtPQdGE7o9Z8pL2JmpDCE6N3AQcoSPzdnwOPsGhjLwpzsYUQNYx7A1P39lXAtMf564CZpwx0gIEAx+I/XHh2JNBG15tiXWrAkyr8XvrYKObOXuyhhmMPBTLQKEClRkrgmGvweLPBegMZn63w8U4dQASQYTLmvBoB0Wcd9zs18Iw9Q0XXbeuOXeMkr+E2kn/L2Ovb+PcTWaRLwHKGLNKYANGWnzmNX7GYi7clUlgEvtBpRACwHM7cjuLZM8j8D4xTlnRji+pXAAAAAElFTkSuQmCC)\r\n",
        "\r\n",
        "1.   The norm function is defined for you.\r\n",
        "2.   Please apply the norm function to normalize the dataframes that contains the feature columns of train, val and test sets.\r\n",
        "\r\n"
      ]
    },
    {
      "cell_type": "code",
      "metadata": {
        "id": "-nZth1FuGn5S"
      },
      "source": [
        "def norm(data):\r\n",
        "  return (data-train_stats['mean'])/train_stats['std']"
      ],
      "execution_count": 34,
      "outputs": []
    },
    {
      "cell_type": "code",
      "metadata": {
        "id": "IpRBG-s6IMsf"
      },
      "source": [
        "norm_train_X = norm(train)\r\n",
        "norm_test_X  = norm(test)\r\n",
        "norm_val_X   = norm(val)"
      ],
      "execution_count": 35,
      "outputs": []
    },
    {
      "cell_type": "markdown",
      "metadata": {
        "id": "LwceOmZoI236"
      },
      "source": [
        "**Define the Model**\r\n",
        "\r\n",
        "Define the model using the functional API. The base model will be 2 Dense layers of 128 neurons each, and have the 'relu' activation."
      ]
    },
    {
      "cell_type": "code",
      "metadata": {
        "id": "b7qaRoefIl5P"
      },
      "source": [
        "def base_model(input):\r\n",
        "  dense_layer = tf.keras.layers.Dense(128, activation='relu')(input)\r\n",
        "  dense_layer = tf.keras.layers.Dense(128, activation='relu')(dense_layer)\r\n",
        "  return dense_layer"
      ],
      "execution_count": 41,
      "outputs": []
    },
    {
      "cell_type": "code",
      "metadata": {
        "id": "iAu5E0h6JfLT"
      },
      "source": [
        "def final_model(inputs):\r\n",
        "  x  = base_model(inputs)\r\n",
        "  quality = Dense(1, name='wine_quality')(x)\r\n",
        "  is_red = Dense(1, name='wine_type', activation='sigmoid')(x)\r\n",
        "\r\n",
        "  model = Model(inputs=inputs, outputs=[quality, is_red])\r\n",
        "  return model"
      ],
      "execution_count": 45,
      "outputs": []
    },
    {
      "cell_type": "markdown",
      "metadata": {
        "id": "TVaCzB7vLRQH"
      },
      "source": [
        "**Compiling the Model**\r\n",
        "\r\n",
        "Next, compile the model. When setting the loss parameter of model.compile, you're setting the loss for each of the two outputs (wine quality and wine type)\r\n",
        "\r\n",
        ". To set more than one loss, use a dictionary of key-value pairs.\r\n",
        "\r\n",
        "You can look at the docs for the losses here.\r\n",
        "Note: For the desired spelling, please look at the \"Functions\" section of the documentation and not the \"classes\" section on that same page.\r\n",
        "wine_type: Since you will be performing binary classification on wine type, you should use the binary crossentropy loss function for it. Please pass this in as a string.\r\n",
        "\r\n",
        "Hint, this should be all lowercase. In the documentation, you'll see this under the \"Functions\" section, not the \"Classes\" section.\r\n",
        "\r\n",
        "wine_quality: since this is a regression output, use the mean squared error. Please pass it in as a string, all lowercase.\r\n",
        "Hint: You may notice that there are two aliases for mean squared error. Please use the shorter name.\r\n",
        "\r\n",
        "You will also set the metric for each of the two outputs. Again, to set metrics for two or more outputs, use a dictionary with key value pairs.\r\n",
        "\r\n",
        "The metrics documentation is linked here.\r\n",
        "For the wine type, please set it to accuracy as a string, all lowercase.\r\n",
        "For wine quality, please use the root mean squared error. Instead of a string, you'll set it to an instance of the class RootMeanSquaredError, which belongs to the tf.keras.metrics module.\r\n"
      ]
    },
    {
      "cell_type": "code",
      "metadata": {
        "id": "oWdHfenULEx0"
      },
      "source": [
        "input = Input(shape=(11,))\r\n",
        "rmse = tf.keras.optimizers.RMSprop(learning_rate=0.0001)\r\n",
        "model = final_model(input)\r\n",
        "\r\n",
        "model.compile(optimizer= rmse, loss={'wine_type' : 'binary_crossentropy',\r\n",
        "                      'wine_quality' : 'mean_squared_error'\r\n",
        "                     }, metrics={'wine_type' : 'accuracy',\r\n",
        "                      'wine_quality' : tf.keras.metrics.RootMeanSquaredError()\r\n",
        "                     })"
      ],
      "execution_count": 46,
      "outputs": []
    },
    {
      "cell_type": "code",
      "metadata": {
        "colab": {
          "base_uri": "https://localhost:8080/"
        },
        "id": "pYn5VApfNbbU",
        "outputId": "ac2ea2c8-7a79-4e8e-cc1c-f13df8723805"
      },
      "source": [
        "history = model.fit(norm_train_X, train_y, epochs=180, validation_data=(norm_val_X, val_y))"
      ],
      "execution_count": 47,
      "outputs": [
        {
          "output_type": "stream",
          "text": [
            "Epoch 1/180\n",
            "99/99 [==============================] - 2s 5ms/step - loss: 27.0521 - wine_quality_loss: 26.3547 - wine_type_loss: 0.6974 - wine_quality_root_mean_squared_error: 5.1287 - wine_type_accuracy: 0.5526 - val_loss: 16.4967 - val_wine_quality_loss: 15.8064 - val_wine_type_loss: 0.6904 - val_wine_quality_root_mean_squared_error: 3.9757 - val_wine_type_accuracy: 0.6451\n",
            "Epoch 2/180\n",
            "99/99 [==============================] - 0s 2ms/step - loss: 13.5387 - wine_quality_loss: 12.8635 - wine_type_loss: 0.6752 - wine_quality_root_mean_squared_error: 3.5803 - wine_type_accuracy: 0.6922 - val_loss: 7.0227 - val_wine_quality_loss: 6.4024 - val_wine_type_loss: 0.6203 - val_wine_quality_root_mean_squared_error: 2.5303 - val_wine_type_accuracy: 0.7605\n",
            "Epoch 3/180\n",
            "99/99 [==============================] - 0s 2ms/step - loss: 5.9248 - wine_quality_loss: 5.3347 - wine_type_loss: 0.5901 - wine_quality_root_mean_squared_error: 2.3068 - wine_type_accuracy: 0.7740 - val_loss: 3.3675 - val_wine_quality_loss: 2.8694 - val_wine_type_loss: 0.4981 - val_wine_quality_root_mean_squared_error: 1.6939 - val_wine_type_accuracy: 0.7706\n",
            "Epoch 4/180\n",
            "99/99 [==============================] - 0s 2ms/step - loss: 3.1291 - wine_quality_loss: 2.6694 - wine_type_loss: 0.4598 - wine_quality_root_mean_squared_error: 1.6322 - wine_type_accuracy: 0.8087 - val_loss: 2.4387 - val_wine_quality_loss: 2.0588 - val_wine_type_loss: 0.3799 - val_wine_quality_root_mean_squared_error: 1.4349 - val_wine_type_accuracy: 0.8783\n",
            "Epoch 5/180\n",
            "99/99 [==============================] - 0s 3ms/step - loss: 2.3094 - wine_quality_loss: 1.9624 - wine_type_loss: 0.3469 - wine_quality_root_mean_squared_error: 1.4006 - wine_type_accuracy: 0.9154 - val_loss: 2.0225 - val_wine_quality_loss: 1.7348 - val_wine_type_loss: 0.2877 - val_wine_quality_root_mean_squared_error: 1.3171 - val_wine_type_accuracy: 0.9582\n",
            "Epoch 6/180\n",
            "99/99 [==============================] - 0s 2ms/step - loss: 2.0226 - wine_quality_loss: 1.7552 - wine_type_loss: 0.2675 - wine_quality_root_mean_squared_error: 1.3244 - wine_type_accuracy: 0.9641 - val_loss: 1.7831 - val_wine_quality_loss: 1.5620 - val_wine_type_loss: 0.2211 - val_wine_quality_root_mean_squared_error: 1.2498 - val_wine_type_accuracy: 0.9797\n",
            "Epoch 7/180\n",
            "99/99 [==============================] - 0s 2ms/step - loss: 1.7536 - wine_quality_loss: 1.5515 - wine_type_loss: 0.2021 - wine_quality_root_mean_squared_error: 1.2454 - wine_type_accuracy: 0.9792 - val_loss: 1.5966 - val_wine_quality_loss: 1.4249 - val_wine_type_loss: 0.1717 - val_wine_quality_root_mean_squared_error: 1.1937 - val_wine_type_accuracy: 0.9861\n",
            "Epoch 8/180\n",
            "99/99 [==============================] - 0s 2ms/step - loss: 1.6183 - wine_quality_loss: 1.4556 - wine_type_loss: 0.1627 - wine_quality_root_mean_squared_error: 1.2056 - wine_type_accuracy: 0.9827 - val_loss: 1.4569 - val_wine_quality_loss: 1.3222 - val_wine_type_loss: 0.1347 - val_wine_quality_root_mean_squared_error: 1.1499 - val_wine_type_accuracy: 0.9886\n",
            "Epoch 9/180\n",
            "99/99 [==============================] - 0s 2ms/step - loss: 1.4652 - wine_quality_loss: 1.3406 - wine_type_loss: 0.1246 - wine_quality_root_mean_squared_error: 1.1574 - wine_type_accuracy: 0.9885 - val_loss: 1.3338 - val_wine_quality_loss: 1.2238 - val_wine_type_loss: 0.1100 - val_wine_quality_root_mean_squared_error: 1.1062 - val_wine_type_accuracy: 0.9886\n",
            "Epoch 10/180\n",
            "99/99 [==============================] - 0s 2ms/step - loss: 1.3167 - wine_quality_loss: 1.2158 - wine_type_loss: 0.1009 - wine_quality_root_mean_squared_error: 1.1024 - wine_type_accuracy: 0.9876 - val_loss: 1.2510 - val_wine_quality_loss: 1.1583 - val_wine_type_loss: 0.0927 - val_wine_quality_root_mean_squared_error: 1.0763 - val_wine_type_accuracy: 0.9899\n",
            "Epoch 11/180\n",
            "99/99 [==============================] - 0s 2ms/step - loss: 1.1918 - wine_quality_loss: 1.0950 - wine_type_loss: 0.0968 - wine_quality_root_mean_squared_error: 1.0456 - wine_type_accuracy: 0.9866 - val_loss: 1.1554 - val_wine_quality_loss: 1.0767 - val_wine_type_loss: 0.0787 - val_wine_quality_root_mean_squared_error: 1.0376 - val_wine_type_accuracy: 0.9899\n",
            "Epoch 12/180\n",
            "99/99 [==============================] - 0s 2ms/step - loss: 1.1436 - wine_quality_loss: 1.0685 - wine_type_loss: 0.0751 - wine_quality_root_mean_squared_error: 1.0329 - wine_type_accuracy: 0.9893 - val_loss: 1.0828 - val_wine_quality_loss: 1.0140 - val_wine_type_loss: 0.0688 - val_wine_quality_root_mean_squared_error: 1.0070 - val_wine_type_accuracy: 0.9899\n",
            "Epoch 13/180\n",
            "99/99 [==============================] - 0s 2ms/step - loss: 1.1163 - wine_quality_loss: 1.0430 - wine_type_loss: 0.0733 - wine_quality_root_mean_squared_error: 1.0209 - wine_type_accuracy: 0.9900 - val_loss: 1.0212 - val_wine_quality_loss: 0.9598 - val_wine_type_loss: 0.0614 - val_wine_quality_root_mean_squared_error: 0.9797 - val_wine_type_accuracy: 0.9899\n",
            "Epoch 14/180\n",
            "99/99 [==============================] - 0s 2ms/step - loss: 1.0308 - wine_quality_loss: 0.9669 - wine_type_loss: 0.0639 - wine_quality_root_mean_squared_error: 0.9828 - wine_type_accuracy: 0.9900 - val_loss: 0.9564 - val_wine_quality_loss: 0.9006 - val_wine_type_loss: 0.0558 - val_wine_quality_root_mean_squared_error: 0.9490 - val_wine_type_accuracy: 0.9911\n",
            "Epoch 15/180\n",
            "99/99 [==============================] - 0s 2ms/step - loss: 0.9849 - wine_quality_loss: 0.9292 - wine_type_loss: 0.0557 - wine_quality_root_mean_squared_error: 0.9636 - wine_type_accuracy: 0.9908 - val_loss: 0.9015 - val_wine_quality_loss: 0.8502 - val_wine_type_loss: 0.0513 - val_wine_quality_root_mean_squared_error: 0.9221 - val_wine_type_accuracy: 0.9911\n",
            "Epoch 16/180\n",
            "99/99 [==============================] - 0s 2ms/step - loss: 0.9055 - wine_quality_loss: 0.8460 - wine_type_loss: 0.0595 - wine_quality_root_mean_squared_error: 0.9196 - wine_type_accuracy: 0.9867 - val_loss: 0.8810 - val_wine_quality_loss: 0.8333 - val_wine_type_loss: 0.0477 - val_wine_quality_root_mean_squared_error: 0.9128 - val_wine_type_accuracy: 0.9911\n",
            "Epoch 17/180\n",
            "99/99 [==============================] - 0s 2ms/step - loss: 0.8766 - wine_quality_loss: 0.8249 - wine_type_loss: 0.0517 - wine_quality_root_mean_squared_error: 0.9079 - wine_type_accuracy: 0.9889 - val_loss: 0.8049 - val_wine_quality_loss: 0.7594 - val_wine_type_loss: 0.0454 - val_wine_quality_root_mean_squared_error: 0.8715 - val_wine_type_accuracy: 0.9911\n",
            "Epoch 18/180\n",
            "99/99 [==============================] - 0s 2ms/step - loss: 0.8222 - wine_quality_loss: 0.7799 - wine_type_loss: 0.0423 - wine_quality_root_mean_squared_error: 0.8831 - wine_type_accuracy: 0.9909 - val_loss: 0.7607 - val_wine_quality_loss: 0.7178 - val_wine_type_loss: 0.0429 - val_wine_quality_root_mean_squared_error: 0.8472 - val_wine_type_accuracy: 0.9924\n",
            "Epoch 19/180\n",
            "99/99 [==============================] - 0s 2ms/step - loss: 0.7681 - wine_quality_loss: 0.7213 - wine_type_loss: 0.0468 - wine_quality_root_mean_squared_error: 0.8491 - wine_type_accuracy: 0.9904 - val_loss: 0.7245 - val_wine_quality_loss: 0.6834 - val_wine_type_loss: 0.0411 - val_wine_quality_root_mean_squared_error: 0.8267 - val_wine_type_accuracy: 0.9924\n",
            "Epoch 20/180\n",
            "99/99 [==============================] - 0s 2ms/step - loss: 0.7603 - wine_quality_loss: 0.7135 - wine_type_loss: 0.0468 - wine_quality_root_mean_squared_error: 0.8443 - wine_type_accuracy: 0.9898 - val_loss: 0.6814 - val_wine_quality_loss: 0.6413 - val_wine_type_loss: 0.0400 - val_wine_quality_root_mean_squared_error: 0.8008 - val_wine_type_accuracy: 0.9924\n",
            "Epoch 21/180\n",
            "99/99 [==============================] - 0s 2ms/step - loss: 0.7027 - wine_quality_loss: 0.6595 - wine_type_loss: 0.0433 - wine_quality_root_mean_squared_error: 0.8120 - wine_type_accuracy: 0.9897 - val_loss: 0.6493 - val_wine_quality_loss: 0.6108 - val_wine_type_loss: 0.0385 - val_wine_quality_root_mean_squared_error: 0.7815 - val_wine_type_accuracy: 0.9924\n",
            "Epoch 22/180\n",
            "99/99 [==============================] - 0s 2ms/step - loss: 0.6466 - wine_quality_loss: 0.6063 - wine_type_loss: 0.0403 - wine_quality_root_mean_squared_error: 0.7783 - wine_type_accuracy: 0.9920 - val_loss: 0.6315 - val_wine_quality_loss: 0.5941 - val_wine_type_loss: 0.0373 - val_wine_quality_root_mean_squared_error: 0.7708 - val_wine_type_accuracy: 0.9937\n",
            "Epoch 23/180\n",
            "99/99 [==============================] - 0s 2ms/step - loss: 0.6036 - wine_quality_loss: 0.5634 - wine_type_loss: 0.0402 - wine_quality_root_mean_squared_error: 0.7505 - wine_type_accuracy: 0.9914 - val_loss: 0.5911 - val_wine_quality_loss: 0.5544 - val_wine_type_loss: 0.0367 - val_wine_quality_root_mean_squared_error: 0.7446 - val_wine_type_accuracy: 0.9924\n",
            "Epoch 24/180\n",
            "99/99 [==============================] - 0s 2ms/step - loss: 0.5615 - wine_quality_loss: 0.5343 - wine_type_loss: 0.0272 - wine_quality_root_mean_squared_error: 0.7307 - wine_type_accuracy: 0.9929 - val_loss: 0.5665 - val_wine_quality_loss: 0.5305 - val_wine_type_loss: 0.0360 - val_wine_quality_root_mean_squared_error: 0.7284 - val_wine_type_accuracy: 0.9924\n",
            "Epoch 25/180\n",
            "99/99 [==============================] - 0s 2ms/step - loss: 0.5631 - wine_quality_loss: 0.5268 - wine_type_loss: 0.0363 - wine_quality_root_mean_squared_error: 0.7257 - wine_type_accuracy: 0.9896 - val_loss: 0.5379 - val_wine_quality_loss: 0.5027 - val_wine_type_loss: 0.0352 - val_wine_quality_root_mean_squared_error: 0.7090 - val_wine_type_accuracy: 0.9937\n",
            "Epoch 26/180\n",
            "99/99 [==============================] - 0s 2ms/step - loss: 0.5489 - wine_quality_loss: 0.5144 - wine_type_loss: 0.0345 - wine_quality_root_mean_squared_error: 0.7169 - wine_type_accuracy: 0.9927 - val_loss: 0.5136 - val_wine_quality_loss: 0.4788 - val_wine_type_loss: 0.0348 - val_wine_quality_root_mean_squared_error: 0.6919 - val_wine_type_accuracy: 0.9924\n",
            "Epoch 27/180\n",
            "99/99 [==============================] - 0s 2ms/step - loss: 0.5407 - wine_quality_loss: 0.4918 - wine_type_loss: 0.0489 - wine_quality_root_mean_squared_error: 0.7013 - wine_type_accuracy: 0.9901 - val_loss: 0.4968 - val_wine_quality_loss: 0.4624 - val_wine_type_loss: 0.0343 - val_wine_quality_root_mean_squared_error: 0.6800 - val_wine_type_accuracy: 0.9937\n",
            "Epoch 28/180\n",
            "99/99 [==============================] - 0s 2ms/step - loss: 0.5178 - wine_quality_loss: 0.4832 - wine_type_loss: 0.0346 - wine_quality_root_mean_squared_error: 0.6950 - wine_type_accuracy: 0.9917 - val_loss: 0.4829 - val_wine_quality_loss: 0.4490 - val_wine_type_loss: 0.0340 - val_wine_quality_root_mean_squared_error: 0.6701 - val_wine_type_accuracy: 0.9937\n",
            "Epoch 29/180\n",
            "99/99 [==============================] - 0s 2ms/step - loss: 0.4840 - wine_quality_loss: 0.4543 - wine_type_loss: 0.0297 - wine_quality_root_mean_squared_error: 0.6737 - wine_type_accuracy: 0.9939 - val_loss: 0.4650 - val_wine_quality_loss: 0.4314 - val_wine_type_loss: 0.0336 - val_wine_quality_root_mean_squared_error: 0.6568 - val_wine_type_accuracy: 0.9937\n",
            "Epoch 30/180\n",
            "99/99 [==============================] - 0s 2ms/step - loss: 0.4972 - wine_quality_loss: 0.4546 - wine_type_loss: 0.0426 - wine_quality_root_mean_squared_error: 0.6742 - wine_type_accuracy: 0.9914 - val_loss: 0.4579 - val_wine_quality_loss: 0.4246 - val_wine_type_loss: 0.0333 - val_wine_quality_root_mean_squared_error: 0.6516 - val_wine_type_accuracy: 0.9937\n",
            "Epoch 31/180\n",
            "99/99 [==============================] - 0s 2ms/step - loss: 0.4596 - wine_quality_loss: 0.4340 - wine_type_loss: 0.0256 - wine_quality_root_mean_squared_error: 0.6587 - wine_type_accuracy: 0.9941 - val_loss: 0.4345 - val_wine_quality_loss: 0.4015 - val_wine_type_loss: 0.0330 - val_wine_quality_root_mean_squared_error: 0.6337 - val_wine_type_accuracy: 0.9937\n",
            "Epoch 32/180\n",
            "99/99 [==============================] - 0s 2ms/step - loss: 0.4437 - wine_quality_loss: 0.4138 - wine_type_loss: 0.0299 - wine_quality_root_mean_squared_error: 0.6432 - wine_type_accuracy: 0.9950 - val_loss: 0.4227 - val_wine_quality_loss: 0.3899 - val_wine_type_loss: 0.0328 - val_wine_quality_root_mean_squared_error: 0.6244 - val_wine_type_accuracy: 0.9949\n",
            "Epoch 33/180\n",
            "99/99 [==============================] - 0s 2ms/step - loss: 0.4482 - wine_quality_loss: 0.4077 - wine_type_loss: 0.0406 - wine_quality_root_mean_squared_error: 0.6383 - wine_type_accuracy: 0.9933 - val_loss: 0.4238 - val_wine_quality_loss: 0.3911 - val_wine_type_loss: 0.0326 - val_wine_quality_root_mean_squared_error: 0.6254 - val_wine_type_accuracy: 0.9949\n",
            "Epoch 34/180\n",
            "99/99 [==============================] - 0s 2ms/step - loss: 0.4114 - wine_quality_loss: 0.3893 - wine_type_loss: 0.0221 - wine_quality_root_mean_squared_error: 0.6238 - wine_type_accuracy: 0.9953 - val_loss: 0.4136 - val_wine_quality_loss: 0.3813 - val_wine_type_loss: 0.0324 - val_wine_quality_root_mean_squared_error: 0.6175 - val_wine_type_accuracy: 0.9937\n",
            "Epoch 35/180\n",
            "99/99 [==============================] - 0s 2ms/step - loss: 0.4010 - wine_quality_loss: 0.3735 - wine_type_loss: 0.0275 - wine_quality_root_mean_squared_error: 0.6110 - wine_type_accuracy: 0.9931 - val_loss: 0.4071 - val_wine_quality_loss: 0.3748 - val_wine_type_loss: 0.0323 - val_wine_quality_root_mean_squared_error: 0.6122 - val_wine_type_accuracy: 0.9949\n",
            "Epoch 36/180\n",
            "99/99 [==============================] - 0s 2ms/step - loss: 0.4153 - wine_quality_loss: 0.3850 - wine_type_loss: 0.0303 - wine_quality_root_mean_squared_error: 0.6204 - wine_type_accuracy: 0.9955 - val_loss: 0.3997 - val_wine_quality_loss: 0.3676 - val_wine_type_loss: 0.0321 - val_wine_quality_root_mean_squared_error: 0.6063 - val_wine_type_accuracy: 0.9949\n",
            "Epoch 37/180\n",
            "99/99 [==============================] - 0s 2ms/step - loss: 0.4001 - wine_quality_loss: 0.3688 - wine_type_loss: 0.0312 - wine_quality_root_mean_squared_error: 0.6073 - wine_type_accuracy: 0.9906 - val_loss: 0.3969 - val_wine_quality_loss: 0.3651 - val_wine_type_loss: 0.0318 - val_wine_quality_root_mean_squared_error: 0.6043 - val_wine_type_accuracy: 0.9949\n",
            "Epoch 38/180\n",
            "99/99 [==============================] - 0s 2ms/step - loss: 0.3895 - wine_quality_loss: 0.3581 - wine_type_loss: 0.0314 - wine_quality_root_mean_squared_error: 0.5979 - wine_type_accuracy: 0.9940 - val_loss: 0.3881 - val_wine_quality_loss: 0.3563 - val_wine_type_loss: 0.0318 - val_wine_quality_root_mean_squared_error: 0.5969 - val_wine_type_accuracy: 0.9949\n",
            "Epoch 39/180\n",
            "99/99 [==============================] - 0s 2ms/step - loss: 0.3623 - wine_quality_loss: 0.3410 - wine_type_loss: 0.0213 - wine_quality_root_mean_squared_error: 0.5837 - wine_type_accuracy: 0.9966 - val_loss: 0.3815 - val_wine_quality_loss: 0.3498 - val_wine_type_loss: 0.0317 - val_wine_quality_root_mean_squared_error: 0.5914 - val_wine_type_accuracy: 0.9937\n",
            "Epoch 40/180\n",
            "99/99 [==============================] - 0s 2ms/step - loss: 0.3890 - wine_quality_loss: 0.3526 - wine_type_loss: 0.0364 - wine_quality_root_mean_squared_error: 0.5937 - wine_type_accuracy: 0.9931 - val_loss: 0.3782 - val_wine_quality_loss: 0.3465 - val_wine_type_loss: 0.0317 - val_wine_quality_root_mean_squared_error: 0.5886 - val_wine_type_accuracy: 0.9937\n",
            "Epoch 41/180\n",
            "99/99 [==============================] - 0s 2ms/step - loss: 0.3835 - wine_quality_loss: 0.3486 - wine_type_loss: 0.0349 - wine_quality_root_mean_squared_error: 0.5903 - wine_type_accuracy: 0.9909 - val_loss: 0.3770 - val_wine_quality_loss: 0.3455 - val_wine_type_loss: 0.0314 - val_wine_quality_root_mean_squared_error: 0.5878 - val_wine_type_accuracy: 0.9937\n",
            "Epoch 42/180\n",
            "99/99 [==============================] - 0s 2ms/step - loss: 0.3697 - wine_quality_loss: 0.3342 - wine_type_loss: 0.0356 - wine_quality_root_mean_squared_error: 0.5779 - wine_type_accuracy: 0.9929 - val_loss: 0.3763 - val_wine_quality_loss: 0.3450 - val_wine_type_loss: 0.0312 - val_wine_quality_root_mean_squared_error: 0.5874 - val_wine_type_accuracy: 0.9937\n",
            "Epoch 43/180\n",
            "99/99 [==============================] - 0s 2ms/step - loss: 0.3857 - wine_quality_loss: 0.3404 - wine_type_loss: 0.0453 - wine_quality_root_mean_squared_error: 0.5833 - wine_type_accuracy: 0.9933 - val_loss: 0.3707 - val_wine_quality_loss: 0.3392 - val_wine_type_loss: 0.0315 - val_wine_quality_root_mean_squared_error: 0.5824 - val_wine_type_accuracy: 0.9937\n",
            "Epoch 44/180\n",
            "99/99 [==============================] - 0s 2ms/step - loss: 0.3563 - wine_quality_loss: 0.3243 - wine_type_loss: 0.0320 - wine_quality_root_mean_squared_error: 0.5693 - wine_type_accuracy: 0.9927 - val_loss: 0.3675 - val_wine_quality_loss: 0.3363 - val_wine_type_loss: 0.0312 - val_wine_quality_root_mean_squared_error: 0.5800 - val_wine_type_accuracy: 0.9937\n",
            "Epoch 45/180\n",
            "99/99 [==============================] - 0s 2ms/step - loss: 0.3868 - wine_quality_loss: 0.3474 - wine_type_loss: 0.0394 - wine_quality_root_mean_squared_error: 0.5894 - wine_type_accuracy: 0.9936 - val_loss: 0.3639 - val_wine_quality_loss: 0.3330 - val_wine_type_loss: 0.0309 - val_wine_quality_root_mean_squared_error: 0.5771 - val_wine_type_accuracy: 0.9937\n",
            "Epoch 46/180\n",
            "99/99 [==============================] - 0s 2ms/step - loss: 0.3584 - wine_quality_loss: 0.3327 - wine_type_loss: 0.0257 - wine_quality_root_mean_squared_error: 0.5767 - wine_type_accuracy: 0.9955 - val_loss: 0.3656 - val_wine_quality_loss: 0.3345 - val_wine_type_loss: 0.0311 - val_wine_quality_root_mean_squared_error: 0.5783 - val_wine_type_accuracy: 0.9937\n",
            "Epoch 47/180\n",
            "99/99 [==============================] - 0s 2ms/step - loss: 0.3526 - wine_quality_loss: 0.3314 - wine_type_loss: 0.0212 - wine_quality_root_mean_squared_error: 0.5756 - wine_type_accuracy: 0.9943 - val_loss: 0.3591 - val_wine_quality_loss: 0.3285 - val_wine_type_loss: 0.0306 - val_wine_quality_root_mean_squared_error: 0.5731 - val_wine_type_accuracy: 0.9937\n",
            "Epoch 48/180\n",
            "99/99 [==============================] - 0s 2ms/step - loss: 0.3534 - wine_quality_loss: 0.3199 - wine_type_loss: 0.0335 - wine_quality_root_mean_squared_error: 0.5651 - wine_type_accuracy: 0.9935 - val_loss: 0.3592 - val_wine_quality_loss: 0.3285 - val_wine_type_loss: 0.0306 - val_wine_quality_root_mean_squared_error: 0.5732 - val_wine_type_accuracy: 0.9937\n",
            "Epoch 49/180\n",
            "99/99 [==============================] - 0s 2ms/step - loss: 0.3555 - wine_quality_loss: 0.3296 - wine_type_loss: 0.0258 - wine_quality_root_mean_squared_error: 0.5741 - wine_type_accuracy: 0.9934 - val_loss: 0.3576 - val_wine_quality_loss: 0.3271 - val_wine_type_loss: 0.0305 - val_wine_quality_root_mean_squared_error: 0.5720 - val_wine_type_accuracy: 0.9937\n",
            "Epoch 50/180\n",
            "99/99 [==============================] - 0s 2ms/step - loss: 0.3653 - wine_quality_loss: 0.3322 - wine_type_loss: 0.0332 - wine_quality_root_mean_squared_error: 0.5763 - wine_type_accuracy: 0.9940 - val_loss: 0.3697 - val_wine_quality_loss: 0.3392 - val_wine_type_loss: 0.0305 - val_wine_quality_root_mean_squared_error: 0.5824 - val_wine_type_accuracy: 0.9937\n",
            "Epoch 51/180\n",
            "99/99 [==============================] - 0s 2ms/step - loss: 0.3535 - wine_quality_loss: 0.3212 - wine_type_loss: 0.0323 - wine_quality_root_mean_squared_error: 0.5667 - wine_type_accuracy: 0.9924 - val_loss: 0.3595 - val_wine_quality_loss: 0.3290 - val_wine_type_loss: 0.0305 - val_wine_quality_root_mean_squared_error: 0.5736 - val_wine_type_accuracy: 0.9937\n",
            "Epoch 52/180\n",
            "99/99 [==============================] - 0s 2ms/step - loss: 0.3547 - wine_quality_loss: 0.3197 - wine_type_loss: 0.0350 - wine_quality_root_mean_squared_error: 0.5653 - wine_type_accuracy: 0.9931 - val_loss: 0.3585 - val_wine_quality_loss: 0.3279 - val_wine_type_loss: 0.0306 - val_wine_quality_root_mean_squared_error: 0.5726 - val_wine_type_accuracy: 0.9937\n",
            "Epoch 53/180\n",
            "99/99 [==============================] - 0s 2ms/step - loss: 0.3296 - wine_quality_loss: 0.3083 - wine_type_loss: 0.0213 - wine_quality_root_mean_squared_error: 0.5551 - wine_type_accuracy: 0.9949 - val_loss: 0.3568 - val_wine_quality_loss: 0.3264 - val_wine_type_loss: 0.0304 - val_wine_quality_root_mean_squared_error: 0.5713 - val_wine_type_accuracy: 0.9937\n",
            "Epoch 54/180\n",
            "99/99 [==============================] - 0s 2ms/step - loss: 0.3455 - wine_quality_loss: 0.3141 - wine_type_loss: 0.0314 - wine_quality_root_mean_squared_error: 0.5604 - wine_type_accuracy: 0.9942 - val_loss: 0.3644 - val_wine_quality_loss: 0.3343 - val_wine_type_loss: 0.0300 - val_wine_quality_root_mean_squared_error: 0.5782 - val_wine_type_accuracy: 0.9937\n",
            "Epoch 55/180\n",
            "99/99 [==============================] - 0s 2ms/step - loss: 0.3258 - wine_quality_loss: 0.2988 - wine_type_loss: 0.0269 - wine_quality_root_mean_squared_error: 0.5464 - wine_type_accuracy: 0.9955 - val_loss: 0.3543 - val_wine_quality_loss: 0.3244 - val_wine_type_loss: 0.0300 - val_wine_quality_root_mean_squared_error: 0.5695 - val_wine_type_accuracy: 0.9937\n",
            "Epoch 56/180\n",
            "99/99 [==============================] - 0s 2ms/step - loss: 0.3320 - wine_quality_loss: 0.3043 - wine_type_loss: 0.0277 - wine_quality_root_mean_squared_error: 0.5514 - wine_type_accuracy: 0.9935 - val_loss: 0.3536 - val_wine_quality_loss: 0.3234 - val_wine_type_loss: 0.0302 - val_wine_quality_root_mean_squared_error: 0.5687 - val_wine_type_accuracy: 0.9937\n",
            "Epoch 57/180\n",
            "99/99 [==============================] - 0s 2ms/step - loss: 0.3334 - wine_quality_loss: 0.3137 - wine_type_loss: 0.0197 - wine_quality_root_mean_squared_error: 0.5600 - wine_type_accuracy: 0.9954 - val_loss: 0.3514 - val_wine_quality_loss: 0.3214 - val_wine_type_loss: 0.0300 - val_wine_quality_root_mean_squared_error: 0.5669 - val_wine_type_accuracy: 0.9937\n",
            "Epoch 58/180\n",
            "99/99 [==============================] - 0s 2ms/step - loss: 0.3328 - wine_quality_loss: 0.3117 - wine_type_loss: 0.0212 - wine_quality_root_mean_squared_error: 0.5581 - wine_type_accuracy: 0.9947 - val_loss: 0.3538 - val_wine_quality_loss: 0.3237 - val_wine_type_loss: 0.0301 - val_wine_quality_root_mean_squared_error: 0.5690 - val_wine_type_accuracy: 0.9937\n",
            "Epoch 59/180\n",
            "99/99 [==============================] - 0s 2ms/step - loss: 0.3342 - wine_quality_loss: 0.3092 - wine_type_loss: 0.0250 - wine_quality_root_mean_squared_error: 0.5559 - wine_type_accuracy: 0.9953 - val_loss: 0.3500 - val_wine_quality_loss: 0.3202 - val_wine_type_loss: 0.0299 - val_wine_quality_root_mean_squared_error: 0.5658 - val_wine_type_accuracy: 0.9937\n",
            "Epoch 60/180\n",
            "99/99 [==============================] - 0s 2ms/step - loss: 0.3367 - wine_quality_loss: 0.3093 - wine_type_loss: 0.0274 - wine_quality_root_mean_squared_error: 0.5561 - wine_type_accuracy: 0.9927 - val_loss: 0.3483 - val_wine_quality_loss: 0.3185 - val_wine_type_loss: 0.0298 - val_wine_quality_root_mean_squared_error: 0.5644 - val_wine_type_accuracy: 0.9937\n",
            "Epoch 61/180\n",
            "99/99 [==============================] - 0s 2ms/step - loss: 0.3362 - wine_quality_loss: 0.3064 - wine_type_loss: 0.0297 - wine_quality_root_mean_squared_error: 0.5533 - wine_type_accuracy: 0.9954 - val_loss: 0.3566 - val_wine_quality_loss: 0.3267 - val_wine_type_loss: 0.0299 - val_wine_quality_root_mean_squared_error: 0.5716 - val_wine_type_accuracy: 0.9937\n",
            "Epoch 62/180\n",
            "99/99 [==============================] - 0s 2ms/step - loss: 0.3324 - wine_quality_loss: 0.3124 - wine_type_loss: 0.0200 - wine_quality_root_mean_squared_error: 0.5587 - wine_type_accuracy: 0.9960 - val_loss: 0.3561 - val_wine_quality_loss: 0.3264 - val_wine_type_loss: 0.0297 - val_wine_quality_root_mean_squared_error: 0.5713 - val_wine_type_accuracy: 0.9937\n",
            "Epoch 63/180\n",
            "99/99 [==============================] - 0s 2ms/step - loss: 0.3321 - wine_quality_loss: 0.3073 - wine_type_loss: 0.0248 - wine_quality_root_mean_squared_error: 0.5542 - wine_type_accuracy: 0.9945 - val_loss: 0.3461 - val_wine_quality_loss: 0.3167 - val_wine_type_loss: 0.0294 - val_wine_quality_root_mean_squared_error: 0.5628 - val_wine_type_accuracy: 0.9937\n",
            "Epoch 64/180\n",
            "99/99 [==============================] - 0s 4ms/step - loss: 0.3349 - wine_quality_loss: 0.3053 - wine_type_loss: 0.0296 - wine_quality_root_mean_squared_error: 0.5525 - wine_type_accuracy: 0.9944 - val_loss: 0.3604 - val_wine_quality_loss: 0.3311 - val_wine_type_loss: 0.0293 - val_wine_quality_root_mean_squared_error: 0.5754 - val_wine_type_accuracy: 0.9937\n",
            "Epoch 65/180\n",
            "99/99 [==============================] - 0s 2ms/step - loss: 0.3293 - wine_quality_loss: 0.2946 - wine_type_loss: 0.0347 - wine_quality_root_mean_squared_error: 0.5427 - wine_type_accuracy: 0.9924 - val_loss: 0.3468 - val_wine_quality_loss: 0.3177 - val_wine_type_loss: 0.0291 - val_wine_quality_root_mean_squared_error: 0.5637 - val_wine_type_accuracy: 0.9937\n",
            "Epoch 66/180\n",
            "99/99 [==============================] - 0s 2ms/step - loss: 0.3139 - wine_quality_loss: 0.2909 - wine_type_loss: 0.0230 - wine_quality_root_mean_squared_error: 0.5393 - wine_type_accuracy: 0.9959 - val_loss: 0.3453 - val_wine_quality_loss: 0.3159 - val_wine_type_loss: 0.0293 - val_wine_quality_root_mean_squared_error: 0.5621 - val_wine_type_accuracy: 0.9937\n",
            "Epoch 67/180\n",
            "99/99 [==============================] - 0s 2ms/step - loss: 0.3098 - wine_quality_loss: 0.2924 - wine_type_loss: 0.0175 - wine_quality_root_mean_squared_error: 0.5404 - wine_type_accuracy: 0.9971 - val_loss: 0.3536 - val_wine_quality_loss: 0.3242 - val_wine_type_loss: 0.0294 - val_wine_quality_root_mean_squared_error: 0.5694 - val_wine_type_accuracy: 0.9937\n",
            "Epoch 68/180\n",
            "99/99 [==============================] - 0s 2ms/step - loss: 0.3158 - wine_quality_loss: 0.2946 - wine_type_loss: 0.0212 - wine_quality_root_mean_squared_error: 0.5427 - wine_type_accuracy: 0.9954 - val_loss: 0.3566 - val_wine_quality_loss: 0.3273 - val_wine_type_loss: 0.0292 - val_wine_quality_root_mean_squared_error: 0.5721 - val_wine_type_accuracy: 0.9937\n",
            "Epoch 69/180\n",
            "99/99 [==============================] - 0s 2ms/step - loss: 0.3205 - wine_quality_loss: 0.2916 - wine_type_loss: 0.0288 - wine_quality_root_mean_squared_error: 0.5398 - wine_type_accuracy: 0.9939 - val_loss: 0.3496 - val_wine_quality_loss: 0.3203 - val_wine_type_loss: 0.0293 - val_wine_quality_root_mean_squared_error: 0.5660 - val_wine_type_accuracy: 0.9937\n",
            "Epoch 70/180\n",
            "99/99 [==============================] - 0s 2ms/step - loss: 0.3259 - wine_quality_loss: 0.3032 - wine_type_loss: 0.0226 - wine_quality_root_mean_squared_error: 0.5506 - wine_type_accuracy: 0.9964 - val_loss: 0.3445 - val_wine_quality_loss: 0.3153 - val_wine_type_loss: 0.0292 - val_wine_quality_root_mean_squared_error: 0.5615 - val_wine_type_accuracy: 0.9937\n",
            "Epoch 71/180\n",
            "99/99 [==============================] - 0s 2ms/step - loss: 0.3159 - wine_quality_loss: 0.2951 - wine_type_loss: 0.0209 - wine_quality_root_mean_squared_error: 0.5431 - wine_type_accuracy: 0.9971 - val_loss: 0.3478 - val_wine_quality_loss: 0.3188 - val_wine_type_loss: 0.0290 - val_wine_quality_root_mean_squared_error: 0.5646 - val_wine_type_accuracy: 0.9937\n",
            "Epoch 72/180\n",
            "99/99 [==============================] - 0s 2ms/step - loss: 0.3321 - wine_quality_loss: 0.2974 - wine_type_loss: 0.0347 - wine_quality_root_mean_squared_error: 0.5452 - wine_type_accuracy: 0.9946 - val_loss: 0.3438 - val_wine_quality_loss: 0.3149 - val_wine_type_loss: 0.0289 - val_wine_quality_root_mean_squared_error: 0.5611 - val_wine_type_accuracy: 0.9937\n",
            "Epoch 73/180\n",
            "99/99 [==============================] - 0s 2ms/step - loss: 0.3252 - wine_quality_loss: 0.2937 - wine_type_loss: 0.0315 - wine_quality_root_mean_squared_error: 0.5420 - wine_type_accuracy: 0.9940 - val_loss: 0.3497 - val_wine_quality_loss: 0.3208 - val_wine_type_loss: 0.0289 - val_wine_quality_root_mean_squared_error: 0.5664 - val_wine_type_accuracy: 0.9937\n",
            "Epoch 74/180\n",
            "99/99 [==============================] - 0s 2ms/step - loss: 0.3050 - wine_quality_loss: 0.2891 - wine_type_loss: 0.0159 - wine_quality_root_mean_squared_error: 0.5375 - wine_type_accuracy: 0.9973 - val_loss: 0.3436 - val_wine_quality_loss: 0.3149 - val_wine_type_loss: 0.0287 - val_wine_quality_root_mean_squared_error: 0.5612 - val_wine_type_accuracy: 0.9937\n",
            "Epoch 75/180\n",
            "99/99 [==============================] - 0s 2ms/step - loss: 0.3283 - wine_quality_loss: 0.3061 - wine_type_loss: 0.0222 - wine_quality_root_mean_squared_error: 0.5531 - wine_type_accuracy: 0.9968 - val_loss: 0.3523 - val_wine_quality_loss: 0.3236 - val_wine_type_loss: 0.0287 - val_wine_quality_root_mean_squared_error: 0.5688 - val_wine_type_accuracy: 0.9937\n",
            "Epoch 76/180\n",
            "99/99 [==============================] - 0s 2ms/step - loss: 0.3346 - wine_quality_loss: 0.2916 - wine_type_loss: 0.0430 - wine_quality_root_mean_squared_error: 0.5399 - wine_type_accuracy: 0.9935 - val_loss: 0.3558 - val_wine_quality_loss: 0.3268 - val_wine_type_loss: 0.0290 - val_wine_quality_root_mean_squared_error: 0.5717 - val_wine_type_accuracy: 0.9937\n",
            "Epoch 77/180\n",
            "99/99 [==============================] - 0s 2ms/step - loss: 0.3166 - wine_quality_loss: 0.2907 - wine_type_loss: 0.0259 - wine_quality_root_mean_squared_error: 0.5391 - wine_type_accuracy: 0.9964 - val_loss: 0.3426 - val_wine_quality_loss: 0.3141 - val_wine_type_loss: 0.0286 - val_wine_quality_root_mean_squared_error: 0.5604 - val_wine_type_accuracy: 0.9937\n",
            "Epoch 78/180\n",
            "99/99 [==============================] - 0s 2ms/step - loss: 0.3197 - wine_quality_loss: 0.2979 - wine_type_loss: 0.0218 - wine_quality_root_mean_squared_error: 0.5457 - wine_type_accuracy: 0.9964 - val_loss: 0.3490 - val_wine_quality_loss: 0.3204 - val_wine_type_loss: 0.0286 - val_wine_quality_root_mean_squared_error: 0.5660 - val_wine_type_accuracy: 0.9937\n",
            "Epoch 79/180\n",
            "99/99 [==============================] - 0s 2ms/step - loss: 0.3277 - wine_quality_loss: 0.2980 - wine_type_loss: 0.0297 - wine_quality_root_mean_squared_error: 0.5459 - wine_type_accuracy: 0.9956 - val_loss: 0.3437 - val_wine_quality_loss: 0.3152 - val_wine_type_loss: 0.0285 - val_wine_quality_root_mean_squared_error: 0.5614 - val_wine_type_accuracy: 0.9937\n",
            "Epoch 80/180\n",
            "99/99 [==============================] - 0s 2ms/step - loss: 0.3085 - wine_quality_loss: 0.2908 - wine_type_loss: 0.0177 - wine_quality_root_mean_squared_error: 0.5392 - wine_type_accuracy: 0.9978 - val_loss: 0.3439 - val_wine_quality_loss: 0.3154 - val_wine_type_loss: 0.0285 - val_wine_quality_root_mean_squared_error: 0.5616 - val_wine_type_accuracy: 0.9937\n",
            "Epoch 81/180\n",
            "99/99 [==============================] - 0s 2ms/step - loss: 0.3108 - wine_quality_loss: 0.2837 - wine_type_loss: 0.0271 - wine_quality_root_mean_squared_error: 0.5324 - wine_type_accuracy: 0.9962 - val_loss: 0.3416 - val_wine_quality_loss: 0.3131 - val_wine_type_loss: 0.0285 - val_wine_quality_root_mean_squared_error: 0.5596 - val_wine_type_accuracy: 0.9937\n",
            "Epoch 82/180\n",
            "99/99 [==============================] - 0s 2ms/step - loss: 0.3092 - wine_quality_loss: 0.2927 - wine_type_loss: 0.0166 - wine_quality_root_mean_squared_error: 0.5410 - wine_type_accuracy: 0.9982 - val_loss: 0.3443 - val_wine_quality_loss: 0.3160 - val_wine_type_loss: 0.0284 - val_wine_quality_root_mean_squared_error: 0.5621 - val_wine_type_accuracy: 0.9937\n",
            "Epoch 83/180\n",
            "99/99 [==============================] - 0s 2ms/step - loss: 0.3087 - wine_quality_loss: 0.2878 - wine_type_loss: 0.0209 - wine_quality_root_mean_squared_error: 0.5363 - wine_type_accuracy: 0.9961 - val_loss: 0.3437 - val_wine_quality_loss: 0.3154 - val_wine_type_loss: 0.0283 - val_wine_quality_root_mean_squared_error: 0.5616 - val_wine_type_accuracy: 0.9937\n",
            "Epoch 84/180\n",
            "99/99 [==============================] - 0s 2ms/step - loss: 0.3034 - wine_quality_loss: 0.2830 - wine_type_loss: 0.0204 - wine_quality_root_mean_squared_error: 0.5319 - wine_type_accuracy: 0.9967 - val_loss: 0.3508 - val_wine_quality_loss: 0.3225 - val_wine_type_loss: 0.0282 - val_wine_quality_root_mean_squared_error: 0.5679 - val_wine_type_accuracy: 0.9937\n",
            "Epoch 85/180\n",
            "99/99 [==============================] - 0s 2ms/step - loss: 0.3129 - wine_quality_loss: 0.2825 - wine_type_loss: 0.0305 - wine_quality_root_mean_squared_error: 0.5315 - wine_type_accuracy: 0.9945 - val_loss: 0.3449 - val_wine_quality_loss: 0.3164 - val_wine_type_loss: 0.0285 - val_wine_quality_root_mean_squared_error: 0.5625 - val_wine_type_accuracy: 0.9937\n",
            "Epoch 86/180\n",
            "99/99 [==============================] - 0s 2ms/step - loss: 0.3088 - wine_quality_loss: 0.2815 - wine_type_loss: 0.0273 - wine_quality_root_mean_squared_error: 0.5305 - wine_type_accuracy: 0.9966 - val_loss: 0.3415 - val_wine_quality_loss: 0.3132 - val_wine_type_loss: 0.0283 - val_wine_quality_root_mean_squared_error: 0.5597 - val_wine_type_accuracy: 0.9937\n",
            "Epoch 87/180\n",
            "99/99 [==============================] - 0s 2ms/step - loss: 0.3308 - wine_quality_loss: 0.2987 - wine_type_loss: 0.0320 - wine_quality_root_mean_squared_error: 0.5464 - wine_type_accuracy: 0.9956 - val_loss: 0.3437 - val_wine_quality_loss: 0.3153 - val_wine_type_loss: 0.0283 - val_wine_quality_root_mean_squared_error: 0.5615 - val_wine_type_accuracy: 0.9937\n",
            "Epoch 88/180\n",
            "99/99 [==============================] - 0s 2ms/step - loss: 0.3076 - wine_quality_loss: 0.2781 - wine_type_loss: 0.0294 - wine_quality_root_mean_squared_error: 0.5274 - wine_type_accuracy: 0.9964 - val_loss: 0.3523 - val_wine_quality_loss: 0.3240 - val_wine_type_loss: 0.0283 - val_wine_quality_root_mean_squared_error: 0.5692 - val_wine_type_accuracy: 0.9937\n",
            "Epoch 89/180\n",
            "99/99 [==============================] - 0s 2ms/step - loss: 0.3094 - wine_quality_loss: 0.2903 - wine_type_loss: 0.0191 - wine_quality_root_mean_squared_error: 0.5388 - wine_type_accuracy: 0.9964 - val_loss: 0.3463 - val_wine_quality_loss: 0.3180 - val_wine_type_loss: 0.0283 - val_wine_quality_root_mean_squared_error: 0.5640 - val_wine_type_accuracy: 0.9937\n",
            "Epoch 90/180\n",
            "99/99 [==============================] - 0s 2ms/step - loss: 0.3086 - wine_quality_loss: 0.2797 - wine_type_loss: 0.0289 - wine_quality_root_mean_squared_error: 0.5287 - wine_type_accuracy: 0.9952 - val_loss: 0.3467 - val_wine_quality_loss: 0.3188 - val_wine_type_loss: 0.0279 - val_wine_quality_root_mean_squared_error: 0.5646 - val_wine_type_accuracy: 0.9937\n",
            "Epoch 91/180\n",
            "99/99 [==============================] - 0s 2ms/step - loss: 0.2998 - wine_quality_loss: 0.2890 - wine_type_loss: 0.0109 - wine_quality_root_mean_squared_error: 0.5374 - wine_type_accuracy: 0.9986 - val_loss: 0.3432 - val_wine_quality_loss: 0.3153 - val_wine_type_loss: 0.0279 - val_wine_quality_root_mean_squared_error: 0.5616 - val_wine_type_accuracy: 0.9937\n",
            "Epoch 92/180\n",
            "99/99 [==============================] - 0s 2ms/step - loss: 0.2931 - wine_quality_loss: 0.2716 - wine_type_loss: 0.0215 - wine_quality_root_mean_squared_error: 0.5210 - wine_type_accuracy: 0.9969 - val_loss: 0.3395 - val_wine_quality_loss: 0.3116 - val_wine_type_loss: 0.0279 - val_wine_quality_root_mean_squared_error: 0.5583 - val_wine_type_accuracy: 0.9937\n",
            "Epoch 93/180\n",
            "99/99 [==============================] - 0s 2ms/step - loss: 0.3118 - wine_quality_loss: 0.2903 - wine_type_loss: 0.0215 - wine_quality_root_mean_squared_error: 0.5385 - wine_type_accuracy: 0.9969 - val_loss: 0.3406 - val_wine_quality_loss: 0.3128 - val_wine_type_loss: 0.0278 - val_wine_quality_root_mean_squared_error: 0.5593 - val_wine_type_accuracy: 0.9937\n",
            "Epoch 94/180\n",
            "99/99 [==============================] - 0s 2ms/step - loss: 0.3018 - wine_quality_loss: 0.2772 - wine_type_loss: 0.0246 - wine_quality_root_mean_squared_error: 0.5265 - wine_type_accuracy: 0.9964 - val_loss: 0.3402 - val_wine_quality_loss: 0.3125 - val_wine_type_loss: 0.0278 - val_wine_quality_root_mean_squared_error: 0.5590 - val_wine_type_accuracy: 0.9937\n",
            "Epoch 95/180\n",
            "99/99 [==============================] - 0s 2ms/step - loss: 0.3075 - wine_quality_loss: 0.2837 - wine_type_loss: 0.0237 - wine_quality_root_mean_squared_error: 0.5326 - wine_type_accuracy: 0.9971 - val_loss: 0.3405 - val_wine_quality_loss: 0.3128 - val_wine_type_loss: 0.0277 - val_wine_quality_root_mean_squared_error: 0.5592 - val_wine_type_accuracy: 0.9937\n",
            "Epoch 96/180\n",
            "99/99 [==============================] - 0s 2ms/step - loss: 0.2980 - wine_quality_loss: 0.2769 - wine_type_loss: 0.0210 - wine_quality_root_mean_squared_error: 0.5262 - wine_type_accuracy: 0.9963 - val_loss: 0.3431 - val_wine_quality_loss: 0.3153 - val_wine_type_loss: 0.0278 - val_wine_quality_root_mean_squared_error: 0.5615 - val_wine_type_accuracy: 0.9937\n",
            "Epoch 97/180\n",
            "99/99 [==============================] - 0s 2ms/step - loss: 0.3075 - wine_quality_loss: 0.2849 - wine_type_loss: 0.0226 - wine_quality_root_mean_squared_error: 0.5337 - wine_type_accuracy: 0.9961 - val_loss: 0.3412 - val_wine_quality_loss: 0.3137 - val_wine_type_loss: 0.0275 - val_wine_quality_root_mean_squared_error: 0.5601 - val_wine_type_accuracy: 0.9937\n",
            "Epoch 98/180\n",
            "99/99 [==============================] - 0s 2ms/step - loss: 0.3071 - wine_quality_loss: 0.2800 - wine_type_loss: 0.0271 - wine_quality_root_mean_squared_error: 0.5291 - wine_type_accuracy: 0.9946 - val_loss: 0.3420 - val_wine_quality_loss: 0.3146 - val_wine_type_loss: 0.0274 - val_wine_quality_root_mean_squared_error: 0.5609 - val_wine_type_accuracy: 0.9937\n",
            "Epoch 99/180\n",
            "99/99 [==============================] - 0s 2ms/step - loss: 0.3073 - wine_quality_loss: 0.2745 - wine_type_loss: 0.0327 - wine_quality_root_mean_squared_error: 0.5238 - wine_type_accuracy: 0.9955 - val_loss: 0.3440 - val_wine_quality_loss: 0.3163 - val_wine_type_loss: 0.0277 - val_wine_quality_root_mean_squared_error: 0.5624 - val_wine_type_accuracy: 0.9937\n",
            "Epoch 100/180\n",
            "99/99 [==============================] - 0s 2ms/step - loss: 0.3105 - wine_quality_loss: 0.2921 - wine_type_loss: 0.0184 - wine_quality_root_mean_squared_error: 0.5403 - wine_type_accuracy: 0.9959 - val_loss: 0.3379 - val_wine_quality_loss: 0.3104 - val_wine_type_loss: 0.0275 - val_wine_quality_root_mean_squared_error: 0.5572 - val_wine_type_accuracy: 0.9937\n",
            "Epoch 101/180\n",
            "99/99 [==============================] - 0s 2ms/step - loss: 0.2895 - wine_quality_loss: 0.2650 - wine_type_loss: 0.0245 - wine_quality_root_mean_squared_error: 0.5146 - wine_type_accuracy: 0.9951 - val_loss: 0.3401 - val_wine_quality_loss: 0.3125 - val_wine_type_loss: 0.0275 - val_wine_quality_root_mean_squared_error: 0.5591 - val_wine_type_accuracy: 0.9937\n",
            "Epoch 102/180\n",
            "99/99 [==============================] - 0s 2ms/step - loss: 0.3110 - wine_quality_loss: 0.2805 - wine_type_loss: 0.0305 - wine_quality_root_mean_squared_error: 0.5295 - wine_type_accuracy: 0.9950 - val_loss: 0.3395 - val_wine_quality_loss: 0.3117 - val_wine_type_loss: 0.0279 - val_wine_quality_root_mean_squared_error: 0.5583 - val_wine_type_accuracy: 0.9937\n",
            "Epoch 103/180\n",
            "99/99 [==============================] - 0s 2ms/step - loss: 0.2815 - wine_quality_loss: 0.2668 - wine_type_loss: 0.0146 - wine_quality_root_mean_squared_error: 0.5163 - wine_type_accuracy: 0.9973 - val_loss: 0.3458 - val_wine_quality_loss: 0.3183 - val_wine_type_loss: 0.0274 - val_wine_quality_root_mean_squared_error: 0.5642 - val_wine_type_accuracy: 0.9937\n",
            "Epoch 104/180\n",
            "99/99 [==============================] - 0s 2ms/step - loss: 0.2865 - wine_quality_loss: 0.2716 - wine_type_loss: 0.0149 - wine_quality_root_mean_squared_error: 0.5211 - wine_type_accuracy: 0.9978 - val_loss: 0.3380 - val_wine_quality_loss: 0.3105 - val_wine_type_loss: 0.0275 - val_wine_quality_root_mean_squared_error: 0.5572 - val_wine_type_accuracy: 0.9937\n",
            "Epoch 105/180\n",
            "99/99 [==============================] - 0s 2ms/step - loss: 0.2884 - wine_quality_loss: 0.2691 - wine_type_loss: 0.0193 - wine_quality_root_mean_squared_error: 0.5184 - wine_type_accuracy: 0.9962 - val_loss: 0.3406 - val_wine_quality_loss: 0.3132 - val_wine_type_loss: 0.0273 - val_wine_quality_root_mean_squared_error: 0.5597 - val_wine_type_accuracy: 0.9937\n",
            "Epoch 106/180\n",
            "99/99 [==============================] - 0s 3ms/step - loss: 0.2915 - wine_quality_loss: 0.2692 - wine_type_loss: 0.0223 - wine_quality_root_mean_squared_error: 0.5187 - wine_type_accuracy: 0.9967 - val_loss: 0.3421 - val_wine_quality_loss: 0.3148 - val_wine_type_loss: 0.0273 - val_wine_quality_root_mean_squared_error: 0.5610 - val_wine_type_accuracy: 0.9937\n",
            "Epoch 107/180\n",
            "99/99 [==============================] - 0s 2ms/step - loss: 0.2883 - wine_quality_loss: 0.2719 - wine_type_loss: 0.0164 - wine_quality_root_mean_squared_error: 0.5212 - wine_type_accuracy: 0.9972 - val_loss: 0.3371 - val_wine_quality_loss: 0.3100 - val_wine_type_loss: 0.0272 - val_wine_quality_root_mean_squared_error: 0.5567 - val_wine_type_accuracy: 0.9937\n",
            "Epoch 108/180\n",
            "99/99 [==============================] - 0s 3ms/step - loss: 0.3120 - wine_quality_loss: 0.2784 - wine_type_loss: 0.0336 - wine_quality_root_mean_squared_error: 0.5276 - wine_type_accuracy: 0.9952 - val_loss: 0.3428 - val_wine_quality_loss: 0.3159 - val_wine_type_loss: 0.0270 - val_wine_quality_root_mean_squared_error: 0.5620 - val_wine_type_accuracy: 0.9937\n",
            "Epoch 109/180\n",
            "99/99 [==============================] - 0s 3ms/step - loss: 0.2961 - wine_quality_loss: 0.2774 - wine_type_loss: 0.0187 - wine_quality_root_mean_squared_error: 0.5267 - wine_type_accuracy: 0.9967 - val_loss: 0.3618 - val_wine_quality_loss: 0.3347 - val_wine_type_loss: 0.0270 - val_wine_quality_root_mean_squared_error: 0.5785 - val_wine_type_accuracy: 0.9937\n",
            "Epoch 110/180\n",
            "99/99 [==============================] - 0s 2ms/step - loss: 0.3014 - wine_quality_loss: 0.2807 - wine_type_loss: 0.0207 - wine_quality_root_mean_squared_error: 0.5296 - wine_type_accuracy: 0.9973 - val_loss: 0.3428 - val_wine_quality_loss: 0.3157 - val_wine_type_loss: 0.0271 - val_wine_quality_root_mean_squared_error: 0.5619 - val_wine_type_accuracy: 0.9937\n",
            "Epoch 111/180\n",
            "99/99 [==============================] - 0s 2ms/step - loss: 0.2934 - wine_quality_loss: 0.2773 - wine_type_loss: 0.0161 - wine_quality_root_mean_squared_error: 0.5264 - wine_type_accuracy: 0.9963 - val_loss: 0.3405 - val_wine_quality_loss: 0.3135 - val_wine_type_loss: 0.0270 - val_wine_quality_root_mean_squared_error: 0.5599 - val_wine_type_accuracy: 0.9937\n",
            "Epoch 112/180\n",
            "99/99 [==============================] - 0s 3ms/step - loss: 0.2824 - wine_quality_loss: 0.2614 - wine_type_loss: 0.0210 - wine_quality_root_mean_squared_error: 0.5109 - wine_type_accuracy: 0.9958 - val_loss: 0.3420 - val_wine_quality_loss: 0.3150 - val_wine_type_loss: 0.0270 - val_wine_quality_root_mean_squared_error: 0.5612 - val_wine_type_accuracy: 0.9937\n",
            "Epoch 113/180\n",
            "99/99 [==============================] - 0s 2ms/step - loss: 0.2921 - wine_quality_loss: 0.2727 - wine_type_loss: 0.0193 - wine_quality_root_mean_squared_error: 0.5221 - wine_type_accuracy: 0.9976 - val_loss: 0.3362 - val_wine_quality_loss: 0.3093 - val_wine_type_loss: 0.0269 - val_wine_quality_root_mean_squared_error: 0.5561 - val_wine_type_accuracy: 0.9937\n",
            "Epoch 114/180\n",
            "99/99 [==============================] - 0s 2ms/step - loss: 0.2878 - wine_quality_loss: 0.2698 - wine_type_loss: 0.0180 - wine_quality_root_mean_squared_error: 0.5194 - wine_type_accuracy: 0.9970 - val_loss: 0.3411 - val_wine_quality_loss: 0.3142 - val_wine_type_loss: 0.0269 - val_wine_quality_root_mean_squared_error: 0.5605 - val_wine_type_accuracy: 0.9937\n",
            "Epoch 115/180\n",
            "99/99 [==============================] - 0s 2ms/step - loss: 0.2925 - wine_quality_loss: 0.2738 - wine_type_loss: 0.0186 - wine_quality_root_mean_squared_error: 0.5232 - wine_type_accuracy: 0.9973 - val_loss: 0.3408 - val_wine_quality_loss: 0.3139 - val_wine_type_loss: 0.0269 - val_wine_quality_root_mean_squared_error: 0.5603 - val_wine_type_accuracy: 0.9937\n",
            "Epoch 116/180\n",
            "99/99 [==============================] - 0s 2ms/step - loss: 0.2927 - wine_quality_loss: 0.2793 - wine_type_loss: 0.0134 - wine_quality_root_mean_squared_error: 0.5284 - wine_type_accuracy: 0.9975 - val_loss: 0.3368 - val_wine_quality_loss: 0.3099 - val_wine_type_loss: 0.0269 - val_wine_quality_root_mean_squared_error: 0.5567 - val_wine_type_accuracy: 0.9937\n",
            "Epoch 117/180\n",
            "99/99 [==============================] - 0s 2ms/step - loss: 0.3109 - wine_quality_loss: 0.2801 - wine_type_loss: 0.0308 - wine_quality_root_mean_squared_error: 0.5291 - wine_type_accuracy: 0.9938 - val_loss: 0.3369 - val_wine_quality_loss: 0.3100 - val_wine_type_loss: 0.0269 - val_wine_quality_root_mean_squared_error: 0.5568 - val_wine_type_accuracy: 0.9937\n",
            "Epoch 118/180\n",
            "99/99 [==============================] - 0s 2ms/step - loss: 0.2933 - wine_quality_loss: 0.2736 - wine_type_loss: 0.0197 - wine_quality_root_mean_squared_error: 0.5229 - wine_type_accuracy: 0.9965 - val_loss: 0.3367 - val_wine_quality_loss: 0.3098 - val_wine_type_loss: 0.0269 - val_wine_quality_root_mean_squared_error: 0.5566 - val_wine_type_accuracy: 0.9937\n",
            "Epoch 119/180\n",
            "99/99 [==============================] - 0s 4ms/step - loss: 0.3088 - wine_quality_loss: 0.2814 - wine_type_loss: 0.0274 - wine_quality_root_mean_squared_error: 0.5304 - wine_type_accuracy: 0.9954 - val_loss: 0.3372 - val_wine_quality_loss: 0.3101 - val_wine_type_loss: 0.0270 - val_wine_quality_root_mean_squared_error: 0.5569 - val_wine_type_accuracy: 0.9937\n",
            "Epoch 120/180\n",
            "99/99 [==============================] - 0s 2ms/step - loss: 0.2888 - wine_quality_loss: 0.2689 - wine_type_loss: 0.0199 - wine_quality_root_mean_squared_error: 0.5185 - wine_type_accuracy: 0.9971 - val_loss: 0.3400 - val_wine_quality_loss: 0.3131 - val_wine_type_loss: 0.0269 - val_wine_quality_root_mean_squared_error: 0.5595 - val_wine_type_accuracy: 0.9937\n",
            "Epoch 121/180\n",
            "99/99 [==============================] - 0s 2ms/step - loss: 0.2905 - wine_quality_loss: 0.2761 - wine_type_loss: 0.0144 - wine_quality_root_mean_squared_error: 0.5254 - wine_type_accuracy: 0.9973 - val_loss: 0.3431 - val_wine_quality_loss: 0.3163 - val_wine_type_loss: 0.0268 - val_wine_quality_root_mean_squared_error: 0.5624 - val_wine_type_accuracy: 0.9937\n",
            "Epoch 122/180\n",
            "99/99 [==============================] - 0s 2ms/step - loss: 0.2835 - wine_quality_loss: 0.2654 - wine_type_loss: 0.0181 - wine_quality_root_mean_squared_error: 0.5149 - wine_type_accuracy: 0.9946 - val_loss: 0.3397 - val_wine_quality_loss: 0.3130 - val_wine_type_loss: 0.0266 - val_wine_quality_root_mean_squared_error: 0.5595 - val_wine_type_accuracy: 0.9937\n",
            "Epoch 123/180\n",
            "99/99 [==============================] - 0s 2ms/step - loss: 0.2921 - wine_quality_loss: 0.2672 - wine_type_loss: 0.0249 - wine_quality_root_mean_squared_error: 0.5168 - wine_type_accuracy: 0.9959 - val_loss: 0.3457 - val_wine_quality_loss: 0.3187 - val_wine_type_loss: 0.0270 - val_wine_quality_root_mean_squared_error: 0.5645 - val_wine_type_accuracy: 0.9937\n",
            "Epoch 124/180\n",
            "99/99 [==============================] - 0s 2ms/step - loss: 0.2752 - wine_quality_loss: 0.2588 - wine_type_loss: 0.0163 - wine_quality_root_mean_squared_error: 0.5087 - wine_type_accuracy: 0.9965 - val_loss: 0.3417 - val_wine_quality_loss: 0.3150 - val_wine_type_loss: 0.0268 - val_wine_quality_root_mean_squared_error: 0.5612 - val_wine_type_accuracy: 0.9937\n",
            "Epoch 125/180\n",
            "99/99 [==============================] - 0s 2ms/step - loss: 0.2835 - wine_quality_loss: 0.2650 - wine_type_loss: 0.0185 - wine_quality_root_mean_squared_error: 0.5147 - wine_type_accuracy: 0.9959 - val_loss: 0.3463 - val_wine_quality_loss: 0.3196 - val_wine_type_loss: 0.0267 - val_wine_quality_root_mean_squared_error: 0.5653 - val_wine_type_accuracy: 0.9937\n",
            "Epoch 126/180\n",
            "99/99 [==============================] - 0s 2ms/step - loss: 0.2806 - wine_quality_loss: 0.2595 - wine_type_loss: 0.0211 - wine_quality_root_mean_squared_error: 0.5092 - wine_type_accuracy: 0.9954 - val_loss: 0.3407 - val_wine_quality_loss: 0.3141 - val_wine_type_loss: 0.0266 - val_wine_quality_root_mean_squared_error: 0.5604 - val_wine_type_accuracy: 0.9937\n",
            "Epoch 127/180\n",
            "99/99 [==============================] - 0s 2ms/step - loss: 0.2800 - wine_quality_loss: 0.2642 - wine_type_loss: 0.0158 - wine_quality_root_mean_squared_error: 0.5139 - wine_type_accuracy: 0.9978 - val_loss: 0.3351 - val_wine_quality_loss: 0.3086 - val_wine_type_loss: 0.0265 - val_wine_quality_root_mean_squared_error: 0.5555 - val_wine_type_accuracy: 0.9937\n",
            "Epoch 128/180\n",
            "99/99 [==============================] - 0s 2ms/step - loss: 0.2886 - wine_quality_loss: 0.2667 - wine_type_loss: 0.0219 - wine_quality_root_mean_squared_error: 0.5163 - wine_type_accuracy: 0.9969 - val_loss: 0.3351 - val_wine_quality_loss: 0.3087 - val_wine_type_loss: 0.0264 - val_wine_quality_root_mean_squared_error: 0.5556 - val_wine_type_accuracy: 0.9937\n",
            "Epoch 129/180\n",
            "99/99 [==============================] - 0s 2ms/step - loss: 0.2900 - wine_quality_loss: 0.2702 - wine_type_loss: 0.0199 - wine_quality_root_mean_squared_error: 0.5196 - wine_type_accuracy: 0.9957 - val_loss: 0.3347 - val_wine_quality_loss: 0.3083 - val_wine_type_loss: 0.0264 - val_wine_quality_root_mean_squared_error: 0.5552 - val_wine_type_accuracy: 0.9937\n",
            "Epoch 130/180\n",
            "99/99 [==============================] - 0s 2ms/step - loss: 0.2840 - wine_quality_loss: 0.2686 - wine_type_loss: 0.0154 - wine_quality_root_mean_squared_error: 0.5182 - wine_type_accuracy: 0.9953 - val_loss: 0.3425 - val_wine_quality_loss: 0.3162 - val_wine_type_loss: 0.0263 - val_wine_quality_root_mean_squared_error: 0.5623 - val_wine_type_accuracy: 0.9937\n",
            "Epoch 131/180\n",
            "99/99 [==============================] - 0s 2ms/step - loss: 0.2823 - wine_quality_loss: 0.2618 - wine_type_loss: 0.0205 - wine_quality_root_mean_squared_error: 0.5116 - wine_type_accuracy: 0.9967 - val_loss: 0.3400 - val_wine_quality_loss: 0.3135 - val_wine_type_loss: 0.0265 - val_wine_quality_root_mean_squared_error: 0.5599 - val_wine_type_accuracy: 0.9937\n",
            "Epoch 132/180\n",
            "99/99 [==============================] - 0s 2ms/step - loss: 0.2716 - wine_quality_loss: 0.2558 - wine_type_loss: 0.0158 - wine_quality_root_mean_squared_error: 0.5057 - wine_type_accuracy: 0.9957 - val_loss: 0.3415 - val_wine_quality_loss: 0.3151 - val_wine_type_loss: 0.0264 - val_wine_quality_root_mean_squared_error: 0.5614 - val_wine_type_accuracy: 0.9937\n",
            "Epoch 133/180\n",
            "99/99 [==============================] - 0s 2ms/step - loss: 0.2838 - wine_quality_loss: 0.2660 - wine_type_loss: 0.0179 - wine_quality_root_mean_squared_error: 0.5157 - wine_type_accuracy: 0.9977 - val_loss: 0.3405 - val_wine_quality_loss: 0.3142 - val_wine_type_loss: 0.0263 - val_wine_quality_root_mean_squared_error: 0.5605 - val_wine_type_accuracy: 0.9937\n",
            "Epoch 134/180\n",
            "99/99 [==============================] - 0s 3ms/step - loss: 0.2800 - wine_quality_loss: 0.2606 - wine_type_loss: 0.0194 - wine_quality_root_mean_squared_error: 0.5104 - wine_type_accuracy: 0.9965 - val_loss: 0.3435 - val_wine_quality_loss: 0.3172 - val_wine_type_loss: 0.0263 - val_wine_quality_root_mean_squared_error: 0.5632 - val_wine_type_accuracy: 0.9937\n",
            "Epoch 135/180\n",
            "99/99 [==============================] - 0s 2ms/step - loss: 0.2815 - wine_quality_loss: 0.2656 - wine_type_loss: 0.0159 - wine_quality_root_mean_squared_error: 0.5153 - wine_type_accuracy: 0.9972 - val_loss: 0.3427 - val_wine_quality_loss: 0.3163 - val_wine_type_loss: 0.0263 - val_wine_quality_root_mean_squared_error: 0.5624 - val_wine_type_accuracy: 0.9937\n",
            "Epoch 136/180\n",
            "99/99 [==============================] - 0s 2ms/step - loss: 0.2926 - wine_quality_loss: 0.2727 - wine_type_loss: 0.0198 - wine_quality_root_mean_squared_error: 0.5220 - wine_type_accuracy: 0.9964 - val_loss: 0.3374 - val_wine_quality_loss: 0.3111 - val_wine_type_loss: 0.0263 - val_wine_quality_root_mean_squared_error: 0.5578 - val_wine_type_accuracy: 0.9937\n",
            "Epoch 137/180\n",
            "99/99 [==============================] - 0s 2ms/step - loss: 0.2921 - wine_quality_loss: 0.2663 - wine_type_loss: 0.0258 - wine_quality_root_mean_squared_error: 0.5161 - wine_type_accuracy: 0.9963 - val_loss: 0.3465 - val_wine_quality_loss: 0.3201 - val_wine_type_loss: 0.0264 - val_wine_quality_root_mean_squared_error: 0.5658 - val_wine_type_accuracy: 0.9937\n",
            "Epoch 138/180\n",
            "99/99 [==============================] - 0s 2ms/step - loss: 0.2808 - wine_quality_loss: 0.2598 - wine_type_loss: 0.0210 - wine_quality_root_mean_squared_error: 0.5096 - wine_type_accuracy: 0.9962 - val_loss: 0.3434 - val_wine_quality_loss: 0.3171 - val_wine_type_loss: 0.0263 - val_wine_quality_root_mean_squared_error: 0.5631 - val_wine_type_accuracy: 0.9937\n",
            "Epoch 139/180\n",
            "99/99 [==============================] - 0s 2ms/step - loss: 0.2895 - wine_quality_loss: 0.2717 - wine_type_loss: 0.0178 - wine_quality_root_mean_squared_error: 0.5211 - wine_type_accuracy: 0.9972 - val_loss: 0.3368 - val_wine_quality_loss: 0.3105 - val_wine_type_loss: 0.0262 - val_wine_quality_root_mean_squared_error: 0.5573 - val_wine_type_accuracy: 0.9937\n",
            "Epoch 140/180\n",
            "99/99 [==============================] - 0s 2ms/step - loss: 0.2779 - wine_quality_loss: 0.2599 - wine_type_loss: 0.0181 - wine_quality_root_mean_squared_error: 0.5097 - wine_type_accuracy: 0.9963 - val_loss: 0.3406 - val_wine_quality_loss: 0.3144 - val_wine_type_loss: 0.0262 - val_wine_quality_root_mean_squared_error: 0.5607 - val_wine_type_accuracy: 0.9937\n",
            "Epoch 141/180\n",
            "99/99 [==============================] - 0s 2ms/step - loss: 0.2693 - wine_quality_loss: 0.2506 - wine_type_loss: 0.0188 - wine_quality_root_mean_squared_error: 0.5003 - wine_type_accuracy: 0.9962 - val_loss: 0.3400 - val_wine_quality_loss: 0.3137 - val_wine_type_loss: 0.0263 - val_wine_quality_root_mean_squared_error: 0.5601 - val_wine_type_accuracy: 0.9937\n",
            "Epoch 142/180\n",
            "99/99 [==============================] - 0s 2ms/step - loss: 0.2775 - wine_quality_loss: 0.2578 - wine_type_loss: 0.0197 - wine_quality_root_mean_squared_error: 0.5076 - wine_type_accuracy: 0.9962 - val_loss: 0.3358 - val_wine_quality_loss: 0.3096 - val_wine_type_loss: 0.0262 - val_wine_quality_root_mean_squared_error: 0.5564 - val_wine_type_accuracy: 0.9937\n",
            "Epoch 143/180\n",
            "99/99 [==============================] - 0s 2ms/step - loss: 0.2849 - wine_quality_loss: 0.2689 - wine_type_loss: 0.0159 - wine_quality_root_mean_squared_error: 0.5184 - wine_type_accuracy: 0.9971 - val_loss: 0.3347 - val_wine_quality_loss: 0.3084 - val_wine_type_loss: 0.0263 - val_wine_quality_root_mean_squared_error: 0.5554 - val_wine_type_accuracy: 0.9937\n",
            "Epoch 144/180\n",
            "99/99 [==============================] - 0s 2ms/step - loss: 0.2735 - wine_quality_loss: 0.2598 - wine_type_loss: 0.0138 - wine_quality_root_mean_squared_error: 0.5096 - wine_type_accuracy: 0.9976 - val_loss: 0.3537 - val_wine_quality_loss: 0.3273 - val_wine_type_loss: 0.0264 - val_wine_quality_root_mean_squared_error: 0.5721 - val_wine_type_accuracy: 0.9937\n",
            "Epoch 145/180\n",
            "99/99 [==============================] - 0s 3ms/step - loss: 0.2653 - wine_quality_loss: 0.2499 - wine_type_loss: 0.0154 - wine_quality_root_mean_squared_error: 0.4997 - wine_type_accuracy: 0.9975 - val_loss: 0.3469 - val_wine_quality_loss: 0.3208 - val_wine_type_loss: 0.0261 - val_wine_quality_root_mean_squared_error: 0.5664 - val_wine_type_accuracy: 0.9937\n",
            "Epoch 146/180\n",
            "99/99 [==============================] - 0s 2ms/step - loss: 0.2735 - wine_quality_loss: 0.2610 - wine_type_loss: 0.0125 - wine_quality_root_mean_squared_error: 0.5108 - wine_type_accuracy: 0.9972 - val_loss: 0.3510 - val_wine_quality_loss: 0.3250 - val_wine_type_loss: 0.0261 - val_wine_quality_root_mean_squared_error: 0.5700 - val_wine_type_accuracy: 0.9949\n",
            "Epoch 147/180\n",
            "99/99 [==============================] - 0s 2ms/step - loss: 0.2782 - wine_quality_loss: 0.2656 - wine_type_loss: 0.0126 - wine_quality_root_mean_squared_error: 0.5153 - wine_type_accuracy: 0.9969 - val_loss: 0.3366 - val_wine_quality_loss: 0.3106 - val_wine_type_loss: 0.0260 - val_wine_quality_root_mean_squared_error: 0.5573 - val_wine_type_accuracy: 0.9949\n",
            "Epoch 148/180\n",
            "99/99 [==============================] - 0s 3ms/step - loss: 0.2710 - wine_quality_loss: 0.2472 - wine_type_loss: 0.0238 - wine_quality_root_mean_squared_error: 0.4967 - wine_type_accuracy: 0.9956 - val_loss: 0.3377 - val_wine_quality_loss: 0.3116 - val_wine_type_loss: 0.0261 - val_wine_quality_root_mean_squared_error: 0.5582 - val_wine_type_accuracy: 0.9937\n",
            "Epoch 149/180\n",
            "99/99 [==============================] - 0s 3ms/step - loss: 0.2760 - wine_quality_loss: 0.2573 - wine_type_loss: 0.0187 - wine_quality_root_mean_squared_error: 0.5072 - wine_type_accuracy: 0.9948 - val_loss: 0.3501 - val_wine_quality_loss: 0.3241 - val_wine_type_loss: 0.0260 - val_wine_quality_root_mean_squared_error: 0.5693 - val_wine_type_accuracy: 0.9949\n",
            "Epoch 150/180\n",
            "99/99 [==============================] - 0s 3ms/step - loss: 0.2687 - wine_quality_loss: 0.2572 - wine_type_loss: 0.0115 - wine_quality_root_mean_squared_error: 0.5071 - wine_type_accuracy: 0.9978 - val_loss: 0.3392 - val_wine_quality_loss: 0.3132 - val_wine_type_loss: 0.0260 - val_wine_quality_root_mean_squared_error: 0.5597 - val_wine_type_accuracy: 0.9949\n",
            "Epoch 151/180\n",
            "99/99 [==============================] - 0s 3ms/step - loss: 0.2770 - wine_quality_loss: 0.2607 - wine_type_loss: 0.0163 - wine_quality_root_mean_squared_error: 0.5104 - wine_type_accuracy: 0.9961 - val_loss: 0.3450 - val_wine_quality_loss: 0.3190 - val_wine_type_loss: 0.0259 - val_wine_quality_root_mean_squared_error: 0.5648 - val_wine_type_accuracy: 0.9949\n",
            "Epoch 152/180\n",
            "99/99 [==============================] - 0s 3ms/step - loss: 0.2739 - wine_quality_loss: 0.2589 - wine_type_loss: 0.0150 - wine_quality_root_mean_squared_error: 0.5088 - wine_type_accuracy: 0.9978 - val_loss: 0.3369 - val_wine_quality_loss: 0.3109 - val_wine_type_loss: 0.0260 - val_wine_quality_root_mean_squared_error: 0.5576 - val_wine_type_accuracy: 0.9949\n",
            "Epoch 153/180\n",
            "99/99 [==============================] - 0s 3ms/step - loss: 0.2887 - wine_quality_loss: 0.2704 - wine_type_loss: 0.0183 - wine_quality_root_mean_squared_error: 0.5200 - wine_type_accuracy: 0.9967 - val_loss: 0.3364 - val_wine_quality_loss: 0.3104 - val_wine_type_loss: 0.0260 - val_wine_quality_root_mean_squared_error: 0.5572 - val_wine_type_accuracy: 0.9949\n",
            "Epoch 154/180\n",
            "99/99 [==============================] - 0s 3ms/step - loss: 0.2739 - wine_quality_loss: 0.2545 - wine_type_loss: 0.0194 - wine_quality_root_mean_squared_error: 0.5044 - wine_type_accuracy: 0.9965 - val_loss: 0.3423 - val_wine_quality_loss: 0.3162 - val_wine_type_loss: 0.0261 - val_wine_quality_root_mean_squared_error: 0.5623 - val_wine_type_accuracy: 0.9937\n",
            "Epoch 155/180\n",
            "99/99 [==============================] - 0s 3ms/step - loss: 0.2739 - wine_quality_loss: 0.2637 - wine_type_loss: 0.0101 - wine_quality_root_mean_squared_error: 0.5135 - wine_type_accuracy: 0.9965 - val_loss: 0.3444 - val_wine_quality_loss: 0.3185 - val_wine_type_loss: 0.0259 - val_wine_quality_root_mean_squared_error: 0.5643 - val_wine_type_accuracy: 0.9949\n",
            "Epoch 156/180\n",
            "99/99 [==============================] - 0s 3ms/step - loss: 0.2739 - wine_quality_loss: 0.2622 - wine_type_loss: 0.0117 - wine_quality_root_mean_squared_error: 0.5120 - wine_type_accuracy: 0.9979 - val_loss: 0.3381 - val_wine_quality_loss: 0.3122 - val_wine_type_loss: 0.0259 - val_wine_quality_root_mean_squared_error: 0.5588 - val_wine_type_accuracy: 0.9949\n",
            "Epoch 157/180\n",
            "99/99 [==============================] - 0s 3ms/step - loss: 0.2752 - wine_quality_loss: 0.2611 - wine_type_loss: 0.0141 - wine_quality_root_mean_squared_error: 0.5110 - wine_type_accuracy: 0.9976 - val_loss: 0.3434 - val_wine_quality_loss: 0.3174 - val_wine_type_loss: 0.0259 - val_wine_quality_root_mean_squared_error: 0.5634 - val_wine_type_accuracy: 0.9949\n",
            "Epoch 158/180\n",
            "99/99 [==============================] - 0s 3ms/step - loss: 0.2720 - wine_quality_loss: 0.2562 - wine_type_loss: 0.0158 - wine_quality_root_mean_squared_error: 0.5060 - wine_type_accuracy: 0.9968 - val_loss: 0.3427 - val_wine_quality_loss: 0.3167 - val_wine_type_loss: 0.0261 - val_wine_quality_root_mean_squared_error: 0.5627 - val_wine_type_accuracy: 0.9949\n",
            "Epoch 159/180\n",
            "99/99 [==============================] - 0s 3ms/step - loss: 0.2698 - wine_quality_loss: 0.2562 - wine_type_loss: 0.0137 - wine_quality_root_mean_squared_error: 0.5060 - wine_type_accuracy: 0.9959 - val_loss: 0.3471 - val_wine_quality_loss: 0.3211 - val_wine_type_loss: 0.0260 - val_wine_quality_root_mean_squared_error: 0.5667 - val_wine_type_accuracy: 0.9949\n",
            "Epoch 160/180\n",
            "99/99 [==============================] - 0s 3ms/step - loss: 0.2700 - wine_quality_loss: 0.2519 - wine_type_loss: 0.0181 - wine_quality_root_mean_squared_error: 0.5018 - wine_type_accuracy: 0.9961 - val_loss: 0.3354 - val_wine_quality_loss: 0.3094 - val_wine_type_loss: 0.0260 - val_wine_quality_root_mean_squared_error: 0.5562 - val_wine_type_accuracy: 0.9949\n",
            "Epoch 161/180\n",
            "99/99 [==============================] - 0s 3ms/step - loss: 0.2859 - wine_quality_loss: 0.2644 - wine_type_loss: 0.0215 - wine_quality_root_mean_squared_error: 0.5140 - wine_type_accuracy: 0.9943 - val_loss: 0.3365 - val_wine_quality_loss: 0.3105 - val_wine_type_loss: 0.0261 - val_wine_quality_root_mean_squared_error: 0.5572 - val_wine_type_accuracy: 0.9949\n",
            "Epoch 162/180\n",
            "99/99 [==============================] - 0s 3ms/step - loss: 0.2749 - wine_quality_loss: 0.2513 - wine_type_loss: 0.0235 - wine_quality_root_mean_squared_error: 0.5013 - wine_type_accuracy: 0.9957 - val_loss: 0.3416 - val_wine_quality_loss: 0.3155 - val_wine_type_loss: 0.0261 - val_wine_quality_root_mean_squared_error: 0.5617 - val_wine_type_accuracy: 0.9937\n",
            "Epoch 163/180\n",
            "99/99 [==============================] - 0s 3ms/step - loss: 0.2728 - wine_quality_loss: 0.2528 - wine_type_loss: 0.0201 - wine_quality_root_mean_squared_error: 0.5027 - wine_type_accuracy: 0.9958 - val_loss: 0.3480 - val_wine_quality_loss: 0.3217 - val_wine_type_loss: 0.0263 - val_wine_quality_root_mean_squared_error: 0.5671 - val_wine_type_accuracy: 0.9937\n",
            "Epoch 164/180\n",
            "99/99 [==============================] - 0s 3ms/step - loss: 0.2593 - wine_quality_loss: 0.2485 - wine_type_loss: 0.0108 - wine_quality_root_mean_squared_error: 0.4984 - wine_type_accuracy: 0.9978 - val_loss: 0.3389 - val_wine_quality_loss: 0.3127 - val_wine_type_loss: 0.0261 - val_wine_quality_root_mean_squared_error: 0.5592 - val_wine_type_accuracy: 0.9949\n",
            "Epoch 165/180\n",
            "99/99 [==============================] - 0s 3ms/step - loss: 0.2767 - wine_quality_loss: 0.2576 - wine_type_loss: 0.0192 - wine_quality_root_mean_squared_error: 0.5075 - wine_type_accuracy: 0.9949 - val_loss: 0.3358 - val_wine_quality_loss: 0.3100 - val_wine_type_loss: 0.0259 - val_wine_quality_root_mean_squared_error: 0.5567 - val_wine_type_accuracy: 0.9949\n",
            "Epoch 166/180\n",
            "99/99 [==============================] - 0s 3ms/step - loss: 0.2710 - wine_quality_loss: 0.2520 - wine_type_loss: 0.0189 - wine_quality_root_mean_squared_error: 0.5020 - wine_type_accuracy: 0.9952 - val_loss: 0.3428 - val_wine_quality_loss: 0.3170 - val_wine_type_loss: 0.0258 - val_wine_quality_root_mean_squared_error: 0.5630 - val_wine_type_accuracy: 0.9949\n",
            "Epoch 167/180\n",
            "99/99 [==============================] - 0s 3ms/step - loss: 0.2661 - wine_quality_loss: 0.2561 - wine_type_loss: 0.0100 - wine_quality_root_mean_squared_error: 0.5060 - wine_type_accuracy: 0.9976 - val_loss: 0.3411 - val_wine_quality_loss: 0.3153 - val_wine_type_loss: 0.0258 - val_wine_quality_root_mean_squared_error: 0.5615 - val_wine_type_accuracy: 0.9949\n",
            "Epoch 168/180\n",
            "99/99 [==============================] - 0s 4ms/step - loss: 0.2612 - wine_quality_loss: 0.2498 - wine_type_loss: 0.0114 - wine_quality_root_mean_squared_error: 0.4998 - wine_type_accuracy: 0.9973 - val_loss: 0.3440 - val_wine_quality_loss: 0.3183 - val_wine_type_loss: 0.0257 - val_wine_quality_root_mean_squared_error: 0.5642 - val_wine_type_accuracy: 0.9949\n",
            "Epoch 169/180\n",
            "99/99 [==============================] - 0s 2ms/step - loss: 0.2619 - wine_quality_loss: 0.2506 - wine_type_loss: 0.0113 - wine_quality_root_mean_squared_error: 0.5006 - wine_type_accuracy: 0.9974 - val_loss: 0.3357 - val_wine_quality_loss: 0.3101 - val_wine_type_loss: 0.0256 - val_wine_quality_root_mean_squared_error: 0.5569 - val_wine_type_accuracy: 0.9949\n",
            "Epoch 170/180\n",
            "99/99 [==============================] - 0s 2ms/step - loss: 0.2776 - wine_quality_loss: 0.2650 - wine_type_loss: 0.0126 - wine_quality_root_mean_squared_error: 0.5147 - wine_type_accuracy: 0.9967 - val_loss: 0.3372 - val_wine_quality_loss: 0.3115 - val_wine_type_loss: 0.0257 - val_wine_quality_root_mean_squared_error: 0.5581 - val_wine_type_accuracy: 0.9949\n",
            "Epoch 171/180\n",
            "99/99 [==============================] - 0s 3ms/step - loss: 0.2536 - wine_quality_loss: 0.2443 - wine_type_loss: 0.0093 - wine_quality_root_mean_squared_error: 0.4940 - wine_type_accuracy: 0.9984 - val_loss: 0.3336 - val_wine_quality_loss: 0.3080 - val_wine_type_loss: 0.0257 - val_wine_quality_root_mean_squared_error: 0.5549 - val_wine_type_accuracy: 0.9949\n",
            "Epoch 172/180\n",
            "99/99 [==============================] - 0s 3ms/step - loss: 0.2648 - wine_quality_loss: 0.2491 - wine_type_loss: 0.0157 - wine_quality_root_mean_squared_error: 0.4991 - wine_type_accuracy: 0.9962 - val_loss: 0.3338 - val_wine_quality_loss: 0.3080 - val_wine_type_loss: 0.0257 - val_wine_quality_root_mean_squared_error: 0.5550 - val_wine_type_accuracy: 0.9949\n",
            "Epoch 173/180\n",
            "99/99 [==============================] - 0s 2ms/step - loss: 0.2670 - wine_quality_loss: 0.2507 - wine_type_loss: 0.0163 - wine_quality_root_mean_squared_error: 0.5005 - wine_type_accuracy: 0.9972 - val_loss: 0.3454 - val_wine_quality_loss: 0.3197 - val_wine_type_loss: 0.0258 - val_wine_quality_root_mean_squared_error: 0.5654 - val_wine_type_accuracy: 0.9949\n",
            "Epoch 174/180\n",
            "99/99 [==============================] - 0s 3ms/step - loss: 0.2771 - wine_quality_loss: 0.2520 - wine_type_loss: 0.0251 - wine_quality_root_mean_squared_error: 0.5019 - wine_type_accuracy: 0.9959 - val_loss: 0.3418 - val_wine_quality_loss: 0.3159 - val_wine_type_loss: 0.0260 - val_wine_quality_root_mean_squared_error: 0.5620 - val_wine_type_accuracy: 0.9949\n",
            "Epoch 175/180\n",
            "99/99 [==============================] - 0s 2ms/step - loss: 0.2605 - wine_quality_loss: 0.2441 - wine_type_loss: 0.0164 - wine_quality_root_mean_squared_error: 0.4939 - wine_type_accuracy: 0.9973 - val_loss: 0.3387 - val_wine_quality_loss: 0.3127 - val_wine_type_loss: 0.0260 - val_wine_quality_root_mean_squared_error: 0.5592 - val_wine_type_accuracy: 0.9949\n",
            "Epoch 176/180\n",
            "99/99 [==============================] - 0s 2ms/step - loss: 0.2560 - wine_quality_loss: 0.2441 - wine_type_loss: 0.0119 - wine_quality_root_mean_squared_error: 0.4940 - wine_type_accuracy: 0.9969 - val_loss: 0.3448 - val_wine_quality_loss: 0.3190 - val_wine_type_loss: 0.0258 - val_wine_quality_root_mean_squared_error: 0.5648 - val_wine_type_accuracy: 0.9949\n",
            "Epoch 177/180\n",
            "99/99 [==============================] - 0s 2ms/step - loss: 0.2700 - wine_quality_loss: 0.2500 - wine_type_loss: 0.0200 - wine_quality_root_mean_squared_error: 0.5000 - wine_type_accuracy: 0.9950 - val_loss: 0.3409 - val_wine_quality_loss: 0.3150 - val_wine_type_loss: 0.0259 - val_wine_quality_root_mean_squared_error: 0.5612 - val_wine_type_accuracy: 0.9949\n",
            "Epoch 178/180\n",
            "99/99 [==============================] - 0s 3ms/step - loss: 0.2714 - wine_quality_loss: 0.2433 - wine_type_loss: 0.0281 - wine_quality_root_mean_squared_error: 0.4930 - wine_type_accuracy: 0.9938 - val_loss: 0.3325 - val_wine_quality_loss: 0.3067 - val_wine_type_loss: 0.0259 - val_wine_quality_root_mean_squared_error: 0.5538 - val_wine_type_accuracy: 0.9949\n",
            "Epoch 179/180\n",
            "99/99 [==============================] - 0s 2ms/step - loss: 0.2624 - wine_quality_loss: 0.2455 - wine_type_loss: 0.0169 - wine_quality_root_mean_squared_error: 0.4954 - wine_type_accuracy: 0.9960 - val_loss: 0.3377 - val_wine_quality_loss: 0.3119 - val_wine_type_loss: 0.0258 - val_wine_quality_root_mean_squared_error: 0.5584 - val_wine_type_accuracy: 0.9949\n",
            "Epoch 180/180\n",
            "99/99 [==============================] - 0s 3ms/step - loss: 0.2594 - wine_quality_loss: 0.2450 - wine_type_loss: 0.0144 - wine_quality_root_mean_squared_error: 0.4949 - wine_type_accuracy: 0.9969 - val_loss: 0.3485 - val_wine_quality_loss: 0.3227 - val_wine_type_loss: 0.0258 - val_wine_quality_root_mean_squared_error: 0.5681 - val_wine_type_accuracy: 0.9949\n"
          ],
          "name": "stdout"
        }
      ]
    },
    {
      "cell_type": "code",
      "metadata": {
        "colab": {
          "base_uri": "https://localhost:8080/"
        },
        "id": "yAi6Be_0OAd4",
        "outputId": "ff3fbfb5-05b0-4227-c9cc-c2c53ce0cf27"
      },
      "source": [
        "loss, wine_quality_loss, wine_type_loss, wine_quality_rmse, wine_type_accuracy = model.evaluate(x=norm_val_X, y=val_y)\r\n",
        "\r\n",
        "print()\r\n",
        "print(f'loss: {loss}')\r\n",
        "print(f'wine_quality_loss: {wine_quality_loss}')\r\n",
        "print(f'wine_type_loss: {wine_type_loss}')\r\n",
        "print(f'wine_quality_rmse: {wine_quality_rmse}')\r\n",
        "print(f'wine_type_accuracy: {wine_type_accuracy}')"
      ],
      "execution_count": 49,
      "outputs": [
        {
          "output_type": "stream",
          "text": [
            "25/25 [==============================] - 0s 1ms/step - loss: 0.3485 - wine_quality_loss: 0.3227 - wine_type_loss: 0.0258 - wine_quality_root_mean_squared_error: 0.5681 - wine_type_accuracy: 0.9949\n",
            "\n",
            "loss: 0.3484939932823181\n",
            "wine_quality_loss: 0.3227097690105438\n",
            "wine_type_loss: 0.025784170255064964\n",
            "wine_quality_rmse: 0.5680754780769348\n",
            "wine_type_accuracy: 0.9949302673339844\n"
          ],
          "name": "stdout"
        }
      ]
    },
    {
      "cell_type": "markdown",
      "metadata": {
        "id": "cXHkFunsO6gg"
      },
      "source": [
        "**Analyze the Model Performance**\r\n",
        "\r\n",
        "Note that the model has two outputs. The output at index 0 is quality and index 1 is wine type\r\n",
        "\r\n",
        "So, round the quality predictions to the nearest integer."
      ]
    },
    {
      "cell_type": "code",
      "metadata": {
        "id": "xnnYlpICO1AV"
      },
      "source": [
        "predictions = model.predict(norm_test_X)\r\n",
        "quality_pred = predictions[0]\r\n",
        "type_pred = predictions[1]"
      ],
      "execution_count": 50,
      "outputs": []
    },
    {
      "cell_type": "code",
      "metadata": {
        "colab": {
          "base_uri": "https://localhost:8080/"
        },
        "id": "yy33naN6PNDe",
        "outputId": "26451feb-917a-4ff3-a05b-4005e1d4c44b"
      },
      "source": [
        "print(quality_pred[0])\r\n",
        "print(type_pred[0])\r\n",
        "print(type_pred[944])"
      ],
      "execution_count": 51,
      "outputs": [
        {
          "output_type": "stream",
          "text": [
            "[5.553753]\n",
            "[0.00014707]\n",
            "[0.9999964]\n"
          ],
          "name": "stdout"
        }
      ]
    },
    {
      "cell_type": "code",
      "metadata": {
        "id": "pSm25i-6Pog9"
      },
      "source": [
        "\r\n",
        "def plot_metrics(metric_name, title, ylim=5):\r\n",
        "  plt.title(title)\r\n",
        "  plt.ylim(0,ylim)\r\n",
        "  plt.plot(history.history[metric_name],color='blue',label=metric_name)\r\n",
        "  plt.plot(history.history['val_' + metric_name],color='green',label='val_' + metric_name)\r\n",
        "\r\n",
        "def plot_confusion_matrix(y_true, y_pred, title='', labels=[0,1]):\r\n",
        "  cm = confusion_matrix(y_true, y_pred)\r\n",
        "  fig = plt.figure()\r\n",
        "  ax = fig.add_subplot(111)\r\n",
        "  cax = ax.matshow(cm)\r\n",
        "  plt.title('Confusion matrix of the classifier')\r\n",
        "  fig.colorbar(cax)\r\n",
        "  ax.set_xticklabels([''] + labels)\r\n",
        "  ax.set_yticklabels([''] + labels)\r\n",
        "  plt.xlabel('Predicted')\r\n",
        "  plt.ylabel('True')\r\n",
        "  fmt = 'd'\r\n",
        "  thresh = cm.max() / 2.\r\n",
        "  for i, j in itertools.product(range(cm.shape[0]), range(cm.shape[1])):\r\n",
        "        plt.text(j, i, format(cm[i, j], fmt),\r\n",
        "                horizontalalignment=\"center\",\r\n",
        "                color=\"black\" if cm[i, j] > thresh else \"white\")\r\n",
        "  plt.show()\r\n",
        "\r\n",
        "\r\n",
        "def plot_diff(y_true, y_pred, title = '' ):\r\n",
        "  plt.scatter(y_true, y_pred)\r\n",
        "  plt.title(title)\r\n",
        "  plt.xlabel('True Values')\r\n",
        "  plt.ylabel('Predictions')\r\n",
        "  plt.axis('equal')\r\n",
        "  plt.axis('square')\r\n",
        "  plt.plot([-100, 100], [-100, 100])\r\n",
        "  return plt"
      ],
      "execution_count": 52,
      "outputs": []
    },
    {
      "cell_type": "code",
      "metadata": {
        "colab": {
          "base_uri": "https://localhost:8080/",
          "height": 281
        },
        "id": "2_ox5j-_P85u",
        "outputId": "75b8e373-50c1-4f23-a6e3-e7959662e56d"
      },
      "source": [
        "plot_metrics('wine_quality_root_mean_squared_error', 'RMSE', ylim=2)"
      ],
      "execution_count": 53,
      "outputs": [
        {
          "output_type": "display_data",
          "data": {
            "image/png": "[encoded data removed]",
            "text/plain": [
              "<Figure size 432x288 with 1 Axes>"
            ]
          },
          "metadata": {
            "tags": [],
            "needs_background": "light"
          }
        }
      ]
    },
    {
      "cell_type": "code",
      "metadata": {
        "colab": {
          "base_uri": "https://localhost:8080/",
          "height": 281
        },
        "id": "J5vmhT2jP9tz",
        "outputId": "3f30efcb-71e3-470a-c054-ea5f5458ed1c"
      },
      "source": [
        "plot_metrics('wine_type_loss', 'Wine Type Loss', ylim=0.2)"
      ],
      "execution_count": 54,
      "outputs": [
        {
          "output_type": "display_data",
          "data": {
            "image/png": "[encoded data removed]",
            "text/plain": [
              "<Figure size 432x288 with 1 Axes>"
            ]
          },
          "metadata": {
            "tags": [],
            "needs_background": "light"
          }
        }
      ]
    },
    {
      "cell_type": "code",
      "metadata": {
        "colab": {
          "base_uri": "https://localhost:8080/",
          "height": 289
        },
        "id": "Qz-ybYDPQCet",
        "outputId": "ccc01b56-19b6-4257-9cc0-3b0b26819608"
      },
      "source": [
        "plot_confusion_matrix(test_y[1], np.round(type_pred), title='Wine Type', labels = [0, 1])"
      ],
      "execution_count": 56,
      "outputs": [
        {
          "output_type": "display_data",
          "data": {
            "image/png": "[encoded data removed]",
            "text/plain": [
              "<Figure size 432x288 with 2 Axes>"
            ]
          },
          "metadata": {
            "tags": [],
            "needs_background": "light"
          }
        }
      ]
    },
    {
      "cell_type": "code",
      "metadata": {
        "colab": {
          "base_uri": "https://localhost:8080/",
          "height": 295
        },
        "id": "PqwFMi2FQT1W",
        "outputId": "dca54846-7a1f-4f5e-9783-b37d662aa476"
      },
      "source": [
        "scatter_plot = plot_diff(test_y[0], quality_pred, title='Type')"
      ],
      "execution_count": 58,
      "outputs": [
        {
          "output_type": "display_data",
          "data": {
            "image/png": "[encoded data removed]",
            "text/plain": [
              "<Figure size 432x288 with 1 Axes>"
            ]
          },
          "metadata": {
            "tags": [],
            "needs_background": "light"
          }
        }
      ]
    }
  ]
}