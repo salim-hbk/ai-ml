{
  "nbformat": 4,
  "nbformat_minor": 0,
  "metadata": {
    "colab": {
      "name": "TPU_DistributedModel.ipynb",
      "provenance": [],
      "collapsed_sections": [],
      "authorship_tag": "ABX9TyN+0tqAzp99mY55jXly+OIl",
      "include_colab_link": true
    },
    "kernelspec": {
      "name": "python3",
      "display_name": "Python 3"
    },
    "accelerator": "TPU"
  },
  "cells": [
    {
      "cell_type": "markdown",
      "metadata": {
        "id": "view-in-github",
        "colab_type": "text"
      },
      "source": [
        "<a href=\"https://colab.research.google.com/github/salim-hbk/ai-ml/blob/main/TPU_DistributedModel.ipynb\" target=\"_parent\"><img src=\"https://colab.research.google.com/assets/colab-badge.svg\" alt=\"Open In Colab\"/></a>"
      ]
    },
    {
      "cell_type": "code",
      "metadata": {
        "id": "IhH2_RNYMpMr",
        "colab": {
          "base_uri": "https://localhost:8080/"
        },
        "outputId": "60620cb7-d4c1-4535-b920-0e7f1c42eeba"
      },
      "source": [
        "import os\r\n",
        "import random\r\n",
        "try:\r\n",
        "  # %tensorflow_version only exists in Colab.\r\n",
        "  %tensorflow_version 2.x\r\n",
        "except Exception:\r\n",
        "  pass\r\n",
        "\r\n",
        "import tensorflow as tf\r\n",
        "print(\"TensorFlow version \" + tf.__version__)\r\n",
        "AUTO = tf.data.experimental.AUTOTUNE"
      ],
      "execution_count": 55,
      "outputs": [
        {
          "output_type": "stream",
          "text": [
            "TensorFlow version 2.4.0\n"
          ],
          "name": "stdout"
        }
      ]
    },
    {
      "cell_type": "code",
      "metadata": {
        "colab": {
          "base_uri": "https://localhost:8080/"
        },
        "id": "IcsOwOvONy5A",
        "outputId": "e48c123f-7612-43dc-9ea0-5074a5469ff5"
      },
      "source": [
        "tpu_address = 'grpc://' + os.environ['COLAB_TPU_ADDR']\r\n",
        "tpu = tf.distribute.cluster_resolver.TPUClusterResolver(tpu_address)\r\n",
        "tf.config.experimental_connect_to_cluster(tpu)\r\n",
        "tf.tpu.experimental.initialize_tpu_system(tpu)\r\n",
        "strategy = tf.distribute.experimental.TPUStrategy(tpu)\r\n",
        "print('Running on TPU ', tpu.cluster_spec().as_dict()['worker']) \r\n",
        "print(\"Number of accelerators: \", strategy.num_replicas_in_sync)"
      ],
      "execution_count": 43,
      "outputs": [
        {
          "output_type": "stream",
          "text": [
            "WARNING:tensorflow:TPU system grpc://10.23.92.146:8470 has already been initialized. Reinitializing the TPU can cause previously created variables on TPU to be lost.\n"
          ],
          "name": "stdout"
        },
        {
          "output_type": "stream",
          "text": [
            "WARNING:tensorflow:TPU system grpc://10.23.92.146:8470 has already been initialized. Reinitializing the TPU can cause previously created variables on TPU to be lost.\n"
          ],
          "name": "stderr"
        },
        {
          "output_type": "stream",
          "text": [
            "INFO:tensorflow:Initializing the TPU system: grpc://10.23.92.146:8470\n"
          ],
          "name": "stdout"
        },
        {
          "output_type": "stream",
          "text": [
            "INFO:tensorflow:Initializing the TPU system: grpc://10.23.92.146:8470\n"
          ],
          "name": "stderr"
        },
        {
          "output_type": "stream",
          "text": [
            "INFO:tensorflow:Clearing out eager caches\n"
          ],
          "name": "stdout"
        },
        {
          "output_type": "stream",
          "text": [
            "INFO:tensorflow:Clearing out eager caches\n"
          ],
          "name": "stderr"
        },
        {
          "output_type": "stream",
          "text": [
            "INFO:tensorflow:Finished initializing TPU system.\n"
          ],
          "name": "stdout"
        },
        {
          "output_type": "stream",
          "text": [
            "INFO:tensorflow:Finished initializing TPU system.\n",
            "WARNING:absl:`tf.distribute.experimental.TPUStrategy` is deprecated, please use  the non experimental symbol `tf.distribute.TPUStrategy` instead.\n"
          ],
          "name": "stderr"
        },
        {
          "output_type": "stream",
          "text": [
            "INFO:tensorflow:Found TPU system:\n"
          ],
          "name": "stdout"
        },
        {
          "output_type": "stream",
          "text": [
            "INFO:tensorflow:Found TPU system:\n"
          ],
          "name": "stderr"
        },
        {
          "output_type": "stream",
          "text": [
            "INFO:tensorflow:*** Num TPU Cores: 8\n"
          ],
          "name": "stdout"
        },
        {
          "output_type": "stream",
          "text": [
            "INFO:tensorflow:*** Num TPU Cores: 8\n"
          ],
          "name": "stderr"
        },
        {
          "output_type": "stream",
          "text": [
            "INFO:tensorflow:*** Num TPU Workers: 1\n"
          ],
          "name": "stdout"
        },
        {
          "output_type": "stream",
          "text": [
            "INFO:tensorflow:*** Num TPU Workers: 1\n"
          ],
          "name": "stderr"
        },
        {
          "output_type": "stream",
          "text": [
            "INFO:tensorflow:*** Num TPU Cores Per Worker: 8\n"
          ],
          "name": "stdout"
        },
        {
          "output_type": "stream",
          "text": [
            "INFO:tensorflow:*** Num TPU Cores Per Worker: 8\n"
          ],
          "name": "stderr"
        },
        {
          "output_type": "stream",
          "text": [
            "INFO:tensorflow:*** Available Device: _DeviceAttributes(/job:localhost/replica:0/task:0/device:CPU:0, CPU, 0, 0)\n"
          ],
          "name": "stdout"
        },
        {
          "output_type": "stream",
          "text": [
            "INFO:tensorflow:*** Available Device: _DeviceAttributes(/job:localhost/replica:0/task:0/device:CPU:0, CPU, 0, 0)\n"
          ],
          "name": "stderr"
        },
        {
          "output_type": "stream",
          "text": [
            "INFO:tensorflow:*** Available Device: _DeviceAttributes(/job:worker/replica:0/task:0/device:CPU:0, CPU, 0, 0)\n"
          ],
          "name": "stdout"
        },
        {
          "output_type": "stream",
          "text": [
            "INFO:tensorflow:*** Available Device: _DeviceAttributes(/job:worker/replica:0/task:0/device:CPU:0, CPU, 0, 0)\n"
          ],
          "name": "stderr"
        },
        {
          "output_type": "stream",
          "text": [
            "INFO:tensorflow:*** Available Device: _DeviceAttributes(/job:worker/replica:0/task:0/device:TPU:0, TPU, 0, 0)\n"
          ],
          "name": "stdout"
        },
        {
          "output_type": "stream",
          "text": [
            "INFO:tensorflow:*** Available Device: _DeviceAttributes(/job:worker/replica:0/task:0/device:TPU:0, TPU, 0, 0)\n"
          ],
          "name": "stderr"
        },
        {
          "output_type": "stream",
          "text": [
            "INFO:tensorflow:*** Available Device: _DeviceAttributes(/job:worker/replica:0/task:0/device:TPU:1, TPU, 0, 0)\n"
          ],
          "name": "stdout"
        },
        {
          "output_type": "stream",
          "text": [
            "INFO:tensorflow:*** Available Device: _DeviceAttributes(/job:worker/replica:0/task:0/device:TPU:1, TPU, 0, 0)\n"
          ],
          "name": "stderr"
        },
        {
          "output_type": "stream",
          "text": [
            "INFO:tensorflow:*** Available Device: _DeviceAttributes(/job:worker/replica:0/task:0/device:TPU:2, TPU, 0, 0)\n"
          ],
          "name": "stdout"
        },
        {
          "output_type": "stream",
          "text": [
            "INFO:tensorflow:*** Available Device: _DeviceAttributes(/job:worker/replica:0/task:0/device:TPU:2, TPU, 0, 0)\n"
          ],
          "name": "stderr"
        },
        {
          "output_type": "stream",
          "text": [
            "INFO:tensorflow:*** Available Device: _DeviceAttributes(/job:worker/replica:0/task:0/device:TPU:3, TPU, 0, 0)\n"
          ],
          "name": "stdout"
        },
        {
          "output_type": "stream",
          "text": [
            "INFO:tensorflow:*** Available Device: _DeviceAttributes(/job:worker/replica:0/task:0/device:TPU:3, TPU, 0, 0)\n"
          ],
          "name": "stderr"
        },
        {
          "output_type": "stream",
          "text": [
            "INFO:tensorflow:*** Available Device: _DeviceAttributes(/job:worker/replica:0/task:0/device:TPU:4, TPU, 0, 0)\n"
          ],
          "name": "stdout"
        },
        {
          "output_type": "stream",
          "text": [
            "INFO:tensorflow:*** Available Device: _DeviceAttributes(/job:worker/replica:0/task:0/device:TPU:4, TPU, 0, 0)\n"
          ],
          "name": "stderr"
        },
        {
          "output_type": "stream",
          "text": [
            "INFO:tensorflow:*** Available Device: _DeviceAttributes(/job:worker/replica:0/task:0/device:TPU:5, TPU, 0, 0)\n"
          ],
          "name": "stdout"
        },
        {
          "output_type": "stream",
          "text": [
            "INFO:tensorflow:*** Available Device: _DeviceAttributes(/job:worker/replica:0/task:0/device:TPU:5, TPU, 0, 0)\n"
          ],
          "name": "stderr"
        },
        {
          "output_type": "stream",
          "text": [
            "INFO:tensorflow:*** Available Device: _DeviceAttributes(/job:worker/replica:0/task:0/device:TPU:6, TPU, 0, 0)\n"
          ],
          "name": "stdout"
        },
        {
          "output_type": "stream",
          "text": [
            "INFO:tensorflow:*** Available Device: _DeviceAttributes(/job:worker/replica:0/task:0/device:TPU:6, TPU, 0, 0)\n"
          ],
          "name": "stderr"
        },
        {
          "output_type": "stream",
          "text": [
            "INFO:tensorflow:*** Available Device: _DeviceAttributes(/job:worker/replica:0/task:0/device:TPU:7, TPU, 0, 0)\n"
          ],
          "name": "stdout"
        },
        {
          "output_type": "stream",
          "text": [
            "INFO:tensorflow:*** Available Device: _DeviceAttributes(/job:worker/replica:0/task:0/device:TPU:7, TPU, 0, 0)\n"
          ],
          "name": "stderr"
        },
        {
          "output_type": "stream",
          "text": [
            "INFO:tensorflow:*** Available Device: _DeviceAttributes(/job:worker/replica:0/task:0/device:TPU_SYSTEM:0, TPU_SYSTEM, 0, 0)\n"
          ],
          "name": "stdout"
        },
        {
          "output_type": "stream",
          "text": [
            "INFO:tensorflow:*** Available Device: _DeviceAttributes(/job:worker/replica:0/task:0/device:TPU_SYSTEM:0, TPU_SYSTEM, 0, 0)\n"
          ],
          "name": "stderr"
        },
        {
          "output_type": "stream",
          "text": [
            "INFO:tensorflow:*** Available Device: _DeviceAttributes(/job:worker/replica:0/task:0/device:XLA_CPU:0, XLA_CPU, 0, 0)\n"
          ],
          "name": "stdout"
        },
        {
          "output_type": "stream",
          "text": [
            "INFO:tensorflow:*** Available Device: _DeviceAttributes(/job:worker/replica:0/task:0/device:XLA_CPU:0, XLA_CPU, 0, 0)\n"
          ],
          "name": "stderr"
        },
        {
          "output_type": "stream",
          "text": [
            "Running on TPU  ['10.23.92.146:8470']\n",
            "Number of accelerators:  8\n"
          ],
          "name": "stdout"
        }
      ]
    },
    {
      "cell_type": "code",
      "metadata": {
        "id": "FyQ55IWjPAOQ"
      },
      "source": [
        "(train_x, train_y), (test_x, test_y) = tf.keras.datasets.fashion_mnist.load_data()\r\n",
        "train_x = tf.cast(tf.reshape(train_x, [-1, 28,28,1]), 'float32')/255.\r\n",
        "test_x  = tf.cast(tf.reshape(test_x, [-1, 28,28,1]), 'float32')/255."
      ],
      "execution_count": 56,
      "outputs": []
    },
    {
      "cell_type": "code",
      "metadata": {
        "colab": {
          "base_uri": "https://localhost:8080/"
        },
        "id": "G45seMMegHHG",
        "outputId": "ea4093e7-7802-4d54-8f74-9e0fb5caa646"
      },
      "source": [
        "len(train_x)"
      ],
      "execution_count": 57,
      "outputs": [
        {
          "output_type": "execute_result",
          "data": {
            "text/plain": [
              "60000"
            ]
          },
          "metadata": {
            "tags": []
          },
          "execution_count": 57
        }
      ]
    },
    {
      "cell_type": "code",
      "metadata": {
        "id": "umfhvwnRRFmn"
      },
      "source": [
        "BATCH_SIZE = 64\r\n",
        "GLOBAL_BATCH_SIZE = BATCH_SIZE * strategy.num_replicas_in_sync\r\n",
        "train_data = tf.data.Dataset.from_tensor_slices((train_x, train_y)).shuffle(len(train_x)).batch(GLOBAL_BATCH_SIZE, drop_remainder=False)\r\n",
        "test_data = tf.data.Dataset.from_tensor_slices((test_x, test_y)).batch(GLOBAL_BATCH_SIZE, drop_remainder=False)\r\n"
      ],
      "execution_count": 64,
      "outputs": []
    },
    {
      "cell_type": "code",
      "metadata": {
        "id": "GUx0j6IgbbQJ"
      },
      "source": [
        "dist_train_data = strategy.experimental_distribute_dataset(train_data)\r\n",
        "dist_test_data = strategy.experimental_distribute_dataset(test_data)"
      ],
      "execution_count": 65,
      "outputs": []
    },
    {
      "cell_type": "code",
      "metadata": {
        "id": "ilVb2WyZSgeQ"
      },
      "source": [
        "def base_model():\r\n",
        "  input = tf.keras.layers.Input(shape=[28,28,1,])\r\n",
        "  x = tf.keras.layers.Conv2D(32, 3, activation='relu')(input)\r\n",
        "  x = tf.keras.layers.MaxPooling2D()(x)\r\n",
        "  x = tf.keras.layers.Conv2D(64, 3, activation='relu')(x)\r\n",
        "  x = tf.keras.layers.MaxPooling2D()(x)\r\n",
        "  x = tf.keras.layers.Flatten()(x)\r\n",
        "  x = tf.keras.layers.Dense(64, activation='relu')(x)\r\n",
        "  output = tf.keras.layers.Dense(10, activation='softmax')(x)\r\n",
        "  model = tf.keras.models.Model(inputs=input, outputs=output)\r\n",
        "  optimizer = tf.keras.optimizers.Adam()\r\n",
        "  return model"
      ],
      "execution_count": 66,
      "outputs": []
    },
    {
      "cell_type": "code",
      "metadata": {
        "id": "C1SXiSTzRmuZ"
      },
      "source": [
        "with strategy.scope():\r\n",
        "  model = base_model()\r\n",
        "  loss_object = tf.keras.losses.SparseCategoricalCrossentropy(from_logits=True, reduction=tf.keras.losses.Reduction.NONE)\r\n",
        "\r\n",
        "  def compute_loss(x, y, model):\r\n",
        "    y_hat = model(x)\r\n",
        "    persample_loss = loss_object(y, y_hat)\r\n",
        "    return tf.nn.compute_average_loss(persample_loss, global_batch_size=GLOBAL_BATCH_SIZE), y_hat\r\n",
        "\r\n",
        "  test_loss = tf.keras.metrics.Mean(name='test_loss')\r\n",
        "\r\n",
        "  train_accuracy = tf.keras.metrics.SparseCategoricalAccuracy()\r\n",
        "  test_accuracy = tf.keras.metrics.SparseCategoricalAccuracy()\r\n",
        "  optimizer = tf.keras.optimizers.Adam()"
      ],
      "execution_count": 74,
      "outputs": []
    },
    {
      "cell_type": "code",
      "metadata": {
        "id": "m-5MAK-ZWwna"
      },
      "source": [
        "@tf.function\r\n",
        "def distributed_training(dataset):\r\n",
        "  loss = strategy.run(train_step, args=(dataset,))\r\n",
        "  return strategy.reduce(tf.distribute.ReduceOp.SUM, loss, axis=None)\r\n",
        "\r\n",
        "@tf.function\r\n",
        "def distributed_testing(dataset):\r\n",
        "  return strategy.run(test_step, args=(dataset,))\r\n",
        "\r\n",
        "\r\n",
        "def train_step(dataset):\r\n",
        "  x, y = dataset\r\n",
        "  with tf.GradientTape() as tape:\r\n",
        "    loss, y_hat = compute_loss(x, y, model)\r\n",
        "  gradient = tape.gradient(loss, model.trainable_variables)\r\n",
        "  optimizer.apply_gradients(zip(gradient, model.trainable_variables))\r\n",
        "  train_accuracy.update_state(y, y_hat)\r\n",
        "  return loss\r\n",
        "\r\n",
        "\r\n",
        "def test_step(dataset):\r\n",
        "  x, y = dataset\r\n",
        "  y_hat = model(x)\r\n",
        "  loss = loss_object(y, y_hat)\r\n",
        "  test_loss.update_state(loss)\r\n",
        "  test_accuracy.update_state(y, y_hat)"
      ],
      "execution_count": 75,
      "outputs": []
    },
    {
      "cell_type": "code",
      "metadata": {
        "colab": {
          "base_uri": "https://localhost:8080/"
        },
        "id": "DPQX921HZ4VP",
        "outputId": "87e04f8b-a074-4228-8346-46a1ef8f2a03"
      },
      "source": [
        "epochs = 5\r\n",
        "\r\n",
        "with strategy.scope():\r\n",
        "  for epoch in range(epochs):\r\n",
        "    train_loss = 0.\r\n",
        "    batch_num = 0\r\n",
        "\r\n",
        "    for batch in dist_train_data:\r\n",
        "      train_loss += distributed_training(batch)\r\n",
        "      batch_num +=1\r\n",
        "    train_loss= train_loss/ batch_num\r\n",
        "\r\n",
        "    for batch in dist_test_data:\r\n",
        "      distributed_testing(batch)\r\n",
        "\r\n",
        "    template = (\"Epoch {}, Loss: {:.2f}, Accuracy: {:.2f}, Test Loss: {:.2f}, \"\r\n",
        "                  \"Test Accuracy: {:.2f}\")\r\n",
        "    print (template.format(epoch+1, train_loss,\r\n",
        "                            train_accuracy.result()*100, test_loss.result() / strategy.num_replicas_in_sync,\r\n",
        "                            test_accuracy.result()*100))\r\n",
        "    \r\n",
        "    train_accuracy.reset_states()\r\n",
        "    test_loss.reset_states()\r\n",
        "    test_accuracy.reset_states()\r\n",
        "\r\n"
      ],
      "execution_count": 76,
      "outputs": [
        {
          "output_type": "stream",
          "text": [
            "Epoch 1, Loss: 0.80, Accuracy: 72.02, Test Loss: 0.07, Test Accuracy: 77.83\n",
            "Epoch 2, Loss: 0.46, Accuracy: 83.42, Test Loss: 0.05, Test Accuracy: 84.61\n",
            "Epoch 3, Loss: 0.39, Accuracy: 86.10, Test Loss: 0.05, Test Accuracy: 84.11\n",
            "Epoch 4, Loss: 0.36, Accuracy: 86.98, Test Loss: 0.05, Test Accuracy: 86.80\n",
            "Epoch 5, Loss: 0.34, Accuracy: 87.92, Test Loss: 0.04, Test Accuracy: 87.17\n"
          ],
          "name": "stdout"
        }
      ]
    }
  ]
}