{
  "nbformat": 4,
  "nbformat_minor": 0,
  "metadata": {
    "colab": {
      "name": "Custom_Loss_Parameterized.ipynb",
      "provenance": [],
      "authorship_tag": "ABX9TyPe52FIBIIRPeJ+4chuNBsb",
      "include_colab_link": true
    },
    "kernelspec": {
      "name": "python3",
      "display_name": "Python 3"
    }
  },
  "cells": [
    {
      "cell_type": "markdown",
      "metadata": {
        "id": "view-in-github",
        "colab_type": "text"
      },
      "source": [
        "<a href=\"https://colab.research.google.com/github/salim-hbk/ai-ml/blob/main/Custom_Loss_Parameterized.ipynb\" target=\"_parent\"><img src=\"https://colab.research.google.com/assets/colab-badge.svg\" alt=\"Open In Colab\"/></a>"
      ]
    },
    {
      "cell_type": "markdown",
      "metadata": {
        "id": "bxdNf6GVfyhP"
      },
      "source": [
        "There are certain cases you might be needed to implement custom loss functions. We will demonstrate here implemeent the custom loss function called Huber Loss"
      ]
    },
    {
      "cell_type": "code",
      "metadata": {
        "id": "E4zoUOs2gCxh"
      },
      "source": [
        "import tensorflow as tf\r\n",
        "import numpy as np"
      ],
      "execution_count": 19,
      "outputs": []
    },
    {
      "cell_type": "code",
      "metadata": {
        "id": "st8TzNnMgHoR"
      },
      "source": [
        "def linear_function(x=np.array([])):\r\n",
        "  return (x*2)-1"
      ],
      "execution_count": 20,
      "outputs": []
    },
    {
      "cell_type": "code",
      "metadata": {
        "id": "UH_uKhGsgeP3"
      },
      "source": [
        "x = np.array([-2., -1., 1., 2.,3. ,5.,7., 8.,9. ,11., 12., 15.])\r\n",
        "y = linear_function(x)"
      ],
      "execution_count": 21,
      "outputs": []
    },
    {
      "cell_type": "code",
      "metadata": {
        "id": "dgjUam_mgtpw"
      },
      "source": [
        "def huber_loss(y_true, y_hat):\r\n",
        "  delta = 1\r\n",
        "  error = y_true - y_hat\r\n",
        "  is_small_error = tf.abs(error) <= delta\r\n",
        "  small_loss = tf.square(error) /2\r\n",
        "  big_loss = delta * (tf.abs(error) - (0.5*delta) )\r\n",
        "  return tf.where(is_small_error, small_loss, big_loss) "
      ],
      "execution_count": 22,
      "outputs": []
    },
    {
      "cell_type": "code",
      "metadata": {
        "id": "o8PplxuLiFc_"
      },
      "source": [
        "model = tf.keras.Sequential()\r\n",
        "model.add(tf.keras.layers.Dense(1, input_shape=[1]))"
      ],
      "execution_count": 23,
      "outputs": []
    },
    {
      "cell_type": "code",
      "metadata": {
        "colab": {
          "base_uri": "https://localhost:8080/"
        },
        "id": "X8WTXFtximHC",
        "outputId": "c8e310ff-4ac3-4fdd-96bc-e7617c94275d"
      },
      "source": [
        "model.compile(optimizer='sgd', loss='mse')\r\n",
        "model.fit(x, y, epochs=600, verbose=0)"
      ],
      "execution_count": 24,
      "outputs": [
        {
          "output_type": "execute_result",
          "data": {
            "text/plain": [
              "<tensorflow.python.keras.callbacks.History at 0x7f7f02cc3c50>"
            ]
          },
          "metadata": {
            "tags": []
          },
          "execution_count": 24
        }
      ]
    },
    {
      "cell_type": "code",
      "metadata": {
        "colab": {
          "base_uri": "https://localhost:8080/"
        },
        "id": "eI_joBq4i8NZ",
        "outputId": "64a816ed-92d7-49f3-eeb3-68f9bdd748a8"
      },
      "source": [
        "new_val = np.array([55])\r\n",
        "print('Real value  {}'.format(linear_function(new_val)))\r\n",
        "print('Predicted value {}'.format(model.predict(new_val)))"
      ],
      "execution_count": 25,
      "outputs": [
        {
          "output_type": "stream",
          "text": [
            "Real value  [109]\n",
            "WARNING:tensorflow:6 out of the last 6 calls to <function Model.make_predict_function.<locals>.predict_function at 0x7f7f03e42bf8> triggered tf.function retracing. Tracing is expensive and the excessive number of tracings could be due to (1) creating @tf.function repeatedly in a loop, (2) passing tensors with different shapes, (3) passing Python objects instead of tensors. For (1), please define your @tf.function outside of the loop. For (2), @tf.function has experimental_relax_shapes=True option that relaxes argument shapes that can avoid unnecessary retracing. For (3), please refer to https://www.tensorflow.org/guide/function#controlling_retracing and https://www.tensorflow.org/api_docs/python/tf/function for  more details.\n",
            "Predicted value [[108.97474]]\n"
          ],
          "name": "stdout"
        }
      ]
    },
    {
      "cell_type": "code",
      "metadata": {
        "colab": {
          "base_uri": "https://localhost:8080/"
        },
        "id": "t8ux9nlYjvuO",
        "outputId": "1c1dab40-69bc-42a5-979b-fa3300e6dbf0"
      },
      "source": [
        "model.compile(optimizer='sgd', loss=huber_loss)\r\n",
        "model.fit(x, y, epochs=600, verbose=0)\r\n",
        "\r\n",
        "new_val = np.array([55])\r\n",
        "print('Real value  {}'.format(linear_function(new_val)))\r\n",
        "print('Predicted value {}'.format(model.predict(new_val)))"
      ],
      "execution_count": 26,
      "outputs": [
        {
          "output_type": "stream",
          "text": [
            "Real value  [109]\n",
            "WARNING:tensorflow:7 out of the last 7 calls to <function Model.make_predict_function.<locals>.predict_function at 0x7f7f0699da60> triggered tf.function retracing. Tracing is expensive and the excessive number of tracings could be due to (1) creating @tf.function repeatedly in a loop, (2) passing tensors with different shapes, (3) passing Python objects instead of tensors. For (1), please define your @tf.function outside of the loop. For (2), @tf.function has experimental_relax_shapes=True option that relaxes argument shapes that can avoid unnecessary retracing. For (3), please refer to https://www.tensorflow.org/guide/function#controlling_retracing and https://www.tensorflow.org/api_docs/python/tf/function for  more details.\n",
            "Predicted value [[108.99815]]\n"
          ],
          "name": "stdout"
        }
      ]
    },
    {
      "cell_type": "markdown",
      "metadata": {
        "id": "2wMbbP4apSn3"
      },
      "source": [
        "Delta is hyper parameter should allowed to used to tune it.\r\n"
      ]
    },
    {
      "cell_type": "code",
      "metadata": {
        "id": "lclYQbpXpQLD"
      },
      "source": [
        "def arg_huber_loss(delta=1):\r\n",
        "  def huber_loss(y_true, y_hat):\r\n",
        "    delta = 1\r\n",
        "    error = y_true - y_hat\r\n",
        "    is_small_error = tf.abs(error) <= delta\r\n",
        "    small_loss = tf.square(error) /2\r\n",
        "    big_loss = delta * (tf.abs(error) - (0.5*delta) )\r\n",
        "    return tf.where(is_small_error, small_loss, big_loss) \r\n",
        "  return huber_loss"
      ],
      "execution_count": 27,
      "outputs": []
    },
    {
      "cell_type": "code",
      "metadata": {
        "colab": {
          "base_uri": "https://localhost:8080/"
        },
        "id": "cW3IFAUVppD2",
        "outputId": "8872e9f5-4683-4adb-ce70-609e006338a6"
      },
      "source": [
        "model.compile(optimizer='sgd', loss=arg_huber_loss(delta=1.02))\r\n",
        "model.fit(x, y, epochs=600, verbose=0)\r\n",
        "\r\n",
        "new_val = np.array([55])\r\n",
        "print('Real value  {}'.format(linear_function(new_val)))\r\n",
        "print('Predicted value {}'.format(model.predict(new_val)))"
      ],
      "execution_count": 28,
      "outputs": [
        {
          "output_type": "stream",
          "text": [
            "Real value  [109]\n",
            "WARNING:tensorflow:8 out of the last 8 calls to <function Model.make_predict_function.<locals>.predict_function at 0x7f7f03d48f28> triggered tf.function retracing. Tracing is expensive and the excessive number of tracings could be due to (1) creating @tf.function repeatedly in a loop, (2) passing tensors with different shapes, (3) passing Python objects instead of tensors. For (1), please define your @tf.function outside of the loop. For (2), @tf.function has experimental_relax_shapes=True option that relaxes argument shapes that can avoid unnecessary retracing. For (3), please refer to https://www.tensorflow.org/guide/function#controlling_retracing and https://www.tensorflow.org/api_docs/python/tf/function for  more details.\n",
            "Predicted value [[108.99986]]\n"
          ],
          "name": "stdout"
        }
      ]
    },
    {
      "cell_type": "code",
      "metadata": {
        "id": "igD8g1jFqh08"
      },
      "source": [
        "from tensorflow.keras.losses import Loss\r\n",
        "class MyHuberLoss(Loss):\r\n",
        "  delta=1\r\n",
        "\r\n",
        "  def __init__(self, delta=1):\r\n",
        "    super().__init__()\r\n",
        "    self.delta = delta\r\n",
        "\r\n",
        "  def call(self, y_true, y_hat):\r\n",
        "    error = y_true - y_hat\r\n",
        "    is_small_error = tf.abs(error) <= self.delta\r\n",
        "    small_loss = tf.square(error) /2\r\n",
        "    big_loss = self.delta * (tf.abs(error) - (0.5* self.delta) )\r\n",
        "    return tf.where(is_small_error, small_loss, big_loss)"
      ],
      "execution_count": 36,
      "outputs": []
    },
    {
      "cell_type": "code",
      "metadata": {
        "colab": {
          "base_uri": "https://localhost:8080/"
        },
        "id": "wd3HvQrEr0TR",
        "outputId": "de9c5d2b-7bd5-47d1-e8dc-8733a957ac60"
      },
      "source": [
        "model.compile(optimizer='sgd', loss=MyHuberLoss())\r\n",
        "model.fit(x, y, epochs=600, verbose=0)\r\n",
        "\r\n",
        "new_val = np.array([55])\r\n",
        "print('Real value  {}'.format(linear_function(new_val)))\r\n",
        "print('Predicted value {}'.format(model.predict(new_val)))"
      ],
      "execution_count": 40,
      "outputs": [
        {
          "output_type": "stream",
          "text": [
            "Real value  [109]\n",
            "WARNING:tensorflow:10 out of the last 10 calls to <function Model.make_predict_function.<locals>.predict_function at 0x7f7efd8e8a60> triggered tf.function retracing. Tracing is expensive and the excessive number of tracings could be due to (1) creating @tf.function repeatedly in a loop, (2) passing tensors with different shapes, (3) passing Python objects instead of tensors. For (1), please define your @tf.function outside of the loop. For (2), @tf.function has experimental_relax_shapes=True option that relaxes argument shapes that can avoid unnecessary retracing. For (3), please refer to https://www.tensorflow.org/guide/function#controlling_retracing and https://www.tensorflow.org/api_docs/python/tf/function for  more details.\n",
            "Predicted value [[108.99997]]\n"
          ],
          "name": "stdout"
        }
      ]
    }
  ]
}